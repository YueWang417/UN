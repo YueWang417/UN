{
 "cells": [
  {
   "cell_type": "code",
   "execution_count": 37,
   "metadata": {},
   "outputs": [
    {
     "data": {
      "text/plain": [
       "True"
      ]
     },
     "execution_count": 37,
     "metadata": {},
     "output_type": "execute_result"
    }
   ],
   "source": [
    "#pip install tradingeconomics\n",
    "import matplotlib.pyplot as plt\n",
    "import numpy as np\n",
    "import pandas as pd\n",
    "import tradingeconomics as te\n",
    "from dotenv import load_dotenv\n",
    "import plotly.express as px\n",
    "from IPython.display import Image\n",
    "import os\n",
    "\n",
    "\n",
    "api_key = os.getenv('TRADING_ECONOMICS_API_KEY')\n",
    "te.login(api_key)\n",
    "load_dotenv() "
   ]
  },
  {
   "cell_type": "markdown",
   "metadata": {},
   "source": [
    "Data Exploratory"
   ]
  },
  {
   "cell_type": "code",
   "execution_count": 45,
   "metadata": {},
   "outputs": [
    {
     "data": {
      "text/html": [
       "<div>\n",
       "<style scoped>\n",
       "    .dataframe tbody tr th:only-of-type {\n",
       "        vertical-align: middle;\n",
       "    }\n",
       "\n",
       "    .dataframe tbody tr th {\n",
       "        vertical-align: top;\n",
       "    }\n",
       "\n",
       "    .dataframe thead th {\n",
       "        text-align: right;\n",
       "    }\n",
       "</style>\n",
       "<table border=\"1\" class=\"dataframe\">\n",
       "  <thead>\n",
       "    <tr style=\"text-align: right;\">\n",
       "      <th></th>\n",
       "      <th>Symbol</th>\n",
       "      <th>Ticker</th>\n",
       "      <th>Name</th>\n",
       "      <th>Country</th>\n",
       "      <th>Date</th>\n",
       "      <th>State</th>\n",
       "      <th>Last</th>\n",
       "      <th>Close</th>\n",
       "      <th>CloseDate</th>\n",
       "      <th>Group</th>\n",
       "      <th>...</th>\n",
       "      <th>yesterday</th>\n",
       "      <th>lastWeek</th>\n",
       "      <th>lastMonth</th>\n",
       "      <th>lastYear</th>\n",
       "      <th>startYear</th>\n",
       "      <th>decimals</th>\n",
       "      <th>unit</th>\n",
       "      <th>frequency</th>\n",
       "      <th>StartDate</th>\n",
       "      <th>LastUpdate</th>\n",
       "    </tr>\n",
       "  </thead>\n",
       "  <tbody>\n",
       "    <tr>\n",
       "      <th>0</th>\n",
       "      <td>C 1:COM</td>\n",
       "      <td>C A</td>\n",
       "      <td>Corn</td>\n",
       "      <td>commodity</td>\n",
       "      <td>2024-06-04T17:28:24.29</td>\n",
       "      <td>OPEN</td>\n",
       "      <td>443.1601</td>\n",
       "      <td>443.1601</td>\n",
       "      <td>2024-06-04T17:28:00</td>\n",
       "      <td>Agricultural</td>\n",
       "      <td>...</td>\n",
       "      <td>443.5000</td>\n",
       "      <td>462.5000</td>\n",
       "      <td>469.0000</td>\n",
       "      <td>530.2500</td>\n",
       "      <td>471.2500</td>\n",
       "      <td>4.0</td>\n",
       "      <td>USd/BU</td>\n",
       "      <td>Live</td>\n",
       "      <td>1912-05-01T00:00:00</td>\n",
       "      <td>2024-06-04T17:28:00</td>\n",
       "    </tr>\n",
       "    <tr>\n",
       "      <th>1</th>\n",
       "      <td>IUC:COM</td>\n",
       "      <td>IUC</td>\n",
       "      <td>Indium</td>\n",
       "      <td>commodity</td>\n",
       "      <td>2024-06-04T00:00:00</td>\n",
       "      <td>CLOSED</td>\n",
       "      <td>3075.0000</td>\n",
       "      <td>3075.0000</td>\n",
       "      <td>2024-06-04T00:00:00</td>\n",
       "      <td>Industrial</td>\n",
       "      <td>...</td>\n",
       "      <td>3075.0000</td>\n",
       "      <td>3075.0000</td>\n",
       "      <td>2675.0000</td>\n",
       "      <td>1495.0000</td>\n",
       "      <td>2005.0000</td>\n",
       "      <td>0.0</td>\n",
       "      <td>CNY/Kg</td>\n",
       "      <td>daily</td>\n",
       "      <td>2017-11-24T00:00:00</td>\n",
       "      <td>2024-06-04T15:54:00</td>\n",
       "    </tr>\n",
       "    <tr>\n",
       "      <th>2</th>\n",
       "      <td>MVNLRTR:IND</td>\n",
       "      <td>MVNLRTR</td>\n",
       "      <td>Nuclear Energy Index</td>\n",
       "      <td>commodity</td>\n",
       "      <td>2024-06-04T17:28:39.84</td>\n",
       "      <td>OPEN</td>\n",
       "      <td>30.6900</td>\n",
       "      <td>30.6900</td>\n",
       "      <td>2024-06-04T17:29:00</td>\n",
       "      <td>Index</td>\n",
       "      <td>...</td>\n",
       "      <td>31.4800</td>\n",
       "      <td>32.7500</td>\n",
       "      <td>31.7200</td>\n",
       "      <td>21.6200</td>\n",
       "      <td>27.6900</td>\n",
       "      <td>2.0</td>\n",
       "      <td>USD</td>\n",
       "      <td>Delayed</td>\n",
       "      <td>2010-11-05T00:00:00</td>\n",
       "      <td>2024-06-04T17:29:00</td>\n",
       "    </tr>\n",
       "    <tr>\n",
       "      <th>3</th>\n",
       "      <td>KSP:COM</td>\n",
       "      <td>KSP</td>\n",
       "      <td>Kraft Pulp</td>\n",
       "      <td>Commodity</td>\n",
       "      <td>2024-06-04T00:00:00</td>\n",
       "      <td>CLOSED</td>\n",
       "      <td>5912.0000</td>\n",
       "      <td>5912.0000</td>\n",
       "      <td>2024-06-04T00:00:00</td>\n",
       "      <td>Industrial</td>\n",
       "      <td>...</td>\n",
       "      <td>5938.0000</td>\n",
       "      <td>6176.0000</td>\n",
       "      <td>6264.0000</td>\n",
       "      <td>5048.0000</td>\n",
       "      <td>5620.0000</td>\n",
       "      <td>2.0</td>\n",
       "      <td>CNY/T</td>\n",
       "      <td>Daily</td>\n",
       "      <td>2018-11-27T00:00:00</td>\n",
       "      <td>2024-06-04T13:37:00</td>\n",
       "    </tr>\n",
       "    <tr>\n",
       "      <th>4</th>\n",
       "      <td>NOSMFZ:COM</td>\n",
       "      <td>NOSMFZ</td>\n",
       "      <td>Salmon</td>\n",
       "      <td>Commodity</td>\n",
       "      <td>2024-06-04T00:00:00</td>\n",
       "      <td>CLOSED</td>\n",
       "      <td>84.5000</td>\n",
       "      <td>84.5000</td>\n",
       "      <td>2024-06-04T00:00:00</td>\n",
       "      <td>Livestock</td>\n",
       "      <td>...</td>\n",
       "      <td>84.5000</td>\n",
       "      <td>91.0000</td>\n",
       "      <td>92.4500</td>\n",
       "      <td>100.0000</td>\n",
       "      <td>99.8400</td>\n",
       "      <td>2.0</td>\n",
       "      <td>NOK/KG</td>\n",
       "      <td>Daily</td>\n",
       "      <td>2012-05-25T00:00:00</td>\n",
       "      <td>2024-06-04T15:55:00</td>\n",
       "    </tr>\n",
       "    <tr>\n",
       "      <th>...</th>\n",
       "      <td>...</td>\n",
       "      <td>...</td>\n",
       "      <td>...</td>\n",
       "      <td>...</td>\n",
       "      <td>...</td>\n",
       "      <td>...</td>\n",
       "      <td>...</td>\n",
       "      <td>...</td>\n",
       "      <td>...</td>\n",
       "      <td>...</td>\n",
       "      <td>...</td>\n",
       "      <td>...</td>\n",
       "      <td>...</td>\n",
       "      <td>...</td>\n",
       "      <td>...</td>\n",
       "      <td>...</td>\n",
       "      <td>...</td>\n",
       "      <td>...</td>\n",
       "      <td>...</td>\n",
       "      <td>...</td>\n",
       "      <td>...</td>\n",
       "    </tr>\n",
       "    <tr>\n",
       "      <th>87</th>\n",
       "      <td>HO1:COM</td>\n",
       "      <td>HO1</td>\n",
       "      <td>Heating Oil</td>\n",
       "      <td>commodity</td>\n",
       "      <td>2024-06-04T17:28:57.657</td>\n",
       "      <td>OPEN</td>\n",
       "      <td>2.2910</td>\n",
       "      <td>2.2910</td>\n",
       "      <td>2024-06-04T17:29:00</td>\n",
       "      <td>Energy</td>\n",
       "      <td>...</td>\n",
       "      <td>2.2931</td>\n",
       "      <td>2.4799</td>\n",
       "      <td>2.4701</td>\n",
       "      <td>2.3746</td>\n",
       "      <td>2.4952</td>\n",
       "      <td>4.0</td>\n",
       "      <td>USD/Gal</td>\n",
       "      <td>Live</td>\n",
       "      <td>1980-01-02T00:00:00</td>\n",
       "      <td>2024-06-04T17:29:00</td>\n",
       "    </tr>\n",
       "    <tr>\n",
       "      <th>88</th>\n",
       "      <td>XB1:COM</td>\n",
       "      <td>XB1</td>\n",
       "      <td>Gasoline</td>\n",
       "      <td>commodity</td>\n",
       "      <td>2024-06-04T17:28:30.603</td>\n",
       "      <td>OPEN</td>\n",
       "      <td>2.3436</td>\n",
       "      <td>2.3436</td>\n",
       "      <td>2024-06-04T17:29:00</td>\n",
       "      <td>Energy</td>\n",
       "      <td>...</td>\n",
       "      <td>2.3279</td>\n",
       "      <td>2.5225</td>\n",
       "      <td>2.5568</td>\n",
       "      <td>2.4581</td>\n",
       "      <td>2.1258</td>\n",
       "      <td>4.0</td>\n",
       "      <td>USD/Gal</td>\n",
       "      <td>Live</td>\n",
       "      <td>2005-10-03T00:00:00</td>\n",
       "      <td>2024-06-04T17:29:00</td>\n",
       "    </tr>\n",
       "    <tr>\n",
       "      <th>89</th>\n",
       "      <td>NG1:COM</td>\n",
       "      <td>NG1</td>\n",
       "      <td>Natural gas</td>\n",
       "      <td>commodity</td>\n",
       "      <td>2024-06-04T17:29:02.17</td>\n",
       "      <td>OPEN</td>\n",
       "      <td>2.6650</td>\n",
       "      <td>2.6650</td>\n",
       "      <td>2024-06-04T17:29:00</td>\n",
       "      <td>Energy</td>\n",
       "      <td>...</td>\n",
       "      <td>2.7560</td>\n",
       "      <td>2.8250</td>\n",
       "      <td>2.1950</td>\n",
       "      <td>2.3660</td>\n",
       "      <td>2.3270</td>\n",
       "      <td>4.0</td>\n",
       "      <td>USD/MMBtu</td>\n",
       "      <td>Live</td>\n",
       "      <td>1990-04-03T00:00:00</td>\n",
       "      <td>2024-06-04T17:29:00</td>\n",
       "    </tr>\n",
       "    <tr>\n",
       "      <th>90</th>\n",
       "      <td>CO1:COM</td>\n",
       "      <td>COG1</td>\n",
       "      <td>Brent</td>\n",
       "      <td>commodity</td>\n",
       "      <td>2024-06-04T17:28:23.89</td>\n",
       "      <td>OPEN</td>\n",
       "      <td>77.6937</td>\n",
       "      <td>77.6937</td>\n",
       "      <td>2024-06-04T17:28:00</td>\n",
       "      <td>Energy</td>\n",
       "      <td>...</td>\n",
       "      <td>78.3600</td>\n",
       "      <td>83.9400</td>\n",
       "      <td>83.3300</td>\n",
       "      <td>76.4700</td>\n",
       "      <td>77.0400</td>\n",
       "      <td>3.0</td>\n",
       "      <td>USD/Bbl</td>\n",
       "      <td>Live</td>\n",
       "      <td>1970-04-15T00:00:00</td>\n",
       "      <td>2024-06-04T17:28:00</td>\n",
       "    </tr>\n",
       "    <tr>\n",
       "      <th>91</th>\n",
       "      <td>CL1:COM</td>\n",
       "      <td>CL1</td>\n",
       "      <td>Crude Oil</td>\n",
       "      <td>commodity</td>\n",
       "      <td>2024-06-04T17:29:11.687</td>\n",
       "      <td>OPEN</td>\n",
       "      <td>73.5127</td>\n",
       "      <td>73.5127</td>\n",
       "      <td>2024-06-04T17:29:00</td>\n",
       "      <td>Energy</td>\n",
       "      <td>...</td>\n",
       "      <td>74.2200</td>\n",
       "      <td>79.8300</td>\n",
       "      <td>78.4800</td>\n",
       "      <td>72.2600</td>\n",
       "      <td>71.6500</td>\n",
       "      <td>3.0</td>\n",
       "      <td>USD/Bbl</td>\n",
       "      <td>Live</td>\n",
       "      <td>1983-03-30T00:00:00</td>\n",
       "      <td>2024-06-04T17:29:00</td>\n",
       "    </tr>\n",
       "  </tbody>\n",
       "</table>\n",
       "<p>92 rows × 34 columns</p>\n",
       "</div>"
      ],
      "text/plain": [
       "         Symbol   Ticker                  Name    Country  \\\n",
       "0       C 1:COM      C A                  Corn  commodity   \n",
       "1       IUC:COM      IUC                Indium  commodity   \n",
       "2   MVNLRTR:IND  MVNLRTR  Nuclear Energy Index  commodity   \n",
       "3       KSP:COM      KSP            Kraft Pulp  Commodity   \n",
       "4    NOSMFZ:COM   NOSMFZ                Salmon  Commodity   \n",
       "..          ...      ...                   ...        ...   \n",
       "87      HO1:COM      HO1           Heating Oil  commodity   \n",
       "88      XB1:COM      XB1              Gasoline  commodity   \n",
       "89      NG1:COM      NG1           Natural gas  commodity   \n",
       "90      CO1:COM     COG1                 Brent  commodity   \n",
       "91      CL1:COM      CL1             Crude Oil  commodity   \n",
       "\n",
       "                       Date   State       Last      Close  \\\n",
       "0    2024-06-04T17:28:24.29    OPEN   443.1601   443.1601   \n",
       "1       2024-06-04T00:00:00  CLOSED  3075.0000  3075.0000   \n",
       "2    2024-06-04T17:28:39.84    OPEN    30.6900    30.6900   \n",
       "3       2024-06-04T00:00:00  CLOSED  5912.0000  5912.0000   \n",
       "4       2024-06-04T00:00:00  CLOSED    84.5000    84.5000   \n",
       "..                      ...     ...        ...        ...   \n",
       "87  2024-06-04T17:28:57.657    OPEN     2.2910     2.2910   \n",
       "88  2024-06-04T17:28:30.603    OPEN     2.3436     2.3436   \n",
       "89   2024-06-04T17:29:02.17    OPEN     2.6650     2.6650   \n",
       "90   2024-06-04T17:28:23.89    OPEN    77.6937    77.6937   \n",
       "91  2024-06-04T17:29:11.687    OPEN    73.5127    73.5127   \n",
       "\n",
       "              CloseDate         Group  ...  yesterday   lastWeek  lastMonth  \\\n",
       "0   2024-06-04T17:28:00  Agricultural  ...   443.5000   462.5000   469.0000   \n",
       "1   2024-06-04T00:00:00    Industrial  ...  3075.0000  3075.0000  2675.0000   \n",
       "2   2024-06-04T17:29:00         Index  ...    31.4800    32.7500    31.7200   \n",
       "3   2024-06-04T00:00:00    Industrial  ...  5938.0000  6176.0000  6264.0000   \n",
       "4   2024-06-04T00:00:00     Livestock  ...    84.5000    91.0000    92.4500   \n",
       "..                  ...           ...  ...        ...        ...        ...   \n",
       "87  2024-06-04T17:29:00        Energy  ...     2.2931     2.4799     2.4701   \n",
       "88  2024-06-04T17:29:00        Energy  ...     2.3279     2.5225     2.5568   \n",
       "89  2024-06-04T17:29:00        Energy  ...     2.7560     2.8250     2.1950   \n",
       "90  2024-06-04T17:28:00        Energy  ...    78.3600    83.9400    83.3300   \n",
       "91  2024-06-04T17:29:00        Energy  ...    74.2200    79.8300    78.4800   \n",
       "\n",
       "     lastYear  startYear  decimals       unit  frequency            StartDate  \\\n",
       "0    530.2500   471.2500       4.0     USd/BU       Live  1912-05-01T00:00:00   \n",
       "1   1495.0000  2005.0000       0.0     CNY/Kg      daily  2017-11-24T00:00:00   \n",
       "2     21.6200    27.6900       2.0        USD    Delayed  2010-11-05T00:00:00   \n",
       "3   5048.0000  5620.0000       2.0      CNY/T      Daily  2018-11-27T00:00:00   \n",
       "4    100.0000    99.8400       2.0     NOK/KG      Daily  2012-05-25T00:00:00   \n",
       "..        ...        ...       ...        ...        ...                  ...   \n",
       "87     2.3746     2.4952       4.0    USD/Gal       Live  1980-01-02T00:00:00   \n",
       "88     2.4581     2.1258       4.0    USD/Gal       Live  2005-10-03T00:00:00   \n",
       "89     2.3660     2.3270       4.0  USD/MMBtu       Live  1990-04-03T00:00:00   \n",
       "90    76.4700    77.0400       3.0    USD/Bbl       Live  1970-04-15T00:00:00   \n",
       "91    72.2600    71.6500       3.0    USD/Bbl       Live  1983-03-30T00:00:00   \n",
       "\n",
       "             LastUpdate  \n",
       "0   2024-06-04T17:28:00  \n",
       "1   2024-06-04T15:54:00  \n",
       "2   2024-06-04T17:29:00  \n",
       "3   2024-06-04T13:37:00  \n",
       "4   2024-06-04T15:55:00  \n",
       "..                  ...  \n",
       "87  2024-06-04T17:29:00  \n",
       "88  2024-06-04T17:29:00  \n",
       "89  2024-06-04T17:29:00  \n",
       "90  2024-06-04T17:28:00  \n",
       "91  2024-06-04T17:29:00  \n",
       "\n",
       "[92 rows x 34 columns]"
      ]
     },
     "execution_count": 45,
     "metadata": {},
     "output_type": "execute_result"
    }
   ],
   "source": [
    "try:\n",
    "    commodities_data = te.getMarketsData(marketsField='commodities', output_type='df') \n",
    "except Exception as e:\n",
    "    print(\"Error fetching commodities data:\", e)\n",
    "commodities_data"
   ]
  },
  {
   "cell_type": "code",
   "execution_count": 61,
   "metadata": {},
   "outputs": [
    {
     "data": {
      "text/plain": [
       "Index(['Symbol', 'Ticker', 'Name', 'Country', 'Date', 'State', 'Last', 'Close',\n",
       "       'CloseDate', 'Group', 'URL', 'Importance', 'DailyChange',\n",
       "       'DailyPercentualChange', 'WeeklyChange', 'WeeklyPercentualChange',\n",
       "       'MonthlyChange', 'MonthlyPercentualChange', 'YearlyChange',\n",
       "       'YearlyPercentualChange', 'YTDChange', 'YTDPercentualChange',\n",
       "       'day_high', 'day_low', 'yesterday', 'lastWeek', 'lastMonth', 'lastYear',\n",
       "       'startYear', 'decimals', 'unit', 'frequency', 'StartDate',\n",
       "       'LastUpdate'],\n",
       "      dtype='object')"
      ]
     },
     "execution_count": 61,
     "metadata": {},
     "output_type": "execute_result"
    }
   ],
   "source": [
    "commodities_data.columns"
   ]
  },
  {
   "cell_type": "code",
   "execution_count": 65,
   "metadata": {},
   "outputs": [
    {
     "data": {
      "text/html": [
       "<div>\n",
       "<style scoped>\n",
       "    .dataframe tbody tr th:only-of-type {\n",
       "        vertical-align: middle;\n",
       "    }\n",
       "\n",
       "    .dataframe tbody tr th {\n",
       "        vertical-align: top;\n",
       "    }\n",
       "\n",
       "    .dataframe thead th {\n",
       "        text-align: right;\n",
       "    }\n",
       "</style>\n",
       "<table border=\"1\" class=\"dataframe\">\n",
       "  <thead>\n",
       "    <tr style=\"text-align: right;\">\n",
       "      <th></th>\n",
       "      <th>Symbol</th>\n",
       "      <th>Name</th>\n",
       "      <th>Close</th>\n",
       "      <th>Group</th>\n",
       "      <th>frequency</th>\n",
       "      <th>unit</th>\n",
       "      <th>Date</th>\n",
       "    </tr>\n",
       "  </thead>\n",
       "  <tbody>\n",
       "    <tr>\n",
       "      <th>1</th>\n",
       "      <td>IUC:COM</td>\n",
       "      <td>Indium</td>\n",
       "      <td>3075.0000</td>\n",
       "      <td>Industrial</td>\n",
       "      <td>daily</td>\n",
       "      <td>CNY/Kg</td>\n",
       "      <td>2024-06-04T00:00:00</td>\n",
       "    </tr>\n",
       "    <tr>\n",
       "      <th>3</th>\n",
       "      <td>KSP:COM</td>\n",
       "      <td>Kraft Pulp</td>\n",
       "      <td>5912.0000</td>\n",
       "      <td>Industrial</td>\n",
       "      <td>Daily</td>\n",
       "      <td>CNY/T</td>\n",
       "      <td>2024-06-04T00:00:00</td>\n",
       "    </tr>\n",
       "    <tr>\n",
       "      <th>5</th>\n",
       "      <td>POL:COM</td>\n",
       "      <td>Polyethylene</td>\n",
       "      <td>8461.0000</td>\n",
       "      <td>Industrial</td>\n",
       "      <td>Daily</td>\n",
       "      <td>CNY/T</td>\n",
       "      <td>2024-06-03T00:00:00</td>\n",
       "    </tr>\n",
       "    <tr>\n",
       "      <th>7</th>\n",
       "      <td>SODASH:COM</td>\n",
       "      <td>Soda Ash</td>\n",
       "      <td>2170.0000</td>\n",
       "      <td>Industrial</td>\n",
       "      <td>Daily</td>\n",
       "      <td>CNY/T</td>\n",
       "      <td>2024-06-04T00:00:00</td>\n",
       "    </tr>\n",
       "    <tr>\n",
       "      <th>8</th>\n",
       "      <td>PYL:COM</td>\n",
       "      <td>Polypropylene</td>\n",
       "      <td>7710.0000</td>\n",
       "      <td>Industrial</td>\n",
       "      <td>Daily</td>\n",
       "      <td>CNY/T</td>\n",
       "      <td>2024-06-03T00:00:00</td>\n",
       "    </tr>\n",
       "    <tr>\n",
       "      <th>9</th>\n",
       "      <td>PVC:COM</td>\n",
       "      <td>Polyvinyl</td>\n",
       "      <td>6231.0000</td>\n",
       "      <td>Industrial</td>\n",
       "      <td>Daily</td>\n",
       "      <td>CNY/T</td>\n",
       "      <td>2024-06-03T00:00:00</td>\n",
       "    </tr>\n",
       "    <tr>\n",
       "      <th>11</th>\n",
       "      <td>SREMNDM:COM</td>\n",
       "      <td>Neodymium</td>\n",
       "      <td>465000.0000</td>\n",
       "      <td>Industrial</td>\n",
       "      <td>daily</td>\n",
       "      <td>CNY/T</td>\n",
       "      <td>2024-06-04T00:00:00</td>\n",
       "    </tr>\n",
       "    <tr>\n",
       "      <th>15</th>\n",
       "      <td>UFI:COM</td>\n",
       "      <td>Di-ammonium</td>\n",
       "      <td>527.5000</td>\n",
       "      <td>Industrial</td>\n",
       "      <td>Daily</td>\n",
       "      <td>USD/T</td>\n",
       "      <td>2024-06-03T00:00:00</td>\n",
       "    </tr>\n",
       "    <tr>\n",
       "      <th>16</th>\n",
       "      <td>UFB:COM</td>\n",
       "      <td>Urea</td>\n",
       "      <td>278.5000</td>\n",
       "      <td>Industrial</td>\n",
       "      <td>Daily</td>\n",
       "      <td>USD/T</td>\n",
       "      <td>2024-06-03T00:00:00</td>\n",
       "    </tr>\n",
       "    <tr>\n",
       "      <th>17</th>\n",
       "      <td>TTSG:COM</td>\n",
       "      <td>Titanium</td>\n",
       "      <td>51.0000</td>\n",
       "      <td>Metals</td>\n",
       "      <td>Daily</td>\n",
       "      <td>CNY/KG</td>\n",
       "      <td>2024-06-04T00:00:00</td>\n",
       "    </tr>\n",
       "    <tr>\n",
       "      <th>18</th>\n",
       "      <td>TEC:COM</td>\n",
       "      <td>Tellurium</td>\n",
       "      <td>590.0000</td>\n",
       "      <td>Industrial</td>\n",
       "      <td>daily</td>\n",
       "      <td>CNY/Kg</td>\n",
       "      <td>2024-06-04T00:00:00</td>\n",
       "    </tr>\n",
       "    <tr>\n",
       "      <th>23</th>\n",
       "      <td>IMR:COM</td>\n",
       "      <td>Manganese</td>\n",
       "      <td>42.7500</td>\n",
       "      <td>Industrial</td>\n",
       "      <td>daily</td>\n",
       "      <td>CNY/mtu</td>\n",
       "      <td>2024-06-04T00:00:00</td>\n",
       "    </tr>\n",
       "    <tr>\n",
       "      <th>24</th>\n",
       "      <td>HRC:COM</td>\n",
       "      <td>HRC Steel</td>\n",
       "      <td>740.0959</td>\n",
       "      <td>Metals</td>\n",
       "      <td>Delayed</td>\n",
       "      <td>USD/T</td>\n",
       "      <td>2024-06-04T16:59:28.173</td>\n",
       "    </tr>\n",
       "    <tr>\n",
       "      <th>26</th>\n",
       "      <td>GECNYBGQ:COM</td>\n",
       "      <td>Germanium</td>\n",
       "      <td>9900.0000</td>\n",
       "      <td>Industrial</td>\n",
       "      <td>daily</td>\n",
       "      <td>CNY/Kg</td>\n",
       "      <td>2024-06-04T00:00:00</td>\n",
       "    </tr>\n",
       "    <tr>\n",
       "      <th>27</th>\n",
       "      <td>GAC:COM</td>\n",
       "      <td>Gallium</td>\n",
       "      <td>2345.0000</td>\n",
       "      <td>Industrial</td>\n",
       "      <td>daily</td>\n",
       "      <td>CNY/Kg</td>\n",
       "      <td>2024-06-04T00:00:00</td>\n",
       "    </tr>\n",
       "    <tr>\n",
       "      <th>28</th>\n",
       "      <td>MACN:COM</td>\n",
       "      <td>Magnesium</td>\n",
       "      <td>19700.0000</td>\n",
       "      <td>Industrial</td>\n",
       "      <td>daily</td>\n",
       "      <td>CNY/T</td>\n",
       "      <td>2024-06-04T00:00:00</td>\n",
       "    </tr>\n",
       "    <tr>\n",
       "      <th>29</th>\n",
       "      <td>XRH:COM</td>\n",
       "      <td>Rhodium</td>\n",
       "      <td>4725.0000</td>\n",
       "      <td>Industrial</td>\n",
       "      <td>Daily</td>\n",
       "      <td>USD/t oz.</td>\n",
       "      <td>2024-06-04T00:00:00</td>\n",
       "    </tr>\n",
       "    <tr>\n",
       "      <th>31</th>\n",
       "      <td>XPDUSD:CUR</td>\n",
       "      <td>Palladium</td>\n",
       "      <td>902.5000</td>\n",
       "      <td>Industrial</td>\n",
       "      <td>Delayed</td>\n",
       "      <td>USD/t.oz</td>\n",
       "      <td>2024-06-04T17:28:31.407</td>\n",
       "    </tr>\n",
       "    <tr>\n",
       "      <th>32</th>\n",
       "      <td>LN1:COM</td>\n",
       "      <td>Nickel</td>\n",
       "      <td>19004.0000</td>\n",
       "      <td>Industrial</td>\n",
       "      <td>daily</td>\n",
       "      <td>USD/T</td>\n",
       "      <td>2024-06-04T17:23:50</td>\n",
       "    </tr>\n",
       "    <tr>\n",
       "      <th>33</th>\n",
       "      <td>LMZSDS03:COM</td>\n",
       "      <td>Zinc</td>\n",
       "      <td>2928.0000</td>\n",
       "      <td>Industrial</td>\n",
       "      <td>Daily</td>\n",
       "      <td>USD/T</td>\n",
       "      <td>2024-06-04T17:29:10</td>\n",
       "    </tr>\n",
       "    <tr>\n",
       "      <th>34</th>\n",
       "      <td>LMSNDS03:COM</td>\n",
       "      <td>Tin</td>\n",
       "      <td>32350.0000</td>\n",
       "      <td>Industrial</td>\n",
       "      <td>Daily</td>\n",
       "      <td>USD/T</td>\n",
       "      <td>2024-06-03T00:00:00</td>\n",
       "    </tr>\n",
       "    <tr>\n",
       "      <th>36</th>\n",
       "      <td>LMAHDS03:COM</td>\n",
       "      <td>Aluminum</td>\n",
       "      <td>2665.0000</td>\n",
       "      <td>Industrial</td>\n",
       "      <td>Daily</td>\n",
       "      <td>USD/T</td>\n",
       "      <td>2024-06-04T17:28:57</td>\n",
       "    </tr>\n",
       "    <tr>\n",
       "      <th>37</th>\n",
       "      <td>LL1:COM</td>\n",
       "      <td>Lead</td>\n",
       "      <td>2249.0000</td>\n",
       "      <td>Industrial</td>\n",
       "      <td>daily</td>\n",
       "      <td>USD/T</td>\n",
       "      <td>2024-06-04T17:29:08</td>\n",
       "    </tr>\n",
       "    <tr>\n",
       "      <th>39</th>\n",
       "      <td>LCO1:COM</td>\n",
       "      <td>Cobalt</td>\n",
       "      <td>27150.0000</td>\n",
       "      <td>Industrial</td>\n",
       "      <td>daily</td>\n",
       "      <td>USD/T</td>\n",
       "      <td>2024-06-03T00:00:00</td>\n",
       "    </tr>\n",
       "    <tr>\n",
       "      <th>58</th>\n",
       "      <td>MOLYBDEN:COM</td>\n",
       "      <td>Molybdenum</td>\n",
       "      <td>500.0000</td>\n",
       "      <td>Industrial</td>\n",
       "      <td>Weekly</td>\n",
       "      <td>CNY/Kg</td>\n",
       "      <td>2024-06-04T00:00:00</td>\n",
       "    </tr>\n",
       "    <tr>\n",
       "      <th>68</th>\n",
       "      <td>XPTUSD:CUR</td>\n",
       "      <td>Platinum</td>\n",
       "      <td>998.7000</td>\n",
       "      <td>Metals</td>\n",
       "      <td>Delayed</td>\n",
       "      <td>USD/t.oz</td>\n",
       "      <td>2024-06-04T17:28:57.257</td>\n",
       "    </tr>\n",
       "    <tr>\n",
       "      <th>71</th>\n",
       "      <td>BIT:COM</td>\n",
       "      <td>Bitumen</td>\n",
       "      <td>3481.0000</td>\n",
       "      <td>Industrial</td>\n",
       "      <td>Daily</td>\n",
       "      <td>CNY/T</td>\n",
       "      <td>2024-06-04T00:00:00</td>\n",
       "    </tr>\n",
       "    <tr>\n",
       "      <th>76</th>\n",
       "      <td>LC:COM</td>\n",
       "      <td>Lithium</td>\n",
       "      <td>103500.0000</td>\n",
       "      <td>Metals</td>\n",
       "      <td>Daily</td>\n",
       "      <td>CNY/T</td>\n",
       "      <td>2024-06-03T00:00:00</td>\n",
       "    </tr>\n",
       "    <tr>\n",
       "      <th>79</th>\n",
       "      <td>SCO:COM</td>\n",
       "      <td>Iron Ore</td>\n",
       "      <td>110.1000</td>\n",
       "      <td>Metals</td>\n",
       "      <td>daily</td>\n",
       "      <td>USD/T</td>\n",
       "      <td>2024-06-03T00:00:00</td>\n",
       "    </tr>\n",
       "    <tr>\n",
       "      <th>80</th>\n",
       "      <td>JBP:COM</td>\n",
       "      <td>Steel</td>\n",
       "      <td>3477.0000</td>\n",
       "      <td>Metals</td>\n",
       "      <td>daily</td>\n",
       "      <td>CNY/T</td>\n",
       "      <td>2024-06-04T00:00:00</td>\n",
       "    </tr>\n",
       "    <tr>\n",
       "      <th>84</th>\n",
       "      <td>HG1:COM</td>\n",
       "      <td>Copper</td>\n",
       "      <td>4.5316</td>\n",
       "      <td>Metals</td>\n",
       "      <td>Live</td>\n",
       "      <td>USD/Lbs</td>\n",
       "      <td>2024-06-04T17:28:24.393</td>\n",
       "    </tr>\n",
       "    <tr>\n",
       "      <th>85</th>\n",
       "      <td>XAGUSD:CUR</td>\n",
       "      <td>Silver</td>\n",
       "      <td>29.4915</td>\n",
       "      <td>Metals</td>\n",
       "      <td>Live</td>\n",
       "      <td>USD/t.oz</td>\n",
       "      <td>2024-06-04T17:28:31.377</td>\n",
       "    </tr>\n",
       "    <tr>\n",
       "      <th>86</th>\n",
       "      <td>XAUUSD:CUR</td>\n",
       "      <td>Gold</td>\n",
       "      <td>2326.3500</td>\n",
       "      <td>Metals</td>\n",
       "      <td>Live</td>\n",
       "      <td>USD/t.oz</td>\n",
       "      <td>2024-06-04T17:28:27.367</td>\n",
       "    </tr>\n",
       "  </tbody>\n",
       "</table>\n",
       "</div>"
      ],
      "text/plain": [
       "          Symbol           Name        Close       Group frequency       unit  \\\n",
       "1        IUC:COM         Indium    3075.0000  Industrial     daily     CNY/Kg   \n",
       "3        KSP:COM     Kraft Pulp    5912.0000  Industrial     Daily      CNY/T   \n",
       "5        POL:COM   Polyethylene    8461.0000  Industrial     Daily      CNY/T   \n",
       "7     SODASH:COM       Soda Ash    2170.0000  Industrial     Daily      CNY/T   \n",
       "8        PYL:COM  Polypropylene    7710.0000  Industrial     Daily      CNY/T   \n",
       "9        PVC:COM      Polyvinyl    6231.0000  Industrial     Daily      CNY/T   \n",
       "11   SREMNDM:COM      Neodymium  465000.0000  Industrial     daily      CNY/T   \n",
       "15       UFI:COM    Di-ammonium     527.5000  Industrial     Daily      USD/T   \n",
       "16       UFB:COM           Urea     278.5000  Industrial     Daily      USD/T   \n",
       "17      TTSG:COM       Titanium      51.0000      Metals     Daily     CNY/KG   \n",
       "18       TEC:COM      Tellurium     590.0000  Industrial     daily     CNY/Kg   \n",
       "23       IMR:COM      Manganese      42.7500  Industrial     daily    CNY/mtu   \n",
       "24       HRC:COM      HRC Steel     740.0959      Metals   Delayed      USD/T   \n",
       "26  GECNYBGQ:COM      Germanium    9900.0000  Industrial     daily     CNY/Kg   \n",
       "27       GAC:COM        Gallium    2345.0000  Industrial     daily     CNY/Kg   \n",
       "28      MACN:COM      Magnesium   19700.0000  Industrial     daily      CNY/T   \n",
       "29       XRH:COM        Rhodium    4725.0000  Industrial     Daily  USD/t oz.   \n",
       "31    XPDUSD:CUR      Palladium     902.5000  Industrial   Delayed   USD/t.oz   \n",
       "32       LN1:COM         Nickel   19004.0000  Industrial     daily      USD/T   \n",
       "33  LMZSDS03:COM           Zinc    2928.0000  Industrial     Daily      USD/T   \n",
       "34  LMSNDS03:COM            Tin   32350.0000  Industrial     Daily      USD/T   \n",
       "36  LMAHDS03:COM       Aluminum    2665.0000  Industrial     Daily      USD/T   \n",
       "37       LL1:COM           Lead    2249.0000  Industrial     daily      USD/T   \n",
       "39      LCO1:COM         Cobalt   27150.0000  Industrial     daily      USD/T   \n",
       "58  MOLYBDEN:COM     Molybdenum     500.0000  Industrial    Weekly     CNY/Kg   \n",
       "68    XPTUSD:CUR       Platinum     998.7000      Metals   Delayed   USD/t.oz   \n",
       "71       BIT:COM        Bitumen    3481.0000  Industrial     Daily      CNY/T   \n",
       "76        LC:COM        Lithium  103500.0000      Metals     Daily      CNY/T   \n",
       "79       SCO:COM       Iron Ore     110.1000      Metals     daily      USD/T   \n",
       "80       JBP:COM          Steel    3477.0000      Metals     daily      CNY/T   \n",
       "84       HG1:COM         Copper       4.5316      Metals      Live    USD/Lbs   \n",
       "85    XAGUSD:CUR         Silver      29.4915      Metals      Live   USD/t.oz   \n",
       "86    XAUUSD:CUR           Gold    2326.3500      Metals      Live   USD/t.oz   \n",
       "\n",
       "                       Date  \n",
       "1       2024-06-04T00:00:00  \n",
       "3       2024-06-04T00:00:00  \n",
       "5       2024-06-03T00:00:00  \n",
       "7       2024-06-04T00:00:00  \n",
       "8       2024-06-03T00:00:00  \n",
       "9       2024-06-03T00:00:00  \n",
       "11      2024-06-04T00:00:00  \n",
       "15      2024-06-03T00:00:00  \n",
       "16      2024-06-03T00:00:00  \n",
       "17      2024-06-04T00:00:00  \n",
       "18      2024-06-04T00:00:00  \n",
       "23      2024-06-04T00:00:00  \n",
       "24  2024-06-04T16:59:28.173  \n",
       "26      2024-06-04T00:00:00  \n",
       "27      2024-06-04T00:00:00  \n",
       "28      2024-06-04T00:00:00  \n",
       "29      2024-06-04T00:00:00  \n",
       "31  2024-06-04T17:28:31.407  \n",
       "32      2024-06-04T17:23:50  \n",
       "33      2024-06-04T17:29:10  \n",
       "34      2024-06-03T00:00:00  \n",
       "36      2024-06-04T17:28:57  \n",
       "37      2024-06-04T17:29:08  \n",
       "39      2024-06-03T00:00:00  \n",
       "58      2024-06-04T00:00:00  \n",
       "68  2024-06-04T17:28:57.257  \n",
       "71      2024-06-04T00:00:00  \n",
       "76      2024-06-03T00:00:00  \n",
       "79      2024-06-03T00:00:00  \n",
       "80      2024-06-04T00:00:00  \n",
       "84  2024-06-04T17:28:24.393  \n",
       "85  2024-06-04T17:28:31.377  \n",
       "86  2024-06-04T17:28:27.367  "
      ]
     },
     "execution_count": 65,
     "metadata": {},
     "output_type": "execute_result"
    }
   ],
   "source": [
    "commodities_group = commodities_data.query('Group == \"Metals\" or Group == \"Industrial\"')[['Symbol','Name', 'Close', 'Group', 'frequency', 'unit', 'Date']]\n",
    "commodities_group"
   ]
  },
  {
   "cell_type": "code",
   "execution_count": 92,
   "metadata": {},
   "outputs": [],
   "source": [
    "critical_minerals = {\n",
    "    'SCO:COM': 'Iron Ore',  # Assuming 'SCO:COM' is the symbol for Iron Ore\n",
    "    'JBP:COM': 'Steel',     # Assuming 'JBP:COM' is the symbol for Steel\n",
    "    'LMAHDS03:COM': 'Aluminum',  # Assuming 'LMAHDS03:COM' is the symbol for Aluminum\n",
    "    'LC:COM': 'Lithium',    # Assuming 'LC:COM' is the symbol for Lithium\n",
    "    'LCO1:COM': 'Cobalt',   # Assuming 'LCO1:COM' is the symbol for Cobalt\n",
    "    'LN1:COM': 'Nickel',    # Assuming 'LN1:COM' is the symbol for Nickel\n",
    "    'HG1:COM': 'Copper',    # Assuming 'HG1:COM' is the symbol for Copper\n",
    "    'IMR:COM': 'Manganese'  # Assuming 'IMR:COM' is the symbol for Manganese\n",
    "}\n",
    "\n",
    "# Add a comment or TODO to remind yourself to add the symbol for Graphite once it's identified.\n"
   ]
  },
  {
   "cell_type": "code",
   "execution_count": 93,
   "metadata": {},
   "outputs": [
    {
     "data": {
      "text/html": [
       "<div>\n",
       "<style scoped>\n",
       "    .dataframe tbody tr th:only-of-type {\n",
       "        vertical-align: middle;\n",
       "    }\n",
       "\n",
       "    .dataframe tbody tr th {\n",
       "        vertical-align: top;\n",
       "    }\n",
       "\n",
       "    .dataframe thead th {\n",
       "        text-align: right;\n",
       "    }\n",
       "</style>\n",
       "<table border=\"1\" class=\"dataframe\">\n",
       "  <thead>\n",
       "    <tr style=\"text-align: right;\">\n",
       "      <th></th>\n",
       "      <th>Symbol</th>\n",
       "      <th>Date</th>\n",
       "      <th>Open</th>\n",
       "      <th>High</th>\n",
       "      <th>Low</th>\n",
       "      <th>Close</th>\n",
       "    </tr>\n",
       "  </thead>\n",
       "  <tbody>\n",
       "    <tr>\n",
       "      <th>0</th>\n",
       "      <td>LN1:COM</td>\n",
       "      <td>11/07/2019</td>\n",
       "      <td>13073.0000</td>\n",
       "      <td>13073.0000</td>\n",
       "      <td>13073.0000</td>\n",
       "      <td>13073.0000</td>\n",
       "    </tr>\n",
       "    <tr>\n",
       "      <th>1</th>\n",
       "      <td>LN1:COM</td>\n",
       "      <td>12/07/2019</td>\n",
       "      <td>13409.5000</td>\n",
       "      <td>13409.5000</td>\n",
       "      <td>13409.5000</td>\n",
       "      <td>13409.5000</td>\n",
       "    </tr>\n",
       "    <tr>\n",
       "      <th>2</th>\n",
       "      <td>IMR:COM</td>\n",
       "      <td>12/07/2019</td>\n",
       "      <td>36.5000</td>\n",
       "      <td>36.5000</td>\n",
       "      <td>36.5000</td>\n",
       "      <td>36.5000</td>\n",
       "    </tr>\n",
       "    <tr>\n",
       "      <th>3</th>\n",
       "      <td>HG1:COM</td>\n",
       "      <td>12/07/2019</td>\n",
       "      <td>2.7035</td>\n",
       "      <td>2.7035</td>\n",
       "      <td>2.6745</td>\n",
       "      <td>2.6915</td>\n",
       "    </tr>\n",
       "    <tr>\n",
       "      <th>4</th>\n",
       "      <td>LMAHDS03:COM</td>\n",
       "      <td>12/07/2019</td>\n",
       "      <td>1802.7500</td>\n",
       "      <td>1802.7500</td>\n",
       "      <td>1802.7500</td>\n",
       "      <td>1802.7500</td>\n",
       "    </tr>\n",
       "    <tr>\n",
       "      <th>...</th>\n",
       "      <td>...</td>\n",
       "      <td>...</td>\n",
       "      <td>...</td>\n",
       "      <td>...</td>\n",
       "      <td>...</td>\n",
       "      <td>...</td>\n",
       "    </tr>\n",
       "    <tr>\n",
       "      <th>9995</th>\n",
       "      <td>JBP:COM</td>\n",
       "      <td>04/06/2024</td>\n",
       "      <td>3495.0000</td>\n",
       "      <td>3495.0000</td>\n",
       "      <td>3474.0000</td>\n",
       "      <td>3477.0000</td>\n",
       "    </tr>\n",
       "    <tr>\n",
       "      <th>9996</th>\n",
       "      <td>LN1:COM</td>\n",
       "      <td>04/06/2024</td>\n",
       "      <td>19528.0000</td>\n",
       "      <td>19549.5000</td>\n",
       "      <td>18973.0000</td>\n",
       "      <td>18973.0000</td>\n",
       "    </tr>\n",
       "    <tr>\n",
       "      <th>9997</th>\n",
       "      <td>IMR:COM</td>\n",
       "      <td>04/06/2024</td>\n",
       "      <td>43.0000</td>\n",
       "      <td>43.0000</td>\n",
       "      <td>42.5000</td>\n",
       "      <td>42.7500</td>\n",
       "    </tr>\n",
       "    <tr>\n",
       "      <th>9998</th>\n",
       "      <td>LMAHDS03:COM</td>\n",
       "      <td>04/06/2024</td>\n",
       "      <td>2678.0000</td>\n",
       "      <td>2691.0000</td>\n",
       "      <td>2640.5000</td>\n",
       "      <td>2666.0000</td>\n",
       "    </tr>\n",
       "    <tr>\n",
       "      <th>9999</th>\n",
       "      <td>HG1:COM</td>\n",
       "      <td>04/06/2024</td>\n",
       "      <td>4.6840</td>\n",
       "      <td>4.6960</td>\n",
       "      <td>4.5270</td>\n",
       "      <td>4.5444</td>\n",
       "    </tr>\n",
       "  </tbody>\n",
       "</table>\n",
       "<p>10000 rows × 6 columns</p>\n",
       "</div>"
      ],
      "text/plain": [
       "            Symbol        Date        Open        High         Low       Close\n",
       "0          LN1:COM  11/07/2019  13073.0000  13073.0000  13073.0000  13073.0000\n",
       "1          LN1:COM  12/07/2019  13409.5000  13409.5000  13409.5000  13409.5000\n",
       "2          IMR:COM  12/07/2019     36.5000     36.5000     36.5000     36.5000\n",
       "3          HG1:COM  12/07/2019      2.7035      2.7035      2.6745      2.6915\n",
       "4     LMAHDS03:COM  12/07/2019   1802.7500   1802.7500   1802.7500   1802.7500\n",
       "...            ...         ...         ...         ...         ...         ...\n",
       "9995       JBP:COM  04/06/2024   3495.0000   3495.0000   3474.0000   3477.0000\n",
       "9996       LN1:COM  04/06/2024  19528.0000  19549.5000  18973.0000  18973.0000\n",
       "9997       IMR:COM  04/06/2024     43.0000     43.0000     42.5000     42.7500\n",
       "9998  LMAHDS03:COM  04/06/2024   2678.0000   2691.0000   2640.5000   2666.0000\n",
       "9999       HG1:COM  04/06/2024      4.6840      4.6960      4.5270      4.5444\n",
       "\n",
       "[10000 rows x 6 columns]"
      ]
     },
     "execution_count": 93,
     "metadata": {},
     "output_type": "execute_result"
    }
   ],
   "source": [
    "raw_df = te.getHistorical(symbol=['SCO:COM',  # Assuming 'SCO:COM' is the symbol for Iron Ore\n",
    "    'JBP:COM',     # Assuming 'JBP:COM' is the symbol for Steel\n",
    "    'LMAHDS03:COM',  # Assuming 'LMAHDS03:COM' is the symbol for Aluminum\n",
    "    'LC:COM',    # Assuming 'LC:COM' is the symbol for Lithium\n",
    "    'LCO1:COM',   # Assuming 'LCO1:COM' is the symbol for Cobalt\n",
    "    'LN1:COM',    # Assuming 'LN1:COM' is the symbol for Nickel\n",
    "    'HG1:COM',    # Assuming 'HG1:COM' is the symbol for Copper\n",
    "    'IMR:COM'], initDate='2019-01-01')\n",
    "raw_df = pd.DataFrame(raw_df)\n",
    "raw_df"
   ]
  },
  {
   "cell_type": "code",
   "execution_count": 112,
   "metadata": {},
   "outputs": [
    {
     "data": {
      "text/html": [
       "<div>\n",
       "<style scoped>\n",
       "    .dataframe tbody tr th:only-of-type {\n",
       "        vertical-align: middle;\n",
       "    }\n",
       "\n",
       "    .dataframe tbody tr th {\n",
       "        vertical-align: top;\n",
       "    }\n",
       "\n",
       "    .dataframe thead th {\n",
       "        text-align: right;\n",
       "    }\n",
       "</style>\n",
       "<table border=\"1\" class=\"dataframe\">\n",
       "  <thead>\n",
       "    <tr style=\"text-align: right;\">\n",
       "      <th></th>\n",
       "      <th>Symbol</th>\n",
       "      <th>Open</th>\n",
       "      <th>High</th>\n",
       "      <th>Low</th>\n",
       "      <th>Close</th>\n",
       "    </tr>\n",
       "    <tr>\n",
       "      <th>Date</th>\n",
       "      <th></th>\n",
       "      <th></th>\n",
       "      <th></th>\n",
       "      <th></th>\n",
       "      <th></th>\n",
       "    </tr>\n",
       "  </thead>\n",
       "  <tbody>\n",
       "    <tr>\n",
       "      <th>2019-12-07</th>\n",
       "      <td>LC:COM</td>\n",
       "      <td>70500.0</td>\n",
       "      <td>72000.0</td>\n",
       "      <td>69000.0</td>\n",
       "      <td>70500.0</td>\n",
       "    </tr>\n",
       "    <tr>\n",
       "      <th>2019-07-15</th>\n",
       "      <td>LC:COM</td>\n",
       "      <td>70500.0</td>\n",
       "      <td>72000.0</td>\n",
       "      <td>69000.0</td>\n",
       "      <td>70500.0</td>\n",
       "    </tr>\n",
       "    <tr>\n",
       "      <th>2019-07-16</th>\n",
       "      <td>LC:COM</td>\n",
       "      <td>70500.0</td>\n",
       "      <td>72000.0</td>\n",
       "      <td>69000.0</td>\n",
       "      <td>70500.0</td>\n",
       "    </tr>\n",
       "    <tr>\n",
       "      <th>2019-07-17</th>\n",
       "      <td>LC:COM</td>\n",
       "      <td>70500.0</td>\n",
       "      <td>72000.0</td>\n",
       "      <td>69000.0</td>\n",
       "      <td>70500.0</td>\n",
       "    </tr>\n",
       "    <tr>\n",
       "      <th>2019-07-18</th>\n",
       "      <td>LC:COM</td>\n",
       "      <td>70500.0</td>\n",
       "      <td>72000.0</td>\n",
       "      <td>69000.0</td>\n",
       "      <td>70500.0</td>\n",
       "    </tr>\n",
       "    <tr>\n",
       "      <th>...</th>\n",
       "      <td>...</td>\n",
       "      <td>...</td>\n",
       "      <td>...</td>\n",
       "      <td>...</td>\n",
       "      <td>...</td>\n",
       "    </tr>\n",
       "    <tr>\n",
       "      <th>2024-05-28</th>\n",
       "      <td>LC:COM</td>\n",
       "      <td>105500.0</td>\n",
       "      <td>107000.0</td>\n",
       "      <td>104000.0</td>\n",
       "      <td>105500.0</td>\n",
       "    </tr>\n",
       "    <tr>\n",
       "      <th>2024-05-29</th>\n",
       "      <td>LC:COM</td>\n",
       "      <td>105500.0</td>\n",
       "      <td>107000.0</td>\n",
       "      <td>104000.0</td>\n",
       "      <td>105500.0</td>\n",
       "    </tr>\n",
       "    <tr>\n",
       "      <th>2024-05-30</th>\n",
       "      <td>LC:COM</td>\n",
       "      <td>105500.0</td>\n",
       "      <td>107000.0</td>\n",
       "      <td>104000.0</td>\n",
       "      <td>105500.0</td>\n",
       "    </tr>\n",
       "    <tr>\n",
       "      <th>2024-05-31</th>\n",
       "      <td>LC:COM</td>\n",
       "      <td>105500.0</td>\n",
       "      <td>107000.0</td>\n",
       "      <td>104000.0</td>\n",
       "      <td>105500.0</td>\n",
       "    </tr>\n",
       "    <tr>\n",
       "      <th>2024-03-06</th>\n",
       "      <td>LC:COM</td>\n",
       "      <td>103500.0</td>\n",
       "      <td>105000.0</td>\n",
       "      <td>102000.0</td>\n",
       "      <td>103500.0</td>\n",
       "    </tr>\n",
       "  </tbody>\n",
       "</table>\n",
       "<p>1224 rows × 5 columns</p>\n",
       "</div>"
      ],
      "text/plain": [
       "            Symbol      Open      High       Low     Close\n",
       "Date                                                      \n",
       "2019-12-07  LC:COM   70500.0   72000.0   69000.0   70500.0\n",
       "2019-07-15  LC:COM   70500.0   72000.0   69000.0   70500.0\n",
       "2019-07-16  LC:COM   70500.0   72000.0   69000.0   70500.0\n",
       "2019-07-17  LC:COM   70500.0   72000.0   69000.0   70500.0\n",
       "2019-07-18  LC:COM   70500.0   72000.0   69000.0   70500.0\n",
       "...            ...       ...       ...       ...       ...\n",
       "2024-05-28  LC:COM  105500.0  107000.0  104000.0  105500.0\n",
       "2024-05-29  LC:COM  105500.0  107000.0  104000.0  105500.0\n",
       "2024-05-30  LC:COM  105500.0  107000.0  104000.0  105500.0\n",
       "2024-05-31  LC:COM  105500.0  107000.0  104000.0  105500.0\n",
       "2024-03-06  LC:COM  103500.0  105000.0  102000.0  103500.0\n",
       "\n",
       "[1224 rows x 5 columns]"
      ]
     },
     "execution_count": 112,
     "metadata": {},
     "output_type": "execute_result"
    }
   ],
   "source": [
    "\n",
    "lithium = raw_df.loc[raw_df['Symbol'] == 'LC:COM']\n",
    "lithium"
   ]
  },
  {
   "cell_type": "code",
   "execution_count": 160,
   "metadata": {},
   "outputs": [
    {
     "name": "stderr",
     "output_type": "stream",
     "text": [
      "/var/folders/gk/trltqjhj687g3t_tgpw8y6yw0000gn/T/ipykernel_2229/1689284908.py:19: SettingWithCopyWarning:\n",
      "\n",
      "\n",
      "A value is trying to be set on a copy of a slice from a DataFrame.\n",
      "Try using .loc[row_indexer,col_indexer] = value instead\n",
      "\n",
      "See the caveats in the documentation: https://pandas.pydata.org/pandas-docs/stable/user_guide/indexing.html#returning-a-view-versus-a-copy\n",
      "\n"
     ]
    }
   ],
   "source": [
    "symbols = ['SCO:COM', 'JBP:COM', 'LMAHDS03:COM', 'LC:COM', 'LCO1:COM', 'LN1:COM', 'HG1:COM', 'IMR:COM']\n",
    "raw_df = te.getHistorical(symbol=symbols, initDate='2019-01-01')\n",
    "raw_df = pd.DataFrame(raw_df)\n",
    "raw_df['Date'] = pd.to_datetime(raw_df['Date'])  # Convert 'Date' to datetime\n",
    "raw_df.set_index('Date', inplace=True)  # Set 'Date' as the index\n",
    "result_df = pd.DataFrame()\n",
    "result_df = pd.DataFrame()\n",
    "\n",
    "# Calculate price index for each mineral symbol\n",
    "for symbol in symbols:\n",
    "    if symbol in raw_df['Symbol'].unique():\n",
    "        # Filter data for the current symbol\n",
    "        symbol_data = raw_df[raw_df['Symbol'] == symbol]\n",
    "        \n",
    "        # Calculate initial price (the first available Close price)\n",
    "        initial_price = symbol_data['Close'].iloc[0]\n",
    "        \n",
    "        # Calculate Price Index for the filtered data\n",
    "        symbol_data['Price Index'] = symbol_data['Close'] / initial_price * 100\n",
    "        \n",
    "        # Append the processed data to the result DataFrame\n",
    "        result_df = pd.concat([result_df, symbol_data])\n",
    "\n",
    "# Display the DataFrame with the new 'Price Index' column\n"
   ]
  },
  {
   "cell_type": "code",
   "execution_count": 161,
   "metadata": {},
   "outputs": [
    {
     "data": {
      "image/png": "[encoded data removed]",
      "text/plain": [
       "<Figure size 1008x504 with 1 Axes>"
      ]
     },
     "metadata": {
      "needs_background": "light"
     },
     "output_type": "display_data"
    }
   ],
   "source": [
    "# Ensure the 'Date' is in the DataFrame and sort by 'Date'\n",
    "result_df['Date'] = pd.to_datetime(result_df.index)  # In case it's not already converted\n",
    "result_df.sort_index(inplace=True)  # Sorting the DataFrame by the 'Date' index\n",
    "\n",
    "# Plotting the Price Index for each symbol\n",
    "fig, ax = plt.subplots(figsize=(14, 7))  # Creates a figure and a grid of subplots with a single subplot\n",
    "\n",
    "# for symbol in symbols:\n",
    "data_to_plot = result_df[result_df['Symbol'] == 'LC:COM']\n",
    "ax.plot(data_to_plot.index, data_to_plot['Price Index'], label=symbol)\n",
    "\n",
    "ax.set_title('Price Index of Critical Minerals Over Time')\n",
    "ax.set_xlabel('Date')\n",
    "ax.set_ylabel('Price Index (%)')\n",
    "ax.legend(title='Symbol')\n",
    "plt.grid(True)\n",
    "plt.show()"
   ]
  },
  {
   "cell_type": "code",
   "execution_count": 125,
   "metadata": {},
   "outputs": [
    {
     "data": {
      "text/html": [
       "<div>\n",
       "<style scoped>\n",
       "    .dataframe tbody tr th:only-of-type {\n",
       "        vertical-align: middle;\n",
       "    }\n",
       "\n",
       "    .dataframe tbody tr th {\n",
       "        vertical-align: top;\n",
       "    }\n",
       "\n",
       "    .dataframe thead th {\n",
       "        text-align: right;\n",
       "    }\n",
       "</style>\n",
       "<table border=\"1\" class=\"dataframe\">\n",
       "  <thead>\n",
       "    <tr style=\"text-align: right;\">\n",
       "      <th></th>\n",
       "      <th>Symbol</th>\n",
       "      <th>Open</th>\n",
       "      <th>High</th>\n",
       "      <th>Low</th>\n",
       "      <th>Close</th>\n",
       "      <th>Price Index</th>\n",
       "      <th>Date</th>\n",
       "    </tr>\n",
       "    <tr>\n",
       "      <th>Date</th>\n",
       "      <th></th>\n",
       "      <th></th>\n",
       "      <th></th>\n",
       "      <th></th>\n",
       "      <th></th>\n",
       "      <th></th>\n",
       "      <th></th>\n",
       "    </tr>\n",
       "  </thead>\n",
       "  <tbody>\n",
       "    <tr>\n",
       "      <th>2019-01-08</th>\n",
       "      <td>LC:COM</td>\n",
       "      <td>67000.0</td>\n",
       "      <td>68500.0</td>\n",
       "      <td>65500.0</td>\n",
       "      <td>67000.0</td>\n",
       "      <td>95.035461</td>\n",
       "      <td>2019-01-08</td>\n",
       "    </tr>\n",
       "    <tr>\n",
       "      <th>2019-01-11</th>\n",
       "      <td>LC:COM</td>\n",
       "      <td>58500.0</td>\n",
       "      <td>60000.0</td>\n",
       "      <td>57000.0</td>\n",
       "      <td>58500.0</td>\n",
       "      <td>82.978723</td>\n",
       "      <td>2019-01-11</td>\n",
       "    </tr>\n",
       "    <tr>\n",
       "      <th>2019-02-08</th>\n",
       "      <td>LC:COM</td>\n",
       "      <td>66500.0</td>\n",
       "      <td>68000.0</td>\n",
       "      <td>65000.0</td>\n",
       "      <td>66500.0</td>\n",
       "      <td>94.326241</td>\n",
       "      <td>2019-02-08</td>\n",
       "    </tr>\n",
       "    <tr>\n",
       "      <th>2019-02-09</th>\n",
       "      <td>LC:COM</td>\n",
       "      <td>61500.0</td>\n",
       "      <td>63000.0</td>\n",
       "      <td>60000.0</td>\n",
       "      <td>61500.0</td>\n",
       "      <td>87.234043</td>\n",
       "      <td>2019-02-09</td>\n",
       "    </tr>\n",
       "    <tr>\n",
       "      <th>2019-02-12</th>\n",
       "      <td>LC:COM</td>\n",
       "      <td>53500.0</td>\n",
       "      <td>55000.0</td>\n",
       "      <td>52000.0</td>\n",
       "      <td>53500.0</td>\n",
       "      <td>75.886525</td>\n",
       "      <td>2019-02-12</td>\n",
       "    </tr>\n",
       "    <tr>\n",
       "      <th>2019-03-09</th>\n",
       "      <td>LC:COM</td>\n",
       "      <td>61500.0</td>\n",
       "      <td>63000.0</td>\n",
       "      <td>60000.0</td>\n",
       "      <td>61500.0</td>\n",
       "      <td>87.234043</td>\n",
       "      <td>2019-03-09</td>\n",
       "    </tr>\n",
       "    <tr>\n",
       "      <th>2019-03-12</th>\n",
       "      <td>LC:COM</td>\n",
       "      <td>52500.0</td>\n",
       "      <td>54000.0</td>\n",
       "      <td>51000.0</td>\n",
       "      <td>52500.0</td>\n",
       "      <td>74.468085</td>\n",
       "      <td>2019-03-12</td>\n",
       "    </tr>\n",
       "    <tr>\n",
       "      <th>2019-04-09</th>\n",
       "      <td>LC:COM</td>\n",
       "      <td>61500.0</td>\n",
       "      <td>63000.0</td>\n",
       "      <td>60000.0</td>\n",
       "      <td>61500.0</td>\n",
       "      <td>87.234043</td>\n",
       "      <td>2019-04-09</td>\n",
       "    </tr>\n",
       "    <tr>\n",
       "      <th>2019-04-11</th>\n",
       "      <td>LC:COM</td>\n",
       "      <td>58000.0</td>\n",
       "      <td>59500.0</td>\n",
       "      <td>56500.0</td>\n",
       "      <td>58000.0</td>\n",
       "      <td>82.269504</td>\n",
       "      <td>2019-04-11</td>\n",
       "    </tr>\n",
       "    <tr>\n",
       "      <th>2019-04-12</th>\n",
       "      <td>LC:COM</td>\n",
       "      <td>52500.0</td>\n",
       "      <td>54000.0</td>\n",
       "      <td>51000.0</td>\n",
       "      <td>52500.0</td>\n",
       "      <td>74.468085</td>\n",
       "      <td>2019-04-12</td>\n",
       "    </tr>\n",
       "    <tr>\n",
       "      <th>2019-05-08</th>\n",
       "      <td>LC:COM</td>\n",
       "      <td>66000.0</td>\n",
       "      <td>67500.0</td>\n",
       "      <td>64500.0</td>\n",
       "      <td>66000.0</td>\n",
       "      <td>93.617021</td>\n",
       "      <td>2019-05-08</td>\n",
       "    </tr>\n",
       "    <tr>\n",
       "      <th>2019-05-09</th>\n",
       "      <td>LC:COM</td>\n",
       "      <td>61500.0</td>\n",
       "      <td>63000.0</td>\n",
       "      <td>60000.0</td>\n",
       "      <td>61500.0</td>\n",
       "      <td>87.234043</td>\n",
       "      <td>2019-05-09</td>\n",
       "    </tr>\n",
       "    <tr>\n",
       "      <th>2019-05-11</th>\n",
       "      <td>LC:COM</td>\n",
       "      <td>58000.0</td>\n",
       "      <td>59500.0</td>\n",
       "      <td>56500.0</td>\n",
       "      <td>58000.0</td>\n",
       "      <td>82.269504</td>\n",
       "      <td>2019-05-11</td>\n",
       "    </tr>\n",
       "    <tr>\n",
       "      <th>2019-05-12</th>\n",
       "      <td>LC:COM</td>\n",
       "      <td>52500.0</td>\n",
       "      <td>54000.0</td>\n",
       "      <td>51000.0</td>\n",
       "      <td>52500.0</td>\n",
       "      <td>74.468085</td>\n",
       "      <td>2019-05-12</td>\n",
       "    </tr>\n",
       "    <tr>\n",
       "      <th>2019-06-08</th>\n",
       "      <td>LC:COM</td>\n",
       "      <td>66000.0</td>\n",
       "      <td>67500.0</td>\n",
       "      <td>64500.0</td>\n",
       "      <td>66000.0</td>\n",
       "      <td>93.617021</td>\n",
       "      <td>2019-06-08</td>\n",
       "    </tr>\n",
       "    <tr>\n",
       "      <th>2019-06-09</th>\n",
       "      <td>LC:COM</td>\n",
       "      <td>61500.0</td>\n",
       "      <td>63000.0</td>\n",
       "      <td>60000.0</td>\n",
       "      <td>61500.0</td>\n",
       "      <td>87.234043</td>\n",
       "      <td>2019-06-09</td>\n",
       "    </tr>\n",
       "    <tr>\n",
       "      <th>2019-06-11</th>\n",
       "      <td>LC:COM</td>\n",
       "      <td>58000.0</td>\n",
       "      <td>59500.0</td>\n",
       "      <td>56500.0</td>\n",
       "      <td>58000.0</td>\n",
       "      <td>82.269504</td>\n",
       "      <td>2019-06-11</td>\n",
       "    </tr>\n",
       "    <tr>\n",
       "      <th>2019-06-12</th>\n",
       "      <td>LC:COM</td>\n",
       "      <td>52500.0</td>\n",
       "      <td>54000.0</td>\n",
       "      <td>51000.0</td>\n",
       "      <td>52500.0</td>\n",
       "      <td>74.468085</td>\n",
       "      <td>2019-06-12</td>\n",
       "    </tr>\n",
       "    <tr>\n",
       "      <th>2019-07-08</th>\n",
       "      <td>LC:COM</td>\n",
       "      <td>65500.0</td>\n",
       "      <td>67000.0</td>\n",
       "      <td>64000.0</td>\n",
       "      <td>65500.0</td>\n",
       "      <td>92.907801</td>\n",
       "      <td>2019-07-08</td>\n",
       "    </tr>\n",
       "    <tr>\n",
       "      <th>2019-07-11</th>\n",
       "      <td>LC:COM</td>\n",
       "      <td>58000.0</td>\n",
       "      <td>59500.0</td>\n",
       "      <td>56500.0</td>\n",
       "      <td>58000.0</td>\n",
       "      <td>82.269504</td>\n",
       "      <td>2019-07-11</td>\n",
       "    </tr>\n",
       "  </tbody>\n",
       "</table>\n",
       "</div>"
      ],
      "text/plain": [
       "            Symbol     Open     High      Low    Close  Price Index       Date\n",
       "Date                                                                          \n",
       "2019-01-08  LC:COM  67000.0  68500.0  65500.0  67000.0    95.035461 2019-01-08\n",
       "2019-01-11  LC:COM  58500.0  60000.0  57000.0  58500.0    82.978723 2019-01-11\n",
       "2019-02-08  LC:COM  66500.0  68000.0  65000.0  66500.0    94.326241 2019-02-08\n",
       "2019-02-09  LC:COM  61500.0  63000.0  60000.0  61500.0    87.234043 2019-02-09\n",
       "2019-02-12  LC:COM  53500.0  55000.0  52000.0  53500.0    75.886525 2019-02-12\n",
       "2019-03-09  LC:COM  61500.0  63000.0  60000.0  61500.0    87.234043 2019-03-09\n",
       "2019-03-12  LC:COM  52500.0  54000.0  51000.0  52500.0    74.468085 2019-03-12\n",
       "2019-04-09  LC:COM  61500.0  63000.0  60000.0  61500.0    87.234043 2019-04-09\n",
       "2019-04-11  LC:COM  58000.0  59500.0  56500.0  58000.0    82.269504 2019-04-11\n",
       "2019-04-12  LC:COM  52500.0  54000.0  51000.0  52500.0    74.468085 2019-04-12\n",
       "2019-05-08  LC:COM  66000.0  67500.0  64500.0  66000.0    93.617021 2019-05-08\n",
       "2019-05-09  LC:COM  61500.0  63000.0  60000.0  61500.0    87.234043 2019-05-09\n",
       "2019-05-11  LC:COM  58000.0  59500.0  56500.0  58000.0    82.269504 2019-05-11\n",
       "2019-05-12  LC:COM  52500.0  54000.0  51000.0  52500.0    74.468085 2019-05-12\n",
       "2019-06-08  LC:COM  66000.0  67500.0  64500.0  66000.0    93.617021 2019-06-08\n",
       "2019-06-09  LC:COM  61500.0  63000.0  60000.0  61500.0    87.234043 2019-06-09\n",
       "2019-06-11  LC:COM  58000.0  59500.0  56500.0  58000.0    82.269504 2019-06-11\n",
       "2019-06-12  LC:COM  52500.0  54000.0  51000.0  52500.0    74.468085 2019-06-12\n",
       "2019-07-08  LC:COM  65500.0  67000.0  64000.0  65500.0    92.907801 2019-07-08\n",
       "2019-07-11  LC:COM  58000.0  59500.0  56500.0  58000.0    82.269504 2019-07-11"
      ]
     },
     "execution_count": 125,
     "metadata": {},
     "output_type": "execute_result"
    }
   ],
   "source": [
    "data_to_plot.head(20)"
   ]
  },
  {
   "cell_type": "code",
   "execution_count": null,
   "metadata": {},
   "outputs": [],
   "source": [
    "\n"
   ]
  },
  {
   "cell_type": "code",
   "execution_count": null,
   "metadata": {},
   "outputs": [],
   "source": []
  },
  {
   "cell_type": "code",
   "execution_count": null,
   "metadata": {},
   "outputs": [],
   "source": []
  },
  {
   "cell_type": "code",
   "execution_count": null,
   "metadata": {},
   "outputs": [],
   "source": []
  },
  {
   "cell_type": "code",
   "execution_count": null,
   "metadata": {},
   "outputs": [],
   "source": []
  },
  {
   "cell_type": "markdown",
   "metadata": {},
   "source": [
    "Treemap for Critical Mineral Annual Percentage Change"
   ]
  },
  {
   "cell_type": "code",
   "execution_count": 129,
   "metadata": {},
   "outputs": [
    {
     "data": {
      "application/vnd.plotly.v1+json": {
       "config": {
        "plotlyServerURL": "https://plot.ly"
       },
       "data": [
        {
         "branchvalues": "total",
         "customdata": [
          [
           18.8057
          ],
          [
           93.0777
          ],
          [
           -16.5415
          ],
          [
           -7.1733
          ],
          [
           1.4311
          ],
          [
           35.3196
          ],
          [
           17.1034
          ],
          [
           -4.5536
          ],
          [
           21.7456
          ],
          [
           4.8639
          ],
          [
           -8.044
          ],
          [
           207.4403
          ],
          [
           26.3188
          ],
          [
           195.9822
          ],
          [
           20.5653
          ],
          [
           -16.6393
          ],
          [
           -13.3426
          ],
          [
           1.3802
          ],
          [
           17.2222
          ],
          [
           -16.0892
          ],
          [
           -17.6738
          ],
          [
           111.7117
          ],
          [
           -26.5097
          ],
          [
           5.4705
          ],
          [
           -51.5114
          ],
          [
           10.0517
          ],
          [
           41.6918
          ],
          [
           -4.4831
          ],
          [
           5.6
          ],
          [
           -19.0062
          ],
          [
           18.5997
          ],
          [
           -11.6885
          ],
          [
           -3.508
          ],
          [
           105.6856
          ],
          [
           2.5331
          ],
          [
           21.8825
          ],
          [
           17.1157
          ],
          [
           18.5055
          ],
          [
           10.2923
          ],
          [
           13.5375
          ],
          [
           -65.2101
          ],
          [
           5.1776
          ],
          [
           -2.9804
          ],
          [
           -13.5965
          ],
          [
           33.5938
          ],
          [
           22.627
          ],
          [
           22.6465
          ],
          [
           1.6713
          ],
          [
           5.7135
          ],
          [
           10.1268
          ],
          [
           -21.8487
          ],
          [
           -8.6519
          ],
          [
           42.0907
          ],
          [
           5.8768
          ],
          [
           60.95
          ],
          [
           -36.1645
          ],
          [
           18.2147
          ],
          [
           -3.1441
          ],
          [
           9.1742
          ],
          [
           10.1429
          ],
          [
           8.8384
          ],
          [
           30.9764
          ],
          [
           22.4456
          ],
          [
           13.4085
          ],
          [
           10.8611
          ],
          [
           -26.1719
          ],
          [
           15.9518
          ],
          [
           31.2828
          ],
          [
           -19.4126
          ],
          [
           -15.5
          ],
          [
           25.2131
          ],
          [
           9.596
          ],
          [
           -33.9368
          ],
          [
           -6.5193
          ],
          [
           -8.5177
          ],
          [
           -4.974
          ],
          [
           -22.6664
          ],
          [
           9.1667
          ],
          [
           19.7725
          ],
          [
           24.9471
          ],
          [
           -0.4219
          ],
          [
           26.5402
          ],
          [
           -4.5847
          ],
          [
           -0.661
          ],
          [
           21.2217
          ],
          [
           18.3648
          ],
          [
           61.8919
          ],
          [
           -6.3866
          ],
          [
           3.5025
          ],
          [
           -0.7937
          ],
          [
           -5.9553
          ],
          [
           28.0315
          ],
          [
           20.57017272727273
          ],
          [
           -11.56276
          ],
          [
           10.450078571428568
          ],
          [
           30.65789
          ],
          [
           8.980929166666666
          ],
          [
           13.578449999999998
          ],
          [
           -2.5211333333333323
          ],
          [
           12.490105434782611
          ]
         ],
         "domain": {
          "x": [
           0,
           1
          ],
          "y": [
           0,
           1
          ]
         },
         "hovertemplate": "%{label}<br>Year % Change= %{customdata[0]}%<extra></extra>",
         "ids": [
          "Commodities/Industrial/Aluminum",
          "Commodities/Index/Baltic Dry",
          "Commodities/Livestock/Beef",
          "Commodities/Industrial/Bitumen",
          "Commodities/Energy/Brent",
          "Commodities/Agricultural/Butter",
          "Commodities/Index/CRB ",
          "Commodities/Agricultural/Canola",
          "Commodities/Agricultural/Cheese",
          "Commodities/Energy/Coal",
          "Commodities/Industrial/Cobalt",
          "Commodities/Agricultural/Cocoa",
          "Commodities/Agricultural/Coffee",
          "Commodities/Index/Containerized Freight ",
          "Commodities/Metals/Copper",
          "Commodities/Agricultural/Corn",
          "Commodities/Agricultural/Cotton",
          "Commodities/Energy/Crude Oil",
          "Commodities/Industrial/Di-ammonium",
          "Commodities/Index/EU Carbon Permits",
          "Commodities/Livestock/Eggs CH",
          "Commodities/Livestock/Eggs US",
          "Commodities/Energy/Ethanol",
          "Commodities/Livestock/Feeder Cattle",
          "Commodities/Electricity/France Electricity",
          "Commodities/Index/GSCI",
          "Commodities/Industrial/Gallium",
          "Commodities/Energy/Gasoline",
          "Commodities/Industrial/Germanium",
          "Commodities/Electricity/Germany Electricity",
          "Commodities/Metals/Gold",
          "Commodities/Metals/HRC Steel",
          "Commodities/Energy/Heating Oil",
          "Commodities/Industrial/Indium",
          "Commodities/Metals/Iron Ore",
          "Commodities/Electricity/Italy Electricity",
          "Commodities/Industrial/Kraft Pulp",
          "Commodities/Index/LME ",
          "Commodities/Industrial/Lead",
          "Commodities/Livestock/Lean Hogs",
          "Commodities/Metals/Lithium",
          "Commodities/Livestock/Live Cattle",
          "Commodities/Agricultural/Lumber",
          "Commodities/Industrial/Magnesium",
          "Commodities/Industrial/Manganese",
          "Commodities/Energy/Methanol",
          "Commodities/Agricultural/Milk",
          "Commodities/Industrial/Molybdenum",
          "Commodities/Energy/Naphtha",
          "Commodities/Energy/Natural gas",
          "Commodities/Industrial/Neodymium",
          "Commodities/Industrial/Nickel",
          "Commodities/Index/Nuclear Energy ",
          "Commodities/Agricultural/Oat",
          "Commodities/Agricultural/Orange Juice",
          "Commodities/Industrial/Palladium",
          "Commodities/Agricultural/Palm Oil",
          "Commodities/Metals/Platinum",
          "Commodities/Industrial/Polyethylene",
          "Commodities/Industrial/Polypropylene",
          "Commodities/Industrial/Polyvinyl",
          "Commodities/Agricultural/Potatoes",
          "Commodities/Livestock/Poultry",
          "Commodities/Energy/Propane",
          "Commodities/Agricultural/Rapeseed",
          "Commodities/Industrial/Rhodium",
          "Commodities/Agricultural/Rice",
          "Commodities/Agricultural/Rubber",
          "Commodities/Index/SSE Consume Commodity ",
          "Commodities/Livestock/Salmon",
          "Commodities/Metals/Silver",
          "Commodities/Industrial/Soda Ash",
          "Commodities/Index/Solar Energy ",
          "Commodities/Agricultural/Soybeans",
          "Commodities/Electricity/Spain Electricity",
          "Commodities/Metals/Steel",
          "Commodities/Agricultural/Sugar",
          "Commodities/Agricultural/Sunflower Oil",
          "Commodities/Energy/TTF Gas",
          "Commodities/Agricultural/Tea",
          "Commodities/Industrial/Tellurium",
          "Commodities/Industrial/Tin",
          "Commodities/Metals/Titanium",
          "Commodities/Electricity/UK Electricity",
          "Commodities/Energy/UK Gas",
          "Commodities/Energy/Urals Oil",
          "Commodities/Energy/Uranium",
          "Commodities/Industrial/Urea",
          "Commodities/Agricultural/Wheat",
          "Commodities/Index/Wind Energy ",
          "Commodities/Agricultural/Wool",
          "Commodities/Industrial/Zinc",
          "Commodities/Agricultural",
          "Commodities/Electricity",
          "Commodities/Energy",
          "Commodities/Index",
          "Commodities/Industrial",
          "Commodities/Livestock",
          "Commodities/Metals",
          "Commodities"
         ],
         "labels": [
          "Aluminum",
          "Baltic Dry",
          "Beef",
          "Bitumen",
          "Brent",
          "Butter",
          "CRB ",
          "Canola",
          "Cheese",
          "Coal",
          "Cobalt",
          "Cocoa",
          "Coffee",
          "Containerized Freight ",
          "Copper",
          "Corn",
          "Cotton",
          "Crude Oil",
          "Di-ammonium",
          "EU Carbon Permits",
          "Eggs CH",
          "Eggs US",
          "Ethanol",
          "Feeder Cattle",
          "France Electricity",
          "GSCI",
          "Gallium",
          "Gasoline",
          "Germanium",
          "Germany Electricity",
          "Gold",
          "HRC Steel",
          "Heating Oil",
          "Indium",
          "Iron Ore",
          "Italy Electricity",
          "Kraft Pulp",
          "LME ",
          "Lead",
          "Lean Hogs",
          "Lithium",
          "Live Cattle",
          "Lumber",
          "Magnesium",
          "Manganese",
          "Methanol",
          "Milk",
          "Molybdenum",
          "Naphtha",
          "Natural gas",
          "Neodymium",
          "Nickel",
          "Nuclear Energy ",
          "Oat",
          "Orange Juice",
          "Palladium",
          "Palm Oil",
          "Platinum",
          "Polyethylene",
          "Polypropylene",
          "Polyvinyl",
          "Potatoes",
          "Poultry",
          "Propane",
          "Rapeseed",
          "Rhodium",
          "Rice",
          "Rubber",
          "SSE Consume Commodity ",
          "Salmon",
          "Silver",
          "Soda Ash",
          "Solar Energy ",
          "Soybeans",
          "Spain Electricity",
          "Steel",
          "Sugar",
          "Sunflower Oil",
          "TTF Gas",
          "Tea",
          "Tellurium",
          "Tin",
          "Titanium",
          "UK Electricity",
          "UK Gas",
          "Urals Oil",
          "Uranium",
          "Urea",
          "Wheat",
          "Wind Energy ",
          "Wool",
          "Zinc",
          "Agricultural",
          "Electricity",
          "Energy",
          "Index",
          "Industrial",
          "Livestock",
          "Metals",
          "Commodities"
         ],
         "marker": {
          "coloraxis": "coloraxis",
          "colors": [
           18.8057,
           93.0777,
           -16.5415,
           -7.1733,
           1.4311,
           35.3196,
           17.1034,
           -4.5536,
           21.7456,
           4.8639,
           -8.044,
           207.4403,
           26.3188,
           195.9822,
           20.5653,
           -16.6393,
           -13.3426,
           1.3802,
           17.2222,
           -16.0892,
           -17.6738,
           111.7117,
           -26.5097,
           5.4705,
           -51.5114,
           10.0517,
           41.6918,
           -4.4831,
           5.6,
           -19.0062,
           18.5997,
           -11.6885,
           -3.508,
           105.6856,
           2.5331,
           21.8825,
           17.1157,
           18.5055,
           10.2923,
           13.5375,
           -65.2101,
           5.1776,
           -2.9804,
           -13.5965,
           33.5938,
           22.627,
           22.6465,
           1.6713,
           5.7135,
           10.1268,
           -21.8487,
           -8.6519,
           42.0907,
           5.8768,
           60.95,
           -36.1645,
           18.2147,
           -3.1441,
           9.1742,
           10.1429,
           8.8384,
           30.9764,
           22.4456,
           13.4085,
           10.8611,
           -26.1719,
           15.9518,
           31.2828,
           -19.4126,
           -15.5,
           25.2131,
           9.596,
           -33.9368,
           -6.5193,
           -8.5177,
           -4.974,
           -22.6664,
           9.1667,
           19.7725,
           24.9471,
           -0.4219,
           26.5402,
           -4.5847,
           -0.661,
           21.2217,
           18.3648,
           61.8919,
           -6.3866,
           3.5025,
           -0.7937,
           -5.9553,
           28.0315,
           20.57017272727273,
           -11.56276,
           10.450078571428568,
           30.65789,
           8.980929166666666,
           13.578449999999998,
           -2.5211333333333323,
           12.490105434782611
          ]
         },
         "name": "",
         "parents": [
          "Commodities/Industrial",
          "Commodities/Index",
          "Commodities/Livestock",
          "Commodities/Industrial",
          "Commodities/Energy",
          "Commodities/Agricultural",
          "Commodities/Index",
          "Commodities/Agricultural",
          "Commodities/Agricultural",
          "Commodities/Energy",
          "Commodities/Industrial",
          "Commodities/Agricultural",
          "Commodities/Agricultural",
          "Commodities/Index",
          "Commodities/Metals",
          "Commodities/Agricultural",
          "Commodities/Agricultural",
          "Commodities/Energy",
          "Commodities/Industrial",
          "Commodities/Index",
          "Commodities/Livestock",
          "Commodities/Livestock",
          "Commodities/Energy",
          "Commodities/Livestock",
          "Commodities/Electricity",
          "Commodities/Index",
          "Commodities/Industrial",
          "Commodities/Energy",
          "Commodities/Industrial",
          "Commodities/Electricity",
          "Commodities/Metals",
          "Commodities/Metals",
          "Commodities/Energy",
          "Commodities/Industrial",
          "Commodities/Metals",
          "Commodities/Electricity",
          "Commodities/Industrial",
          "Commodities/Index",
          "Commodities/Industrial",
          "Commodities/Livestock",
          "Commodities/Metals",
          "Commodities/Livestock",
          "Commodities/Agricultural",
          "Commodities/Industrial",
          "Commodities/Industrial",
          "Commodities/Energy",
          "Commodities/Agricultural",
          "Commodities/Industrial",
          "Commodities/Energy",
          "Commodities/Energy",
          "Commodities/Industrial",
          "Commodities/Industrial",
          "Commodities/Index",
          "Commodities/Agricultural",
          "Commodities/Agricultural",
          "Commodities/Industrial",
          "Commodities/Agricultural",
          "Commodities/Metals",
          "Commodities/Industrial",
          "Commodities/Industrial",
          "Commodities/Industrial",
          "Commodities/Agricultural",
          "Commodities/Livestock",
          "Commodities/Energy",
          "Commodities/Agricultural",
          "Commodities/Industrial",
          "Commodities/Agricultural",
          "Commodities/Agricultural",
          "Commodities/Index",
          "Commodities/Livestock",
          "Commodities/Metals",
          "Commodities/Industrial",
          "Commodities/Index",
          "Commodities/Agricultural",
          "Commodities/Electricity",
          "Commodities/Metals",
          "Commodities/Agricultural",
          "Commodities/Agricultural",
          "Commodities/Energy",
          "Commodities/Agricultural",
          "Commodities/Industrial",
          "Commodities/Industrial",
          "Commodities/Metals",
          "Commodities/Electricity",
          "Commodities/Energy",
          "Commodities/Energy",
          "Commodities/Energy",
          "Commodities/Industrial",
          "Commodities/Agricultural",
          "Commodities/Index",
          "Commodities/Agricultural",
          "Commodities/Industrial",
          "Commodities",
          "Commodities",
          "Commodities",
          "Commodities",
          "Commodities",
          "Commodities",
          "Commodities",
          ""
         ],
         "type": "treemap",
         "values": [
          1,
          1,
          1,
          1,
          1,
          1,
          1,
          1,
          1,
          1,
          1,
          1,
          1,
          1,
          1,
          1,
          1,
          1,
          1,
          1,
          1,
          1,
          1,
          1,
          1,
          1,
          1,
          1,
          1,
          1,
          1,
          1,
          1,
          1,
          1,
          1,
          1,
          1,
          1,
          1,
          1,
          1,
          1,
          1,
          1,
          1,
          1,
          1,
          1,
          1,
          1,
          1,
          1,
          1,
          1,
          1,
          1,
          1,
          1,
          1,
          1,
          1,
          1,
          1,
          1,
          1,
          1,
          1,
          1,
          1,
          1,
          1,
          1,
          1,
          1,
          1,
          1,
          1,
          1,
          1,
          1,
          1,
          1,
          1,
          1,
          1,
          1,
          1,
          1,
          1,
          1,
          1,
          22,
          5,
          14,
          10,
          24,
          8,
          9,
          92
         ]
        }
       ],
       "layout": {
        "autosize": false,
        "coloraxis": {
         "cmid": 0,
         "colorbar": {
          "title": {
           "text": "Year%Change"
          }
         },
         "colorscale": [
          [
           0,
           "rgb(165,0,38)"
          ],
          [
           0.1,
           "rgb(215,48,39)"
          ],
          [
           0.2,
           "rgb(244,109,67)"
          ],
          [
           0.3,
           "rgb(253,174,97)"
          ],
          [
           0.4,
           "rgb(254,224,139)"
          ],
          [
           0.5,
           "rgb(255,255,191)"
          ],
          [
           0.6,
           "rgb(217,239,139)"
          ],
          [
           0.7,
           "rgb(166,217,106)"
          ],
          [
           0.8,
           "rgb(102,189,99)"
          ],
          [
           0.9,
           "rgb(26,152,80)"
          ],
          [
           1,
           "rgb(0,104,55)"
          ]
         ]
        },
        "height": 700,
        "legend": {
         "tracegroupgap": 0
        },
        "margin": {
         "b": 0,
         "l": 0,
         "r": 0,
         "t": 0
        },
        "template": {
         "data": {
          "bar": [
           {
            "error_x": {
             "color": "#2a3f5f"
            },
            "error_y": {
             "color": "#2a3f5f"
            },
            "marker": {
             "line": {
              "color": "#E5ECF6",
              "width": 0.5
             },
             "pattern": {
              "fillmode": "overlay",
              "size": 10,
              "solidity": 0.2
             }
            },
            "type": "bar"
           }
          ],
          "barpolar": [
           {
            "marker": {
             "line": {
              "color": "#E5ECF6",
              "width": 0.5
             },
             "pattern": {
              "fillmode": "overlay",
              "size": 10,
              "solidity": 0.2
             }
            },
            "type": "barpolar"
           }
          ],
          "carpet": [
           {
            "aaxis": {
             "endlinecolor": "#2a3f5f",
             "gridcolor": "white",
             "linecolor": "white",
             "minorgridcolor": "white",
             "startlinecolor": "#2a3f5f"
            },
            "baxis": {
             "endlinecolor": "#2a3f5f",
             "gridcolor": "white",
             "linecolor": "white",
             "minorgridcolor": "white",
             "startlinecolor": "#2a3f5f"
            },
            "type": "carpet"
           }
          ],
          "choropleth": [
           {
            "colorbar": {
             "outlinewidth": 0,
             "ticks": ""
            },
            "type": "choropleth"
           }
          ],
          "contour": [
           {
            "colorbar": {
             "outlinewidth": 0,
             "ticks": ""
            },
            "colorscale": [
             [
              0,
              "#0d0887"
             ],
             [
              0.1111111111111111,
              "#46039f"
             ],
             [
              0.2222222222222222,
              "#7201a8"
             ],
             [
              0.3333333333333333,
              "#9c179e"
             ],
             [
              0.4444444444444444,
              "#bd3786"
             ],
             [
              0.5555555555555556,
              "#d8576b"
             ],
             [
              0.6666666666666666,
              "#ed7953"
             ],
             [
              0.7777777777777778,
              "#fb9f3a"
             ],
             [
              0.8888888888888888,
              "#fdca26"
             ],
             [
              1,
              "#f0f921"
             ]
            ],
            "type": "contour"
           }
          ],
          "contourcarpet": [
           {
            "colorbar": {
             "outlinewidth": 0,
             "ticks": ""
            },
            "type": "contourcarpet"
           }
          ],
          "heatmap": [
           {
            "colorbar": {
             "outlinewidth": 0,
             "ticks": ""
            },
            "colorscale": [
             [
              0,
              "#0d0887"
             ],
             [
              0.1111111111111111,
              "#46039f"
             ],
             [
              0.2222222222222222,
              "#7201a8"
             ],
             [
              0.3333333333333333,
              "#9c179e"
             ],
             [
              0.4444444444444444,
              "#bd3786"
             ],
             [
              0.5555555555555556,
              "#d8576b"
             ],
             [
              0.6666666666666666,
              "#ed7953"
             ],
             [
              0.7777777777777778,
              "#fb9f3a"
             ],
             [
              0.8888888888888888,
              "#fdca26"
             ],
             [
              1,
              "#f0f921"
             ]
            ],
            "type": "heatmap"
           }
          ],
          "heatmapgl": [
           {
            "colorbar": {
             "outlinewidth": 0,
             "ticks": ""
            },
            "colorscale": [
             [
              0,
              "#0d0887"
             ],
             [
              0.1111111111111111,
              "#46039f"
             ],
             [
              0.2222222222222222,
              "#7201a8"
             ],
             [
              0.3333333333333333,
              "#9c179e"
             ],
             [
              0.4444444444444444,
              "#bd3786"
             ],
             [
              0.5555555555555556,
              "#d8576b"
             ],
             [
              0.6666666666666666,
              "#ed7953"
             ],
             [
              0.7777777777777778,
              "#fb9f3a"
             ],
             [
              0.8888888888888888,
              "#fdca26"
             ],
             [
              1,
              "#f0f921"
             ]
            ],
            "type": "heatmapgl"
           }
          ],
          "histogram": [
           {
            "marker": {
             "pattern": {
              "fillmode": "overlay",
              "size": 10,
              "solidity": 0.2
             }
            },
            "type": "histogram"
           }
          ],
          "histogram2d": [
           {
            "colorbar": {
             "outlinewidth": 0,
             "ticks": ""
            },
            "colorscale": [
             [
              0,
              "#0d0887"
             ],
             [
              0.1111111111111111,
              "#46039f"
             ],
             [
              0.2222222222222222,
              "#7201a8"
             ],
             [
              0.3333333333333333,
              "#9c179e"
             ],
             [
              0.4444444444444444,
              "#bd3786"
             ],
             [
              0.5555555555555556,
              "#d8576b"
             ],
             [
              0.6666666666666666,
              "#ed7953"
             ],
             [
              0.7777777777777778,
              "#fb9f3a"
             ],
             [
              0.8888888888888888,
              "#fdca26"
             ],
             [
              1,
              "#f0f921"
             ]
            ],
            "type": "histogram2d"
           }
          ],
          "histogram2dcontour": [
           {
            "colorbar": {
             "outlinewidth": 0,
             "ticks": ""
            },
            "colorscale": [
             [
              0,
              "#0d0887"
             ],
             [
              0.1111111111111111,
              "#46039f"
             ],
             [
              0.2222222222222222,
              "#7201a8"
             ],
             [
              0.3333333333333333,
              "#9c179e"
             ],
             [
              0.4444444444444444,
              "#bd3786"
             ],
             [
              0.5555555555555556,
              "#d8576b"
             ],
             [
              0.6666666666666666,
              "#ed7953"
             ],
             [
              0.7777777777777778,
              "#fb9f3a"
             ],
             [
              0.8888888888888888,
              "#fdca26"
             ],
             [
              1,
              "#f0f921"
             ]
            ],
            "type": "histogram2dcontour"
           }
          ],
          "mesh3d": [
           {
            "colorbar": {
             "outlinewidth": 0,
             "ticks": ""
            },
            "type": "mesh3d"
           }
          ],
          "parcoords": [
           {
            "line": {
             "colorbar": {
              "outlinewidth": 0,
              "ticks": ""
             }
            },
            "type": "parcoords"
           }
          ],
          "pie": [
           {
            "automargin": true,
            "type": "pie"
           }
          ],
          "scatter": [
           {
            "fillpattern": {
             "fillmode": "overlay",
             "size": 10,
             "solidity": 0.2
            },
            "type": "scatter"
           }
          ],
          "scatter3d": [
           {
            "line": {
             "colorbar": {
              "outlinewidth": 0,
              "ticks": ""
             }
            },
            "marker": {
             "colorbar": {
              "outlinewidth": 0,
              "ticks": ""
             }
            },
            "type": "scatter3d"
           }
          ],
          "scattercarpet": [
           {
            "marker": {
             "colorbar": {
              "outlinewidth": 0,
              "ticks": ""
             }
            },
            "type": "scattercarpet"
           }
          ],
          "scattergeo": [
           {
            "marker": {
             "colorbar": {
              "outlinewidth": 0,
              "ticks": ""
             }
            },
            "type": "scattergeo"
           }
          ],
          "scattergl": [
           {
            "marker": {
             "colorbar": {
              "outlinewidth": 0,
              "ticks": ""
             }
            },
            "type": "scattergl"
           }
          ],
          "scattermapbox": [
           {
            "marker": {
             "colorbar": {
              "outlinewidth": 0,
              "ticks": ""
             }
            },
            "type": "scattermapbox"
           }
          ],
          "scatterpolar": [
           {
            "marker": {
             "colorbar": {
              "outlinewidth": 0,
              "ticks": ""
             }
            },
            "type": "scatterpolar"
           }
          ],
          "scatterpolargl": [
           {
            "marker": {
             "colorbar": {
              "outlinewidth": 0,
              "ticks": ""
             }
            },
            "type": "scatterpolargl"
           }
          ],
          "scatterternary": [
           {
            "marker": {
             "colorbar": {
              "outlinewidth": 0,
              "ticks": ""
             }
            },
            "type": "scatterternary"
           }
          ],
          "surface": [
           {
            "colorbar": {
             "outlinewidth": 0,
             "ticks": ""
            },
            "colorscale": [
             [
              0,
              "#0d0887"
             ],
             [
              0.1111111111111111,
              "#46039f"
             ],
             [
              0.2222222222222222,
              "#7201a8"
             ],
             [
              0.3333333333333333,
              "#9c179e"
             ],
             [
              0.4444444444444444,
              "#bd3786"
             ],
             [
              0.5555555555555556,
              "#d8576b"
             ],
             [
              0.6666666666666666,
              "#ed7953"
             ],
             [
              0.7777777777777778,
              "#fb9f3a"
             ],
             [
              0.8888888888888888,
              "#fdca26"
             ],
             [
              1,
              "#f0f921"
             ]
            ],
            "type": "surface"
           }
          ],
          "table": [
           {
            "cells": {
             "fill": {
              "color": "#EBF0F8"
             },
             "line": {
              "color": "white"
             }
            },
            "header": {
             "fill": {
              "color": "#C8D4E3"
             },
             "line": {
              "color": "white"
             }
            },
            "type": "table"
           }
          ]
         },
         "layout": {
          "annotationdefaults": {
           "arrowcolor": "#2a3f5f",
           "arrowhead": 0,
           "arrowwidth": 1
          },
          "autotypenumbers": "strict",
          "coloraxis": {
           "colorbar": {
            "outlinewidth": 0,
            "ticks": ""
           }
          },
          "colorscale": {
           "diverging": [
            [
             0,
             "#8e0152"
            ],
            [
             0.1,
             "#c51b7d"
            ],
            [
             0.2,
             "#de77ae"
            ],
            [
             0.3,
             "#f1b6da"
            ],
            [
             0.4,
             "#fde0ef"
            ],
            [
             0.5,
             "#f7f7f7"
            ],
            [
             0.6,
             "#e6f5d0"
            ],
            [
             0.7,
             "#b8e186"
            ],
            [
             0.8,
             "#7fbc41"
            ],
            [
             0.9,
             "#4d9221"
            ],
            [
             1,
             "#276419"
            ]
           ],
           "sequential": [
            [
             0,
             "#0d0887"
            ],
            [
             0.1111111111111111,
             "#46039f"
            ],
            [
             0.2222222222222222,
             "#7201a8"
            ],
            [
             0.3333333333333333,
             "#9c179e"
            ],
            [
             0.4444444444444444,
             "#bd3786"
            ],
            [
             0.5555555555555556,
             "#d8576b"
            ],
            [
             0.6666666666666666,
             "#ed7953"
            ],
            [
             0.7777777777777778,
             "#fb9f3a"
            ],
            [
             0.8888888888888888,
             "#fdca26"
            ],
            [
             1,
             "#f0f921"
            ]
           ],
           "sequentialminus": [
            [
             0,
             "#0d0887"
            ],
            [
             0.1111111111111111,
             "#46039f"
            ],
            [
             0.2222222222222222,
             "#7201a8"
            ],
            [
             0.3333333333333333,
             "#9c179e"
            ],
            [
             0.4444444444444444,
             "#bd3786"
            ],
            [
             0.5555555555555556,
             "#d8576b"
            ],
            [
             0.6666666666666666,
             "#ed7953"
            ],
            [
             0.7777777777777778,
             "#fb9f3a"
            ],
            [
             0.8888888888888888,
             "#fdca26"
            ],
            [
             1,
             "#f0f921"
            ]
           ]
          },
          "colorway": [
           "#636efa",
           "#EF553B",
           "#00cc96",
           "#ab63fa",
           "#FFA15A",
           "#19d3f3",
           "#FF6692",
           "#B6E880",
           "#FF97FF",
           "#FECB52"
          ],
          "font": {
           "color": "#2a3f5f"
          },
          "geo": {
           "bgcolor": "white",
           "lakecolor": "white",
           "landcolor": "#E5ECF6",
           "showlakes": true,
           "showland": true,
           "subunitcolor": "white"
          },
          "hoverlabel": {
           "align": "left"
          },
          "hovermode": "closest",
          "mapbox": {
           "style": "light"
          },
          "paper_bgcolor": "white",
          "plot_bgcolor": "#E5ECF6",
          "polar": {
           "angularaxis": {
            "gridcolor": "white",
            "linecolor": "white",
            "ticks": ""
           },
           "bgcolor": "#E5ECF6",
           "radialaxis": {
            "gridcolor": "white",
            "linecolor": "white",
            "ticks": ""
           }
          },
          "scene": {
           "xaxis": {
            "backgroundcolor": "#E5ECF6",
            "gridcolor": "white",
            "gridwidth": 2,
            "linecolor": "white",
            "showbackground": true,
            "ticks": "",
            "zerolinecolor": "white"
           },
           "yaxis": {
            "backgroundcolor": "#E5ECF6",
            "gridcolor": "white",
            "gridwidth": 2,
            "linecolor": "white",
            "showbackground": true,
            "ticks": "",
            "zerolinecolor": "white"
           },
           "zaxis": {
            "backgroundcolor": "#E5ECF6",
            "gridcolor": "white",
            "gridwidth": 2,
            "linecolor": "white",
            "showbackground": true,
            "ticks": "",
            "zerolinecolor": "white"
           }
          },
          "shapedefaults": {
           "line": {
            "color": "#2a3f5f"
           }
          },
          "ternary": {
           "aaxis": {
            "gridcolor": "white",
            "linecolor": "white",
            "ticks": ""
           },
           "baxis": {
            "gridcolor": "white",
            "linecolor": "white",
            "ticks": ""
           },
           "bgcolor": "#E5ECF6",
           "caxis": {
            "gridcolor": "white",
            "linecolor": "white",
            "ticks": ""
           }
          },
          "title": {
           "x": 0.05
          },
          "xaxis": {
           "automargin": true,
           "gridcolor": "white",
           "linecolor": "white",
           "ticks": "",
           "title": {
            "standoff": 15
           },
           "zerolinecolor": "white",
           "zerolinewidth": 2
          },
          "yaxis": {
           "automargin": true,
           "gridcolor": "white",
           "linecolor": "white",
           "ticks": "",
           "title": {
            "standoff": 15
           },
           "zerolinecolor": "white",
           "zerolinewidth": 2
          }
         }
        },
        "width": 1200
       }
      }
     },
     "metadata": {},
     "output_type": "display_data"
    }
   ],
   "source": [
    "commodities_data = te.getMarketsData(marketsField='commodities', output_type='df') \n",
    "commodities = commodities_data.rename(columns={'YearlyPercentualChange': 'Year%Change'})\n",
    "commodities['Name'] = commodities['Name'].str.replace(\"Index\", \"\")\n",
    "fig = px.treemap(commodities, path=[px.Constant(\"Commodities\"),'Group', 'Name'], color='Year%Change', color_continuous_scale='rdylgn',color_continuous_midpoint=0)\n",
    "fig.update_layout(\n",
    "    margin = dict(t=0, l=0, r=0, b=0),autosize=False,\n",
    "    width=1200,\n",
    "    height=700\n",
    ")\n",
    "fig.update_traces(hovertemplate='%{label}<br>Year % Change= %{customdata[0]}%<extra></extra>')\n",
    "fig.show()"
   ]
  },
  {
   "cell_type": "code",
   "execution_count": 139,
   "metadata": {},
   "outputs": [
    {
     "data": {
      "application/vnd.plotly.v1+json": {
       "config": {
        "plotlyServerURL": "https://plot.ly"
       },
       "data": [
        {
         "branchvalues": "total",
         "customdata": [
          [
           18.8057
          ],
          [
           -8.044
          ],
          [
           20.5971
          ],
          [
           2.5331
          ],
          [
           -65.2101
          ],
          [
           33.5938
          ],
          [
           -8.6519
          ],
          [
           -4.974
          ],
          [
           8.925900000000002
          ],
          [
           -11.763475
          ],
          [
           -1.4187874999999988
          ]
         ],
         "domain": {
          "x": [
           0,
           1
          ],
          "y": [
           0,
           1
          ]
         },
         "hovertemplate": "%{label}<br>Year % Change= %{customdata[0]}%<extra></extra>",
         "ids": [
          "Commodities/Industrial/Aluminum",
          "Commodities/Industrial/Cobalt",
          "Commodities/Metals/Copper",
          "Commodities/Metals/Iron Ore",
          "Commodities/Metals/Lithium",
          "Commodities/Industrial/Manganese",
          "Commodities/Industrial/Nickel",
          "Commodities/Metals/Steel",
          "Commodities/Industrial",
          "Commodities/Metals",
          "Commodities"
         ],
         "labels": [
          "Aluminum",
          "Cobalt",
          "Copper",
          "Iron Ore",
          "Lithium",
          "Manganese",
          "Nickel",
          "Steel",
          "Industrial",
          "Metals",
          "Commodities"
         ],
         "marker": {
          "coloraxis": "coloraxis",
          "colors": [
           18.8057,
           -8.044,
           20.5971,
           2.5331,
           -65.2101,
           33.5938,
           -8.6519,
           -4.974,
           8.925900000000002,
           -11.763475,
           -1.4187874999999988
          ]
         },
         "name": "",
         "parents": [
          "Commodities/Industrial",
          "Commodities/Industrial",
          "Commodities/Metals",
          "Commodities/Metals",
          "Commodities/Metals",
          "Commodities/Industrial",
          "Commodities/Industrial",
          "Commodities/Metals",
          "Commodities",
          "Commodities",
          ""
         ],
         "type": "treemap",
         "values": [
          1,
          1,
          1,
          1,
          1,
          1,
          1,
          1,
          4,
          4,
          8
         ]
        }
       ],
       "layout": {
        "coloraxis": {
         "cmid": 0,
         "colorbar": {
          "title": {
           "text": "Year%Change"
          }
         },
         "colorscale": [
          [
           0,
           "rgb(165,0,38)"
          ],
          [
           0.1,
           "rgb(215,48,39)"
          ],
          [
           0.2,
           "rgb(244,109,67)"
          ],
          [
           0.3,
           "rgb(253,174,97)"
          ],
          [
           0.4,
           "rgb(254,224,139)"
          ],
          [
           0.5,
           "rgb(255,255,191)"
          ],
          [
           0.6,
           "rgb(217,239,139)"
          ],
          [
           0.7,
           "rgb(166,217,106)"
          ],
          [
           0.8,
           "rgb(102,189,99)"
          ],
          [
           0.9,
           "rgb(26,152,80)"
          ],
          [
           1,
           "rgb(0,104,55)"
          ]
         ]
        },
        "legend": {
         "tracegroupgap": 0
        },
        "margin": {
         "t": 60
        },
        "template": {
         "data": {
          "bar": [
           {
            "error_x": {
             "color": "#2a3f5f"
            },
            "error_y": {
             "color": "#2a3f5f"
            },
            "marker": {
             "line": {
              "color": "#E5ECF6",
              "width": 0.5
             },
             "pattern": {
              "fillmode": "overlay",
              "size": 10,
              "solidity": 0.2
             }
            },
            "type": "bar"
           }
          ],
          "barpolar": [
           {
            "marker": {
             "line": {
              "color": "#E5ECF6",
              "width": 0.5
             },
             "pattern": {
              "fillmode": "overlay",
              "size": 10,
              "solidity": 0.2
             }
            },
            "type": "barpolar"
           }
          ],
          "carpet": [
           {
            "aaxis": {
             "endlinecolor": "#2a3f5f",
             "gridcolor": "white",
             "linecolor": "white",
             "minorgridcolor": "white",
             "startlinecolor": "#2a3f5f"
            },
            "baxis": {
             "endlinecolor": "#2a3f5f",
             "gridcolor": "white",
             "linecolor": "white",
             "minorgridcolor": "white",
             "startlinecolor": "#2a3f5f"
            },
            "type": "carpet"
           }
          ],
          "choropleth": [
           {
            "colorbar": {
             "outlinewidth": 0,
             "ticks": ""
            },
            "type": "choropleth"
           }
          ],
          "contour": [
           {
            "colorbar": {
             "outlinewidth": 0,
             "ticks": ""
            },
            "colorscale": [
             [
              0,
              "#0d0887"
             ],
             [
              0.1111111111111111,
              "#46039f"
             ],
             [
              0.2222222222222222,
              "#7201a8"
             ],
             [
              0.3333333333333333,
              "#9c179e"
             ],
             [
              0.4444444444444444,
              "#bd3786"
             ],
             [
              0.5555555555555556,
              "#d8576b"
             ],
             [
              0.6666666666666666,
              "#ed7953"
             ],
             [
              0.7777777777777778,
              "#fb9f3a"
             ],
             [
              0.8888888888888888,
              "#fdca26"
             ],
             [
              1,
              "#f0f921"
             ]
            ],
            "type": "contour"
           }
          ],
          "contourcarpet": [
           {
            "colorbar": {
             "outlinewidth": 0,
             "ticks": ""
            },
            "type": "contourcarpet"
           }
          ],
          "heatmap": [
           {
            "colorbar": {
             "outlinewidth": 0,
             "ticks": ""
            },
            "colorscale": [
             [
              0,
              "#0d0887"
             ],
             [
              0.1111111111111111,
              "#46039f"
             ],
             [
              0.2222222222222222,
              "#7201a8"
             ],
             [
              0.3333333333333333,
              "#9c179e"
             ],
             [
              0.4444444444444444,
              "#bd3786"
             ],
             [
              0.5555555555555556,
              "#d8576b"
             ],
             [
              0.6666666666666666,
              "#ed7953"
             ],
             [
              0.7777777777777778,
              "#fb9f3a"
             ],
             [
              0.8888888888888888,
              "#fdca26"
             ],
             [
              1,
              "#f0f921"
             ]
            ],
            "type": "heatmap"
           }
          ],
          "heatmapgl": [
           {
            "colorbar": {
             "outlinewidth": 0,
             "ticks": ""
            },
            "colorscale": [
             [
              0,
              "#0d0887"
             ],
             [
              0.1111111111111111,
              "#46039f"
             ],
             [
              0.2222222222222222,
              "#7201a8"
             ],
             [
              0.3333333333333333,
              "#9c179e"
             ],
             [
              0.4444444444444444,
              "#bd3786"
             ],
             [
              0.5555555555555556,
              "#d8576b"
             ],
             [
              0.6666666666666666,
              "#ed7953"
             ],
             [
              0.7777777777777778,
              "#fb9f3a"
             ],
             [
              0.8888888888888888,
              "#fdca26"
             ],
             [
              1,
              "#f0f921"
             ]
            ],
            "type": "heatmapgl"
           }
          ],
          "histogram": [
           {
            "marker": {
             "pattern": {
              "fillmode": "overlay",
              "size": 10,
              "solidity": 0.2
             }
            },
            "type": "histogram"
           }
          ],
          "histogram2d": [
           {
            "colorbar": {
             "outlinewidth": 0,
             "ticks": ""
            },
            "colorscale": [
             [
              0,
              "#0d0887"
             ],
             [
              0.1111111111111111,
              "#46039f"
             ],
             [
              0.2222222222222222,
              "#7201a8"
             ],
             [
              0.3333333333333333,
              "#9c179e"
             ],
             [
              0.4444444444444444,
              "#bd3786"
             ],
             [
              0.5555555555555556,
              "#d8576b"
             ],
             [
              0.6666666666666666,
              "#ed7953"
             ],
             [
              0.7777777777777778,
              "#fb9f3a"
             ],
             [
              0.8888888888888888,
              "#fdca26"
             ],
             [
              1,
              "#f0f921"
             ]
            ],
            "type": "histogram2d"
           }
          ],
          "histogram2dcontour": [
           {
            "colorbar": {
             "outlinewidth": 0,
             "ticks": ""
            },
            "colorscale": [
             [
              0,
              "#0d0887"
             ],
             [
              0.1111111111111111,
              "#46039f"
             ],
             [
              0.2222222222222222,
              "#7201a8"
             ],
             [
              0.3333333333333333,
              "#9c179e"
             ],
             [
              0.4444444444444444,
              "#bd3786"
             ],
             [
              0.5555555555555556,
              "#d8576b"
             ],
             [
              0.6666666666666666,
              "#ed7953"
             ],
             [
              0.7777777777777778,
              "#fb9f3a"
             ],
             [
              0.8888888888888888,
              "#fdca26"
             ],
             [
              1,
              "#f0f921"
             ]
            ],
            "type": "histogram2dcontour"
           }
          ],
          "mesh3d": [
           {
            "colorbar": {
             "outlinewidth": 0,
             "ticks": ""
            },
            "type": "mesh3d"
           }
          ],
          "parcoords": [
           {
            "line": {
             "colorbar": {
              "outlinewidth": 0,
              "ticks": ""
             }
            },
            "type": "parcoords"
           }
          ],
          "pie": [
           {
            "automargin": true,
            "type": "pie"
           }
          ],
          "scatter": [
           {
            "fillpattern": {
             "fillmode": "overlay",
             "size": 10,
             "solidity": 0.2
            },
            "type": "scatter"
           }
          ],
          "scatter3d": [
           {
            "line": {
             "colorbar": {
              "outlinewidth": 0,
              "ticks": ""
             }
            },
            "marker": {
             "colorbar": {
              "outlinewidth": 0,
              "ticks": ""
             }
            },
            "type": "scatter3d"
           }
          ],
          "scattercarpet": [
           {
            "marker": {
             "colorbar": {
              "outlinewidth": 0,
              "ticks": ""
             }
            },
            "type": "scattercarpet"
           }
          ],
          "scattergeo": [
           {
            "marker": {
             "colorbar": {
              "outlinewidth": 0,
              "ticks": ""
             }
            },
            "type": "scattergeo"
           }
          ],
          "scattergl": [
           {
            "marker": {
             "colorbar": {
              "outlinewidth": 0,
              "ticks": ""
             }
            },
            "type": "scattergl"
           }
          ],
          "scattermapbox": [
           {
            "marker": {
             "colorbar": {
              "outlinewidth": 0,
              "ticks": ""
             }
            },
            "type": "scattermapbox"
           }
          ],
          "scatterpolar": [
           {
            "marker": {
             "colorbar": {
              "outlinewidth": 0,
              "ticks": ""
             }
            },
            "type": "scatterpolar"
           }
          ],
          "scatterpolargl": [
           {
            "marker": {
             "colorbar": {
              "outlinewidth": 0,
              "ticks": ""
             }
            },
            "type": "scatterpolargl"
           }
          ],
          "scatterternary": [
           {
            "marker": {
             "colorbar": {
              "outlinewidth": 0,
              "ticks": ""
             }
            },
            "type": "scatterternary"
           }
          ],
          "surface": [
           {
            "colorbar": {
             "outlinewidth": 0,
             "ticks": ""
            },
            "colorscale": [
             [
              0,
              "#0d0887"
             ],
             [
              0.1111111111111111,
              "#46039f"
             ],
             [
              0.2222222222222222,
              "#7201a8"
             ],
             [
              0.3333333333333333,
              "#9c179e"
             ],
             [
              0.4444444444444444,
              "#bd3786"
             ],
             [
              0.5555555555555556,
              "#d8576b"
             ],
             [
              0.6666666666666666,
              "#ed7953"
             ],
             [
              0.7777777777777778,
              "#fb9f3a"
             ],
             [
              0.8888888888888888,
              "#fdca26"
             ],
             [
              1,
              "#f0f921"
             ]
            ],
            "type": "surface"
           }
          ],
          "table": [
           {
            "cells": {
             "fill": {
              "color": "#EBF0F8"
             },
             "line": {
              "color": "white"
             }
            },
            "header": {
             "fill": {
              "color": "#C8D4E3"
             },
             "line": {
              "color": "white"
             }
            },
            "type": "table"
           }
          ]
         },
         "layout": {
          "annotationdefaults": {
           "arrowcolor": "#2a3f5f",
           "arrowhead": 0,
           "arrowwidth": 1
          },
          "autotypenumbers": "strict",
          "coloraxis": {
           "colorbar": {
            "outlinewidth": 0,
            "ticks": ""
           }
          },
          "colorscale": {
           "diverging": [
            [
             0,
             "#8e0152"
            ],
            [
             0.1,
             "#c51b7d"
            ],
            [
             0.2,
             "#de77ae"
            ],
            [
             0.3,
             "#f1b6da"
            ],
            [
             0.4,
             "#fde0ef"
            ],
            [
             0.5,
             "#f7f7f7"
            ],
            [
             0.6,
             "#e6f5d0"
            ],
            [
             0.7,
             "#b8e186"
            ],
            [
             0.8,
             "#7fbc41"
            ],
            [
             0.9,
             "#4d9221"
            ],
            [
             1,
             "#276419"
            ]
           ],
           "sequential": [
            [
             0,
             "#0d0887"
            ],
            [
             0.1111111111111111,
             "#46039f"
            ],
            [
             0.2222222222222222,
             "#7201a8"
            ],
            [
             0.3333333333333333,
             "#9c179e"
            ],
            [
             0.4444444444444444,
             "#bd3786"
            ],
            [
             0.5555555555555556,
             "#d8576b"
            ],
            [
             0.6666666666666666,
             "#ed7953"
            ],
            [
             0.7777777777777778,
             "#fb9f3a"
            ],
            [
             0.8888888888888888,
             "#fdca26"
            ],
            [
             1,
             "#f0f921"
            ]
           ],
           "sequentialminus": [
            [
             0,
             "#0d0887"
            ],
            [
             0.1111111111111111,
             "#46039f"
            ],
            [
             0.2222222222222222,
             "#7201a8"
            ],
            [
             0.3333333333333333,
             "#9c179e"
            ],
            [
             0.4444444444444444,
             "#bd3786"
            ],
            [
             0.5555555555555556,
             "#d8576b"
            ],
            [
             0.6666666666666666,
             "#ed7953"
            ],
            [
             0.7777777777777778,
             "#fb9f3a"
            ],
            [
             0.8888888888888888,
             "#fdca26"
            ],
            [
             1,
             "#f0f921"
            ]
           ]
          },
          "colorway": [
           "#636efa",
           "#EF553B",
           "#00cc96",
           "#ab63fa",
           "#FFA15A",
           "#19d3f3",
           "#FF6692",
           "#B6E880",
           "#FF97FF",
           "#FECB52"
          ],
          "font": {
           "color": "#2a3f5f"
          },
          "geo": {
           "bgcolor": "white",
           "lakecolor": "white",
           "landcolor": "#E5ECF6",
           "showlakes": true,
           "showland": true,
           "subunitcolor": "white"
          },
          "hoverlabel": {
           "align": "left"
          },
          "hovermode": "closest",
          "mapbox": {
           "style": "light"
          },
          "paper_bgcolor": "white",
          "plot_bgcolor": "#E5ECF6",
          "polar": {
           "angularaxis": {
            "gridcolor": "white",
            "linecolor": "white",
            "ticks": ""
           },
           "bgcolor": "#E5ECF6",
           "radialaxis": {
            "gridcolor": "white",
            "linecolor": "white",
            "ticks": ""
           }
          },
          "scene": {
           "xaxis": {
            "backgroundcolor": "#E5ECF6",
            "gridcolor": "white",
            "gridwidth": 2,
            "linecolor": "white",
            "showbackground": true,
            "ticks": "",
            "zerolinecolor": "white"
           },
           "yaxis": {
            "backgroundcolor": "#E5ECF6",
            "gridcolor": "white",
            "gridwidth": 2,
            "linecolor": "white",
            "showbackground": true,
            "ticks": "",
            "zerolinecolor": "white"
           },
           "zaxis": {
            "backgroundcolor": "#E5ECF6",
            "gridcolor": "white",
            "gridwidth": 2,
            "linecolor": "white",
            "showbackground": true,
            "ticks": "",
            "zerolinecolor": "white"
           }
          },
          "shapedefaults": {
           "line": {
            "color": "#2a3f5f"
           }
          },
          "ternary": {
           "aaxis": {
            "gridcolor": "white",
            "linecolor": "white",
            "ticks": ""
           },
           "baxis": {
            "gridcolor": "white",
            "linecolor": "white",
            "ticks": ""
           },
           "bgcolor": "#E5ECF6",
           "caxis": {
            "gridcolor": "white",
            "linecolor": "white",
            "ticks": ""
           }
          },
          "title": {
           "x": 0.05
          },
          "xaxis": {
           "automargin": true,
           "gridcolor": "white",
           "linecolor": "white",
           "ticks": "",
           "title": {
            "standoff": 15
           },
           "zerolinecolor": "white",
           "zerolinewidth": 2
          },
          "yaxis": {
           "automargin": true,
           "gridcolor": "white",
           "linecolor": "white",
           "ticks": "",
           "title": {
            "standoff": 15
           },
           "zerolinecolor": "white",
           "zerolinewidth": 2
          }
         }
        }
       }
      }
     },
     "metadata": {},
     "output_type": "display_data"
    }
   ],
   "source": [
    "critical_minerals = [\n",
    "    'Iron Ore',  # Assuming 'Iron Ore' maps to 'SCO:COM'\n",
    "    'Steel',     # Assuming 'Steel' maps to 'JBP:COM'\n",
    "    'Aluminum',  # Assuming 'Aluminum' maps to 'LMAHDS03:COM'\n",
    "    'Lithium',   # Assuming 'Lithium' maps to 'LC:COM'\n",
    "    'Cobalt',    # Assuming 'Cobalt' maps to 'LCO1:COM'\n",
    "    'Nickel',    # Assuming 'Nickel' maps to 'LN1:COM'\n",
    "    'Copper',    # Assuming 'Copper' maps to 'HG1:COM'\n",
    "    'Manganese'  # Assuming 'Manganese' maps to 'IMR:COM'\n",
    "]\n",
    "\n",
    "filtered_commodities = commodities[commodities['Name'].isin(critical_minerals)]\n",
    "# Create a treemap visualization\n",
    "fig_cm = px.treemap(\n",
    "    filtered_commodities,\n",
    "    path=[px.Constant(\"Commodities\"), 'Group', 'Name'],\n",
    "    color='Year%Change',\n",
    "    color_continuous_scale='RdYlGn',\n",
    "    color_continuous_midpoint=0\n",
    ")\n",
    "fig_cm.update_traces(hovertemplate='%{label}<br>Year % Change= %{customdata[0]}%<extra></extra>')\n",
    "fig_cm.show()\n"
   ]
  },
  {
   "cell_type": "markdown",
   "metadata": {},
   "source": [
    "Imports and Exports"
   ]
  },
  {
   "cell_type": "code",
   "execution_count": 147,
   "metadata": {},
   "outputs": [
    {
     "data": {
      "text/html": [
       "<div>\n",
       "<style scoped>\n",
       "    .dataframe tbody tr th:only-of-type {\n",
       "        vertical-align: middle;\n",
       "    }\n",
       "\n",
       "    .dataframe tbody tr th {\n",
       "        vertical-align: top;\n",
       "    }\n",
       "\n",
       "    .dataframe thead th {\n",
       "        text-align: right;\n",
       "    }\n",
       "</style>\n",
       "<table border=\"1\" class=\"dataframe\">\n",
       "  <thead>\n",
       "    <tr style=\"text-align: right;\">\n",
       "      <th></th>\n",
       "      <th>Symbol</th>\n",
       "      <th>Date</th>\n",
       "      <th>Open</th>\n",
       "      <th>High</th>\n",
       "      <th>Low</th>\n",
       "      <th>Close</th>\n",
       "    </tr>\n",
       "  </thead>\n",
       "  <tbody>\n",
       "    <tr>\n",
       "      <th>0</th>\n",
       "      <td>LC:COM</td>\n",
       "      <td>10/05/2017</td>\n",
       "      <td>136000.0</td>\n",
       "      <td>140000.0</td>\n",
       "      <td>132000.0</td>\n",
       "      <td>136000.0</td>\n",
       "    </tr>\n",
       "    <tr>\n",
       "      <th>1</th>\n",
       "      <td>LC:COM</td>\n",
       "      <td>11/05/2017</td>\n",
       "      <td>136000.0</td>\n",
       "      <td>140000.0</td>\n",
       "      <td>132000.0</td>\n",
       "      <td>136000.0</td>\n",
       "    </tr>\n",
       "    <tr>\n",
       "      <th>2</th>\n",
       "      <td>LC:COM</td>\n",
       "      <td>12/05/2017</td>\n",
       "      <td>136000.0</td>\n",
       "      <td>140000.0</td>\n",
       "      <td>132000.0</td>\n",
       "      <td>136000.0</td>\n",
       "    </tr>\n",
       "    <tr>\n",
       "      <th>3</th>\n",
       "      <td>LC:COM</td>\n",
       "      <td>15/05/2017</td>\n",
       "      <td>136000.0</td>\n",
       "      <td>140000.0</td>\n",
       "      <td>132000.0</td>\n",
       "      <td>136000.0</td>\n",
       "    </tr>\n",
       "    <tr>\n",
       "      <th>4</th>\n",
       "      <td>LC:COM</td>\n",
       "      <td>16/05/2017</td>\n",
       "      <td>136000.0</td>\n",
       "      <td>140000.0</td>\n",
       "      <td>132000.0</td>\n",
       "      <td>136000.0</td>\n",
       "    </tr>\n",
       "    <tr>\n",
       "      <th>...</th>\n",
       "      <td>...</td>\n",
       "      <td>...</td>\n",
       "      <td>...</td>\n",
       "      <td>...</td>\n",
       "      <td>...</td>\n",
       "      <td>...</td>\n",
       "    </tr>\n",
       "    <tr>\n",
       "      <th>1745</th>\n",
       "      <td>LC:COM</td>\n",
       "      <td>28/05/2024</td>\n",
       "      <td>105500.0</td>\n",
       "      <td>107000.0</td>\n",
       "      <td>104000.0</td>\n",
       "      <td>105500.0</td>\n",
       "    </tr>\n",
       "    <tr>\n",
       "      <th>1746</th>\n",
       "      <td>LC:COM</td>\n",
       "      <td>29/05/2024</td>\n",
       "      <td>105500.0</td>\n",
       "      <td>107000.0</td>\n",
       "      <td>104000.0</td>\n",
       "      <td>105500.0</td>\n",
       "    </tr>\n",
       "    <tr>\n",
       "      <th>1747</th>\n",
       "      <td>LC:COM</td>\n",
       "      <td>30/05/2024</td>\n",
       "      <td>105500.0</td>\n",
       "      <td>107000.0</td>\n",
       "      <td>104000.0</td>\n",
       "      <td>105500.0</td>\n",
       "    </tr>\n",
       "    <tr>\n",
       "      <th>1748</th>\n",
       "      <td>LC:COM</td>\n",
       "      <td>31/05/2024</td>\n",
       "      <td>105500.0</td>\n",
       "      <td>107000.0</td>\n",
       "      <td>104000.0</td>\n",
       "      <td>105500.0</td>\n",
       "    </tr>\n",
       "    <tr>\n",
       "      <th>1749</th>\n",
       "      <td>LC:COM</td>\n",
       "      <td>03/06/2024</td>\n",
       "      <td>103500.0</td>\n",
       "      <td>105000.0</td>\n",
       "      <td>102000.0</td>\n",
       "      <td>103500.0</td>\n",
       "    </tr>\n",
       "  </tbody>\n",
       "</table>\n",
       "<p>1750 rows × 6 columns</p>\n",
       "</div>"
      ],
      "text/plain": [
       "      Symbol        Date      Open      High       Low     Close\n",
       "0     LC:COM  10/05/2017  136000.0  140000.0  132000.0  136000.0\n",
       "1     LC:COM  11/05/2017  136000.0  140000.0  132000.0  136000.0\n",
       "2     LC:COM  12/05/2017  136000.0  140000.0  132000.0  136000.0\n",
       "3     LC:COM  15/05/2017  136000.0  140000.0  132000.0  136000.0\n",
       "4     LC:COM  16/05/2017  136000.0  140000.0  132000.0  136000.0\n",
       "...      ...         ...       ...       ...       ...       ...\n",
       "1745  LC:COM  28/05/2024  105500.0  107000.0  104000.0  105500.0\n",
       "1746  LC:COM  29/05/2024  105500.0  107000.0  104000.0  105500.0\n",
       "1747  LC:COM  30/05/2024  105500.0  107000.0  104000.0  105500.0\n",
       "1748  LC:COM  31/05/2024  105500.0  107000.0  104000.0  105500.0\n",
       "1749  LC:COM  03/06/2024  103500.0  105000.0  102000.0  103500.0\n",
       "\n",
       "[1750 rows x 6 columns]"
      ]
     },
     "execution_count": 147,
     "metadata": {},
     "output_type": "execute_result"
    }
   ],
   "source": [
    "raw_lithium = te.fetchMarkets(symbol=['LC:COM'], initDate='2017-01-01', endDate=pd.Timestamp.today().strftime('%Y-%m-%d'), output_type='df')\n",
    "raw_lithium"
   ]
  },
  {
   "cell_type": "code",
   "execution_count": 158,
   "metadata": {},
   "outputs": [
    {
     "data": {
      "text/html": [
       "<div>\n",
       "<style scoped>\n",
       "    .dataframe tbody tr th:only-of-type {\n",
       "        vertical-align: middle;\n",
       "    }\n",
       "\n",
       "    .dataframe tbody tr th {\n",
       "        vertical-align: top;\n",
       "    }\n",
       "\n",
       "    .dataframe thead th {\n",
       "        text-align: right;\n",
       "    }\n",
       "</style>\n",
       "<table border=\"1\" class=\"dataframe\">\n",
       "  <thead>\n",
       "    <tr style=\"text-align: right;\">\n",
       "      <th></th>\n",
       "      <th>Symbol</th>\n",
       "      <th>Date</th>\n",
       "      <th>Open</th>\n",
       "      <th>High</th>\n",
       "      <th>Low</th>\n",
       "      <th>Close</th>\n",
       "    </tr>\n",
       "  </thead>\n",
       "  <tbody>\n",
       "    <tr>\n",
       "      <th>0</th>\n",
       "      <td>LC:COM</td>\n",
       "      <td>10/05/2017</td>\n",
       "      <td>136000.0</td>\n",
       "      <td>140000.0</td>\n",
       "      <td>132000.0</td>\n",
       "      <td>136000.0</td>\n",
       "    </tr>\n",
       "    <tr>\n",
       "      <th>1</th>\n",
       "      <td>LC:COM</td>\n",
       "      <td>11/05/2017</td>\n",
       "      <td>136000.0</td>\n",
       "      <td>140000.0</td>\n",
       "      <td>132000.0</td>\n",
       "      <td>136000.0</td>\n",
       "    </tr>\n",
       "    <tr>\n",
       "      <th>2</th>\n",
       "      <td>LC:COM</td>\n",
       "      <td>12/05/2017</td>\n",
       "      <td>136000.0</td>\n",
       "      <td>140000.0</td>\n",
       "      <td>132000.0</td>\n",
       "      <td>136000.0</td>\n",
       "    </tr>\n",
       "    <tr>\n",
       "      <th>3</th>\n",
       "      <td>LC:COM</td>\n",
       "      <td>15/05/2017</td>\n",
       "      <td>136000.0</td>\n",
       "      <td>140000.0</td>\n",
       "      <td>132000.0</td>\n",
       "      <td>136000.0</td>\n",
       "    </tr>\n",
       "    <tr>\n",
       "      <th>4</th>\n",
       "      <td>LC:COM</td>\n",
       "      <td>16/05/2017</td>\n",
       "      <td>136000.0</td>\n",
       "      <td>140000.0</td>\n",
       "      <td>132000.0</td>\n",
       "      <td>136000.0</td>\n",
       "    </tr>\n",
       "    <tr>\n",
       "      <th>...</th>\n",
       "      <td>...</td>\n",
       "      <td>...</td>\n",
       "      <td>...</td>\n",
       "      <td>...</td>\n",
       "      <td>...</td>\n",
       "      <td>...</td>\n",
       "    </tr>\n",
       "    <tr>\n",
       "      <th>1745</th>\n",
       "      <td>LC:COM</td>\n",
       "      <td>28/05/2024</td>\n",
       "      <td>105500.0</td>\n",
       "      <td>107000.0</td>\n",
       "      <td>104000.0</td>\n",
       "      <td>105500.0</td>\n",
       "    </tr>\n",
       "    <tr>\n",
       "      <th>1746</th>\n",
       "      <td>LC:COM</td>\n",
       "      <td>29/05/2024</td>\n",
       "      <td>105500.0</td>\n",
       "      <td>107000.0</td>\n",
       "      <td>104000.0</td>\n",
       "      <td>105500.0</td>\n",
       "    </tr>\n",
       "    <tr>\n",
       "      <th>1747</th>\n",
       "      <td>LC:COM</td>\n",
       "      <td>30/05/2024</td>\n",
       "      <td>105500.0</td>\n",
       "      <td>107000.0</td>\n",
       "      <td>104000.0</td>\n",
       "      <td>105500.0</td>\n",
       "    </tr>\n",
       "    <tr>\n",
       "      <th>1748</th>\n",
       "      <td>LC:COM</td>\n",
       "      <td>31/05/2024</td>\n",
       "      <td>105500.0</td>\n",
       "      <td>107000.0</td>\n",
       "      <td>104000.0</td>\n",
       "      <td>105500.0</td>\n",
       "    </tr>\n",
       "    <tr>\n",
       "      <th>1749</th>\n",
       "      <td>LC:COM</td>\n",
       "      <td>03/06/2024</td>\n",
       "      <td>103500.0</td>\n",
       "      <td>105000.0</td>\n",
       "      <td>102000.0</td>\n",
       "      <td>103500.0</td>\n",
       "    </tr>\n",
       "  </tbody>\n",
       "</table>\n",
       "<p>1750 rows × 6 columns</p>\n",
       "</div>"
      ],
      "text/plain": [
       "      Symbol        Date      Open      High       Low     Close\n",
       "0     LC:COM  10/05/2017  136000.0  140000.0  132000.0  136000.0\n",
       "1     LC:COM  11/05/2017  136000.0  140000.0  132000.0  136000.0\n",
       "2     LC:COM  12/05/2017  136000.0  140000.0  132000.0  136000.0\n",
       "3     LC:COM  15/05/2017  136000.0  140000.0  132000.0  136000.0\n",
       "4     LC:COM  16/05/2017  136000.0  140000.0  132000.0  136000.0\n",
       "...      ...         ...       ...       ...       ...       ...\n",
       "1745  LC:COM  28/05/2024  105500.0  107000.0  104000.0  105500.0\n",
       "1746  LC:COM  29/05/2024  105500.0  107000.0  104000.0  105500.0\n",
       "1747  LC:COM  30/05/2024  105500.0  107000.0  104000.0  105500.0\n",
       "1748  LC:COM  31/05/2024  105500.0  107000.0  104000.0  105500.0\n",
       "1749  LC:COM  03/06/2024  103500.0  105000.0  102000.0  103500.0\n",
       "\n",
       "[1750 rows x 6 columns]"
      ]
     },
     "execution_count": 158,
     "metadata": {},
     "output_type": "execute_result"
    }
   ],
   "source": [
    "# Fetch export data for Lithium\n",
    "raw_lithium = te.fetchMarkets(symbol=['LC:COM'], initDate='2016-01-01', endDate=pd.Timestamp.today().strftime('%Y-%m-%d'), output_type='df')\n",
    "raw_lithium# raw_exports = te.getCmtHistorical(symbol='LC:COM', output_type='df')\n",
    "# raw_imports = te.getCmtHistorical(symbol='LC:COM', output_type='df')\n",
    "\n",
    "# # Processing exports and imports data\n",
    "# imports = raw_imports[['value', 'date']].rename(columns={'value': 'imports'})\n",
    "# imports['Date'] = pd.to_datetime(imports['date'])\n",
    "# imports.set_index('Date', inplace=True)\n",
    "# del imports['date']\n",
    "\n",
    "# exports = raw_exports[['value', 'date']].rename(columns={'value': 'exports'})\n",
    "# exports['Date'] = pd.to_datetime(exports['date'])\n",
    "# exports.set_index('Date', inplace=True)\n",
    "# del exports['date']\n"
   ]
  }
 ],
 "metadata": {
  "kernelspec": {
   "display_name": "base",
   "language": "python",
   "name": "python3"
  },
  "language_info": {
   "codemirror_mode": {
    "name": "ipython",
    "version": 3
   },
   "file_extension": ".py",
   "mimetype": "text/x-python",
   "name": "python",
   "nbconvert_exporter": "python",
   "pygments_lexer": "ipython3",
   "version": "3.9.7"
  }
 },
 "nbformat": 4,
 "nbformat_minor": 2
}
