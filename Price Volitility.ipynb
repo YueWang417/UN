{
 "cells": [
  {
   "cell_type": "code",
   "execution_count": 74,
   "metadata": {},
   "outputs": [
    {
     "data": {
      "text/plain": [
       "True"
      ]
     },
     "execution_count": 74,
     "metadata": {},
     "output_type": "execute_result"
    }
   ],
   "source": [
    "import matplotlib.pyplot as plt\n",
    "import numpy as np\n",
    "import pandas as pd\n",
    "import tradingeconomics as te\n",
    "from dotenv import load_dotenv\n",
    "import plotly.express as px\n",
    "from IPython.display import Image\n",
    "import os\n",
    "from urllib.request import urlopen\n",
    "import datetime as dt  # Correct import for datetime\n",
    "\n",
    "\n",
    "api_key = os.getenv('TRADING_ECONOMICS_API_KEY')\n",
    "te.login(api_key)\n",
    "load_dotenv() "
   ]
  },
  {
   "cell_type": "markdown",
   "metadata": {},
   "source": [
    "Data Exploratory"
   ]
  },
  {
   "cell_type": "code",
   "execution_count": 2,
   "metadata": {},
   "outputs": [
    {
     "data": {
      "text/html": [
       "<div>\n",
       "<style scoped>\n",
       "    .dataframe tbody tr th:only-of-type {\n",
       "        vertical-align: middle;\n",
       "    }\n",
       "\n",
       "    .dataframe tbody tr th {\n",
       "        vertical-align: top;\n",
       "    }\n",
       "\n",
       "    .dataframe thead th {\n",
       "        text-align: right;\n",
       "    }\n",
       "</style>\n",
       "<table border=\"1\" class=\"dataframe\">\n",
       "  <thead>\n",
       "    <tr style=\"text-align: right;\">\n",
       "      <th></th>\n",
       "      <th>Symbol</th>\n",
       "      <th>Ticker</th>\n",
       "      <th>Name</th>\n",
       "      <th>Country</th>\n",
       "      <th>Date</th>\n",
       "      <th>State</th>\n",
       "      <th>Last</th>\n",
       "      <th>Close</th>\n",
       "      <th>CloseDate</th>\n",
       "      <th>Group</th>\n",
       "      <th>...</th>\n",
       "      <th>yesterday</th>\n",
       "      <th>lastWeek</th>\n",
       "      <th>lastMonth</th>\n",
       "      <th>lastYear</th>\n",
       "      <th>startYear</th>\n",
       "      <th>decimals</th>\n",
       "      <th>unit</th>\n",
       "      <th>frequency</th>\n",
       "      <th>StartDate</th>\n",
       "      <th>LastUpdate</th>\n",
       "    </tr>\n",
       "  </thead>\n",
       "  <tbody>\n",
       "    <tr>\n",
       "      <th>0</th>\n",
       "      <td>C 1:COM</td>\n",
       "      <td>C A</td>\n",
       "      <td>Corn</td>\n",
       "      <td>commodity</td>\n",
       "      <td>2024-06-06T16:32:56.107</td>\n",
       "      <td>OPEN</td>\n",
       "      <td>449.0220</td>\n",
       "      <td>449.0220</td>\n",
       "      <td>2024-06-06T16:33:00</td>\n",
       "      <td>Agricultural</td>\n",
       "      <td>...</td>\n",
       "      <td>439.2500</td>\n",
       "      <td>448.7500</td>\n",
       "      <td>467.0000</td>\n",
       "      <td>525.0000</td>\n",
       "      <td>471.2500</td>\n",
       "      <td>4.0</td>\n",
       "      <td>USd/BU</td>\n",
       "      <td>Live</td>\n",
       "      <td>1912-05-01T00:00:00</td>\n",
       "      <td>2024-06-06T16:33:00</td>\n",
       "    </tr>\n",
       "    <tr>\n",
       "      <th>1</th>\n",
       "      <td>IUC:COM</td>\n",
       "      <td>IUC</td>\n",
       "      <td>Indium</td>\n",
       "      <td>commodity</td>\n",
       "      <td>2024-06-06T00:00:00</td>\n",
       "      <td>CLOSED</td>\n",
       "      <td>3075.0000</td>\n",
       "      <td>3075.0000</td>\n",
       "      <td>2024-06-06T00:00:00</td>\n",
       "      <td>Industrial</td>\n",
       "      <td>...</td>\n",
       "      <td>3075.0000</td>\n",
       "      <td>3075.0000</td>\n",
       "      <td>2875.0000</td>\n",
       "      <td>1495.0000</td>\n",
       "      <td>2005.0000</td>\n",
       "      <td>0.0</td>\n",
       "      <td>CNY/Kg</td>\n",
       "      <td>daily</td>\n",
       "      <td>2017-11-24T00:00:00</td>\n",
       "      <td>2024-06-06T15:30:00</td>\n",
       "    </tr>\n",
       "    <tr>\n",
       "      <th>2</th>\n",
       "      <td>MVNLRTR:IND</td>\n",
       "      <td>MVNLRTR</td>\n",
       "      <td>Nuclear Energy Index</td>\n",
       "      <td>commodity</td>\n",
       "      <td>2024-06-06T16:33:19.707</td>\n",
       "      <td>OPEN</td>\n",
       "      <td>31.0600</td>\n",
       "      <td>31.0600</td>\n",
       "      <td>2024-06-06T16:33:00</td>\n",
       "      <td>Index</td>\n",
       "      <td>...</td>\n",
       "      <td>30.8000</td>\n",
       "      <td>31.8500</td>\n",
       "      <td>31.8300</td>\n",
       "      <td>21.3700</td>\n",
       "      <td>27.6900</td>\n",
       "      <td>2.0</td>\n",
       "      <td>USD</td>\n",
       "      <td>Delayed</td>\n",
       "      <td>2010-11-05T00:00:00</td>\n",
       "      <td>2024-06-06T16:33:00</td>\n",
       "    </tr>\n",
       "    <tr>\n",
       "      <th>3</th>\n",
       "      <td>KSP:COM</td>\n",
       "      <td>KSP</td>\n",
       "      <td>Kraft Pulp</td>\n",
       "      <td>Commodity</td>\n",
       "      <td>2024-06-06T00:00:00</td>\n",
       "      <td>CLOSED</td>\n",
       "      <td>5968.0000</td>\n",
       "      <td>5968.0000</td>\n",
       "      <td>2024-06-06T00:00:00</td>\n",
       "      <td>Industrial</td>\n",
       "      <td>...</td>\n",
       "      <td>5936.0000</td>\n",
       "      <td>6138.0000</td>\n",
       "      <td>6224.0000</td>\n",
       "      <td>4952.0000</td>\n",
       "      <td>5620.0000</td>\n",
       "      <td>2.0</td>\n",
       "      <td>CNY/T</td>\n",
       "      <td>Daily</td>\n",
       "      <td>2018-11-27T00:00:00</td>\n",
       "      <td>2024-06-06T13:13:00</td>\n",
       "    </tr>\n",
       "    <tr>\n",
       "      <th>4</th>\n",
       "      <td>NOSMFZ:COM</td>\n",
       "      <td>NOSMFZ</td>\n",
       "      <td>Salmon</td>\n",
       "      <td>Commodity</td>\n",
       "      <td>2024-06-06T00:00:00</td>\n",
       "      <td>CLOSED</td>\n",
       "      <td>84.5000</td>\n",
       "      <td>84.5000</td>\n",
       "      <td>2024-06-06T00:00:00</td>\n",
       "      <td>Livestock</td>\n",
       "      <td>...</td>\n",
       "      <td>84.5000</td>\n",
       "      <td>84.5000</td>\n",
       "      <td>92.4500</td>\n",
       "      <td>89.6600</td>\n",
       "      <td>99.8400</td>\n",
       "      <td>2.0</td>\n",
       "      <td>NOK/KG</td>\n",
       "      <td>Daily</td>\n",
       "      <td>2012-05-25T00:00:00</td>\n",
       "      <td>2024-06-06T15:31:00</td>\n",
       "    </tr>\n",
       "    <tr>\n",
       "      <th>...</th>\n",
       "      <td>...</td>\n",
       "      <td>...</td>\n",
       "      <td>...</td>\n",
       "      <td>...</td>\n",
       "      <td>...</td>\n",
       "      <td>...</td>\n",
       "      <td>...</td>\n",
       "      <td>...</td>\n",
       "      <td>...</td>\n",
       "      <td>...</td>\n",
       "      <td>...</td>\n",
       "      <td>...</td>\n",
       "      <td>...</td>\n",
       "      <td>...</td>\n",
       "      <td>...</td>\n",
       "      <td>...</td>\n",
       "      <td>...</td>\n",
       "      <td>...</td>\n",
       "      <td>...</td>\n",
       "      <td>...</td>\n",
       "      <td>...</td>\n",
       "    </tr>\n",
       "    <tr>\n",
       "      <th>87</th>\n",
       "      <td>HO1:COM</td>\n",
       "      <td>HO1</td>\n",
       "      <td>Heating Oil</td>\n",
       "      <td>commodity</td>\n",
       "      <td>2024-06-06T16:33:00.427</td>\n",
       "      <td>OPEN</td>\n",
       "      <td>2.3547</td>\n",
       "      <td>2.3547</td>\n",
       "      <td>2024-06-06T16:33:00</td>\n",
       "      <td>Energy</td>\n",
       "      <td>...</td>\n",
       "      <td>2.3130</td>\n",
       "      <td>2.3614</td>\n",
       "      <td>2.4588</td>\n",
       "      <td>2.3970</td>\n",
       "      <td>2.4952</td>\n",
       "      <td>4.0</td>\n",
       "      <td>USD/Gal</td>\n",
       "      <td>Live</td>\n",
       "      <td>1980-01-02T00:00:00</td>\n",
       "      <td>2024-06-06T16:33:00</td>\n",
       "    </tr>\n",
       "    <tr>\n",
       "      <th>88</th>\n",
       "      <td>XB1:COM</td>\n",
       "      <td>XB1</td>\n",
       "      <td>Gasoline</td>\n",
       "      <td>commodity</td>\n",
       "      <td>2024-06-06T16:33:00.42</td>\n",
       "      <td>OPEN</td>\n",
       "      <td>2.4010</td>\n",
       "      <td>2.4010</td>\n",
       "      <td>2024-06-06T16:33:00</td>\n",
       "      <td>Energy</td>\n",
       "      <td>...</td>\n",
       "      <td>2.3632</td>\n",
       "      <td>2.3932</td>\n",
       "      <td>2.5349</td>\n",
       "      <td>2.5405</td>\n",
       "      <td>2.1258</td>\n",
       "      <td>4.0</td>\n",
       "      <td>USD/Gal</td>\n",
       "      <td>Live</td>\n",
       "      <td>2005-10-03T00:00:00</td>\n",
       "      <td>2024-06-06T16:33:00</td>\n",
       "    </tr>\n",
       "    <tr>\n",
       "      <th>89</th>\n",
       "      <td>NG1:COM</td>\n",
       "      <td>NG1</td>\n",
       "      <td>Natural gas</td>\n",
       "      <td>commodity</td>\n",
       "      <td>2024-06-06T16:33:26.877</td>\n",
       "      <td>OPEN</td>\n",
       "      <td>2.7523</td>\n",
       "      <td>2.7523</td>\n",
       "      <td>2024-06-06T16:33:00</td>\n",
       "      <td>Energy</td>\n",
       "      <td>...</td>\n",
       "      <td>2.7570</td>\n",
       "      <td>2.5720</td>\n",
       "      <td>2.2070</td>\n",
       "      <td>2.4330</td>\n",
       "      <td>2.3270</td>\n",
       "      <td>4.0</td>\n",
       "      <td>USD/MMBtu</td>\n",
       "      <td>Live</td>\n",
       "      <td>1990-04-03T00:00:00</td>\n",
       "      <td>2024-06-06T16:33:00</td>\n",
       "    </tr>\n",
       "    <tr>\n",
       "      <th>90</th>\n",
       "      <td>CO1:COM</td>\n",
       "      <td>COG1</td>\n",
       "      <td>Brent</td>\n",
       "      <td>commodity</td>\n",
       "      <td>2024-06-06T16:33:48.733</td>\n",
       "      <td>OPEN</td>\n",
       "      <td>79.9486</td>\n",
       "      <td>79.9486</td>\n",
       "      <td>2024-06-06T16:34:00</td>\n",
       "      <td>Energy</td>\n",
       "      <td>...</td>\n",
       "      <td>78.4100</td>\n",
       "      <td>81.8800</td>\n",
       "      <td>83.1600</td>\n",
       "      <td>76.8400</td>\n",
       "      <td>77.0400</td>\n",
       "      <td>3.0</td>\n",
       "      <td>USD/Bbl</td>\n",
       "      <td>Live</td>\n",
       "      <td>1970-04-15T00:00:00</td>\n",
       "      <td>2024-06-06T16:34:00</td>\n",
       "    </tr>\n",
       "    <tr>\n",
       "      <th>91</th>\n",
       "      <td>CL1:COM</td>\n",
       "      <td>CL1</td>\n",
       "      <td>Crude Oil</td>\n",
       "      <td>commodity</td>\n",
       "      <td>2024-06-06T16:33:32.49</td>\n",
       "      <td>OPEN</td>\n",
       "      <td>75.6545</td>\n",
       "      <td>75.6545</td>\n",
       "      <td>2024-06-06T16:34:00</td>\n",
       "      <td>Energy</td>\n",
       "      <td>...</td>\n",
       "      <td>74.0700</td>\n",
       "      <td>77.9100</td>\n",
       "      <td>78.3800</td>\n",
       "      <td>72.4400</td>\n",
       "      <td>71.6500</td>\n",
       "      <td>3.0</td>\n",
       "      <td>USD/Bbl</td>\n",
       "      <td>Live</td>\n",
       "      <td>1983-03-30T00:00:00</td>\n",
       "      <td>2024-06-06T16:34:00</td>\n",
       "    </tr>\n",
       "  </tbody>\n",
       "</table>\n",
       "<p>92 rows × 34 columns</p>\n",
       "</div>"
      ],
      "text/plain": [
       "         Symbol   Ticker                  Name    Country  \\\n",
       "0       C 1:COM      C A                  Corn  commodity   \n",
       "1       IUC:COM      IUC                Indium  commodity   \n",
       "2   MVNLRTR:IND  MVNLRTR  Nuclear Energy Index  commodity   \n",
       "3       KSP:COM      KSP            Kraft Pulp  Commodity   \n",
       "4    NOSMFZ:COM   NOSMFZ                Salmon  Commodity   \n",
       "..          ...      ...                   ...        ...   \n",
       "87      HO1:COM      HO1           Heating Oil  commodity   \n",
       "88      XB1:COM      XB1              Gasoline  commodity   \n",
       "89      NG1:COM      NG1           Natural gas  commodity   \n",
       "90      CO1:COM     COG1                 Brent  commodity   \n",
       "91      CL1:COM      CL1             Crude Oil  commodity   \n",
       "\n",
       "                       Date   State       Last      Close  \\\n",
       "0   2024-06-06T16:32:56.107    OPEN   449.0220   449.0220   \n",
       "1       2024-06-06T00:00:00  CLOSED  3075.0000  3075.0000   \n",
       "2   2024-06-06T16:33:19.707    OPEN    31.0600    31.0600   \n",
       "3       2024-06-06T00:00:00  CLOSED  5968.0000  5968.0000   \n",
       "4       2024-06-06T00:00:00  CLOSED    84.5000    84.5000   \n",
       "..                      ...     ...        ...        ...   \n",
       "87  2024-06-06T16:33:00.427    OPEN     2.3547     2.3547   \n",
       "88   2024-06-06T16:33:00.42    OPEN     2.4010     2.4010   \n",
       "89  2024-06-06T16:33:26.877    OPEN     2.7523     2.7523   \n",
       "90  2024-06-06T16:33:48.733    OPEN    79.9486    79.9486   \n",
       "91   2024-06-06T16:33:32.49    OPEN    75.6545    75.6545   \n",
       "\n",
       "              CloseDate         Group  ...  yesterday   lastWeek  lastMonth  \\\n",
       "0   2024-06-06T16:33:00  Agricultural  ...   439.2500   448.7500   467.0000   \n",
       "1   2024-06-06T00:00:00    Industrial  ...  3075.0000  3075.0000  2875.0000   \n",
       "2   2024-06-06T16:33:00         Index  ...    30.8000    31.8500    31.8300   \n",
       "3   2024-06-06T00:00:00    Industrial  ...  5936.0000  6138.0000  6224.0000   \n",
       "4   2024-06-06T00:00:00     Livestock  ...    84.5000    84.5000    92.4500   \n",
       "..                  ...           ...  ...        ...        ...        ...   \n",
       "87  2024-06-06T16:33:00        Energy  ...     2.3130     2.3614     2.4588   \n",
       "88  2024-06-06T16:33:00        Energy  ...     2.3632     2.3932     2.5349   \n",
       "89  2024-06-06T16:33:00        Energy  ...     2.7570     2.5720     2.2070   \n",
       "90  2024-06-06T16:34:00        Energy  ...    78.4100    81.8800    83.1600   \n",
       "91  2024-06-06T16:34:00        Energy  ...    74.0700    77.9100    78.3800   \n",
       "\n",
       "     lastYear  startYear  decimals       unit  frequency            StartDate  \\\n",
       "0    525.0000   471.2500       4.0     USd/BU       Live  1912-05-01T00:00:00   \n",
       "1   1495.0000  2005.0000       0.0     CNY/Kg      daily  2017-11-24T00:00:00   \n",
       "2     21.3700    27.6900       2.0        USD    Delayed  2010-11-05T00:00:00   \n",
       "3   4952.0000  5620.0000       2.0      CNY/T      Daily  2018-11-27T00:00:00   \n",
       "4     89.6600    99.8400       2.0     NOK/KG      Daily  2012-05-25T00:00:00   \n",
       "..        ...        ...       ...        ...        ...                  ...   \n",
       "87     2.3970     2.4952       4.0    USD/Gal       Live  1980-01-02T00:00:00   \n",
       "88     2.5405     2.1258       4.0    USD/Gal       Live  2005-10-03T00:00:00   \n",
       "89     2.4330     2.3270       4.0  USD/MMBtu       Live  1990-04-03T00:00:00   \n",
       "90    76.8400    77.0400       3.0    USD/Bbl       Live  1970-04-15T00:00:00   \n",
       "91    72.4400    71.6500       3.0    USD/Bbl       Live  1983-03-30T00:00:00   \n",
       "\n",
       "             LastUpdate  \n",
       "0   2024-06-06T16:33:00  \n",
       "1   2024-06-06T15:30:00  \n",
       "2   2024-06-06T16:33:00  \n",
       "3   2024-06-06T13:13:00  \n",
       "4   2024-06-06T15:31:00  \n",
       "..                  ...  \n",
       "87  2024-06-06T16:33:00  \n",
       "88  2024-06-06T16:33:00  \n",
       "89  2024-06-06T16:33:00  \n",
       "90  2024-06-06T16:34:00  \n",
       "91  2024-06-06T16:34:00  \n",
       "\n",
       "[92 rows x 34 columns]"
      ]
     },
     "execution_count": 2,
     "metadata": {},
     "output_type": "execute_result"
    }
   ],
   "source": [
    "try:\n",
    "    commodities_data = te.getMarketsData(marketsField='commodities', output_type='df') \n",
    "except Exception as e:\n",
    "    print(\"Error fetching commodities data:\", e)\n",
    "commodities_data"
   ]
  },
  {
   "cell_type": "code",
   "execution_count": 3,
   "metadata": {},
   "outputs": [
    {
     "data": {
      "text/plain": [
       "Index(['Symbol', 'Ticker', 'Name', 'Country', 'Date', 'State', 'Last', 'Close',\n",
       "       'CloseDate', 'Group', 'URL', 'Importance', 'DailyChange',\n",
       "       'DailyPercentualChange', 'WeeklyChange', 'WeeklyPercentualChange',\n",
       "       'MonthlyChange', 'MonthlyPercentualChange', 'YearlyChange',\n",
       "       'YearlyPercentualChange', 'YTDChange', 'YTDPercentualChange',\n",
       "       'day_high', 'day_low', 'yesterday', 'lastWeek', 'lastMonth', 'lastYear',\n",
       "       'startYear', 'decimals', 'unit', 'frequency', 'StartDate',\n",
       "       'LastUpdate'],\n",
       "      dtype='object')"
      ]
     },
     "execution_count": 3,
     "metadata": {},
     "output_type": "execute_result"
    }
   ],
   "source": [
    "commodities_data.columns"
   ]
  },
  {
   "cell_type": "code",
   "execution_count": 4,
   "metadata": {},
   "outputs": [
    {
     "data": {
      "text/html": [
       "<div>\n",
       "<style scoped>\n",
       "    .dataframe tbody tr th:only-of-type {\n",
       "        vertical-align: middle;\n",
       "    }\n",
       "\n",
       "    .dataframe tbody tr th {\n",
       "        vertical-align: top;\n",
       "    }\n",
       "\n",
       "    .dataframe thead th {\n",
       "        text-align: right;\n",
       "    }\n",
       "</style>\n",
       "<table border=\"1\" class=\"dataframe\">\n",
       "  <thead>\n",
       "    <tr style=\"text-align: right;\">\n",
       "      <th></th>\n",
       "      <th>Symbol</th>\n",
       "      <th>Name</th>\n",
       "      <th>Close</th>\n",
       "      <th>Group</th>\n",
       "      <th>frequency</th>\n",
       "      <th>unit</th>\n",
       "      <th>Date</th>\n",
       "    </tr>\n",
       "  </thead>\n",
       "  <tbody>\n",
       "    <tr>\n",
       "      <th>1</th>\n",
       "      <td>IUC:COM</td>\n",
       "      <td>Indium</td>\n",
       "      <td>3075.0000</td>\n",
       "      <td>Industrial</td>\n",
       "      <td>daily</td>\n",
       "      <td>CNY/Kg</td>\n",
       "      <td>2024-06-06T00:00:00</td>\n",
       "    </tr>\n",
       "    <tr>\n",
       "      <th>3</th>\n",
       "      <td>KSP:COM</td>\n",
       "      <td>Kraft Pulp</td>\n",
       "      <td>5968.0000</td>\n",
       "      <td>Industrial</td>\n",
       "      <td>Daily</td>\n",
       "      <td>CNY/T</td>\n",
       "      <td>2024-06-06T00:00:00</td>\n",
       "    </tr>\n",
       "    <tr>\n",
       "      <th>5</th>\n",
       "      <td>POL:COM</td>\n",
       "      <td>Polyethylene</td>\n",
       "      <td>8350.0000</td>\n",
       "      <td>Industrial</td>\n",
       "      <td>Daily</td>\n",
       "      <td>CNY/T</td>\n",
       "      <td>2024-06-05T00:00:00</td>\n",
       "    </tr>\n",
       "    <tr>\n",
       "      <th>7</th>\n",
       "      <td>SODASH:COM</td>\n",
       "      <td>Soda Ash</td>\n",
       "      <td>2170.0000</td>\n",
       "      <td>Industrial</td>\n",
       "      <td>Daily</td>\n",
       "      <td>CNY/T</td>\n",
       "      <td>2024-06-06T00:00:00</td>\n",
       "    </tr>\n",
       "    <tr>\n",
       "      <th>8</th>\n",
       "      <td>PYL:COM</td>\n",
       "      <td>Polypropylene</td>\n",
       "      <td>7563.0000</td>\n",
       "      <td>Industrial</td>\n",
       "      <td>Daily</td>\n",
       "      <td>CNY/T</td>\n",
       "      <td>2024-06-05T00:00:00</td>\n",
       "    </tr>\n",
       "    <tr>\n",
       "      <th>9</th>\n",
       "      <td>PVC:COM</td>\n",
       "      <td>Polyvinyl</td>\n",
       "      <td>6137.0000</td>\n",
       "      <td>Industrial</td>\n",
       "      <td>Daily</td>\n",
       "      <td>CNY/T</td>\n",
       "      <td>2024-06-05T00:00:00</td>\n",
       "    </tr>\n",
       "    <tr>\n",
       "      <th>11</th>\n",
       "      <td>SREMNDM:COM</td>\n",
       "      <td>Neodymium</td>\n",
       "      <td>462500.0000</td>\n",
       "      <td>Industrial</td>\n",
       "      <td>daily</td>\n",
       "      <td>CNY/T</td>\n",
       "      <td>2024-06-06T00:00:00</td>\n",
       "    </tr>\n",
       "    <tr>\n",
       "      <th>15</th>\n",
       "      <td>UFI:COM</td>\n",
       "      <td>Di-ammonium</td>\n",
       "      <td>527.5000</td>\n",
       "      <td>Industrial</td>\n",
       "      <td>Daily</td>\n",
       "      <td>USD/T</td>\n",
       "      <td>2024-06-05T00:00:00</td>\n",
       "    </tr>\n",
       "    <tr>\n",
       "      <th>16</th>\n",
       "      <td>UFB:COM</td>\n",
       "      <td>Urea</td>\n",
       "      <td>297.5000</td>\n",
       "      <td>Industrial</td>\n",
       "      <td>Daily</td>\n",
       "      <td>USD/T</td>\n",
       "      <td>2024-06-05T00:00:00</td>\n",
       "    </tr>\n",
       "    <tr>\n",
       "      <th>17</th>\n",
       "      <td>TTSG:COM</td>\n",
       "      <td>Titanium</td>\n",
       "      <td>51.0000</td>\n",
       "      <td>Metals</td>\n",
       "      <td>Daily</td>\n",
       "      <td>CNY/KG</td>\n",
       "      <td>2024-06-06T00:00:00</td>\n",
       "    </tr>\n",
       "    <tr>\n",
       "      <th>18</th>\n",
       "      <td>TEC:COM</td>\n",
       "      <td>Tellurium</td>\n",
       "      <td>595.0000</td>\n",
       "      <td>Industrial</td>\n",
       "      <td>daily</td>\n",
       "      <td>CNY/Kg</td>\n",
       "      <td>2024-06-06T00:00:00</td>\n",
       "    </tr>\n",
       "    <tr>\n",
       "      <th>23</th>\n",
       "      <td>IMR:COM</td>\n",
       "      <td>Manganese</td>\n",
       "      <td>42.7500</td>\n",
       "      <td>Industrial</td>\n",
       "      <td>daily</td>\n",
       "      <td>CNY/mtu</td>\n",
       "      <td>2024-06-06T00:00:00</td>\n",
       "    </tr>\n",
       "    <tr>\n",
       "      <th>24</th>\n",
       "      <td>HRC:COM</td>\n",
       "      <td>HRC Steel</td>\n",
       "      <td>730.0542</td>\n",
       "      <td>Metals</td>\n",
       "      <td>Delayed</td>\n",
       "      <td>USD/T</td>\n",
       "      <td>2024-06-06T15:46:59.24</td>\n",
       "    </tr>\n",
       "    <tr>\n",
       "      <th>26</th>\n",
       "      <td>GECNYBGQ:COM</td>\n",
       "      <td>Germanium</td>\n",
       "      <td>10050.0000</td>\n",
       "      <td>Industrial</td>\n",
       "      <td>daily</td>\n",
       "      <td>CNY/Kg</td>\n",
       "      <td>2024-06-06T00:00:00</td>\n",
       "    </tr>\n",
       "    <tr>\n",
       "      <th>27</th>\n",
       "      <td>GAC:COM</td>\n",
       "      <td>Gallium</td>\n",
       "      <td>2345.0000</td>\n",
       "      <td>Industrial</td>\n",
       "      <td>daily</td>\n",
       "      <td>CNY/Kg</td>\n",
       "      <td>2024-06-06T00:00:00</td>\n",
       "    </tr>\n",
       "    <tr>\n",
       "      <th>28</th>\n",
       "      <td>MACN:COM</td>\n",
       "      <td>Magnesium</td>\n",
       "      <td>19400.0000</td>\n",
       "      <td>Industrial</td>\n",
       "      <td>daily</td>\n",
       "      <td>CNY/T</td>\n",
       "      <td>2024-06-06T00:00:00</td>\n",
       "    </tr>\n",
       "    <tr>\n",
       "      <th>29</th>\n",
       "      <td>XRH:COM</td>\n",
       "      <td>Rhodium</td>\n",
       "      <td>4700.0000</td>\n",
       "      <td>Industrial</td>\n",
       "      <td>Daily</td>\n",
       "      <td>USD/t oz.</td>\n",
       "      <td>2024-06-06T00:00:00</td>\n",
       "    </tr>\n",
       "    <tr>\n",
       "      <th>31</th>\n",
       "      <td>XPDUSD:CUR</td>\n",
       "      <td>Palladium</td>\n",
       "      <td>917.0000</td>\n",
       "      <td>Industrial</td>\n",
       "      <td>Delayed</td>\n",
       "      <td>USD/t.oz</td>\n",
       "      <td>2024-06-06T16:32:35.057</td>\n",
       "    </tr>\n",
       "    <tr>\n",
       "      <th>32</th>\n",
       "      <td>LN1:COM</td>\n",
       "      <td>Nickel</td>\n",
       "      <td>18632.0000</td>\n",
       "      <td>Industrial</td>\n",
       "      <td>daily</td>\n",
       "      <td>USD/T</td>\n",
       "      <td>2024-06-06T16:33:47</td>\n",
       "    </tr>\n",
       "    <tr>\n",
       "      <th>33</th>\n",
       "      <td>LMZSDS03:COM</td>\n",
       "      <td>Zinc</td>\n",
       "      <td>2920.0000</td>\n",
       "      <td>Industrial</td>\n",
       "      <td>Daily</td>\n",
       "      <td>USD/T</td>\n",
       "      <td>2024-06-06T16:33:44</td>\n",
       "    </tr>\n",
       "    <tr>\n",
       "      <th>34</th>\n",
       "      <td>LMSNDS03:COM</td>\n",
       "      <td>Tin</td>\n",
       "      <td>31321.0000</td>\n",
       "      <td>Industrial</td>\n",
       "      <td>Daily</td>\n",
       "      <td>USD/T</td>\n",
       "      <td>2024-06-05T00:00:00</td>\n",
       "    </tr>\n",
       "    <tr>\n",
       "      <th>36</th>\n",
       "      <td>LMAHDS03:COM</td>\n",
       "      <td>Aluminum</td>\n",
       "      <td>2654.0000</td>\n",
       "      <td>Industrial</td>\n",
       "      <td>Daily</td>\n",
       "      <td>USD/T</td>\n",
       "      <td>2024-06-06T16:32:54</td>\n",
       "    </tr>\n",
       "    <tr>\n",
       "      <th>37</th>\n",
       "      <td>LL1:COM</td>\n",
       "      <td>Lead</td>\n",
       "      <td>2239.5000</td>\n",
       "      <td>Industrial</td>\n",
       "      <td>daily</td>\n",
       "      <td>USD/T</td>\n",
       "      <td>2024-06-06T16:33:49</td>\n",
       "    </tr>\n",
       "    <tr>\n",
       "      <th>39</th>\n",
       "      <td>LCO1:COM</td>\n",
       "      <td>Cobalt</td>\n",
       "      <td>27150.0000</td>\n",
       "      <td>Industrial</td>\n",
       "      <td>daily</td>\n",
       "      <td>USD/T</td>\n",
       "      <td>2024-06-05T00:00:00</td>\n",
       "    </tr>\n",
       "    <tr>\n",
       "      <th>58</th>\n",
       "      <td>MOLYBDEN:COM</td>\n",
       "      <td>Molybdenum</td>\n",
       "      <td>500.0000</td>\n",
       "      <td>Industrial</td>\n",
       "      <td>Weekly</td>\n",
       "      <td>CNY/Kg</td>\n",
       "      <td>2024-06-06T00:00:00</td>\n",
       "    </tr>\n",
       "    <tr>\n",
       "      <th>68</th>\n",
       "      <td>XPTUSD:CUR</td>\n",
       "      <td>Platinum</td>\n",
       "      <td>1012.3000</td>\n",
       "      <td>Metals</td>\n",
       "      <td>Delayed</td>\n",
       "      <td>USD/t.oz</td>\n",
       "      <td>2024-06-06T16:33:04.527</td>\n",
       "    </tr>\n",
       "    <tr>\n",
       "      <th>71</th>\n",
       "      <td>BIT:COM</td>\n",
       "      <td>Bitumen</td>\n",
       "      <td>3451.0000</td>\n",
       "      <td>Industrial</td>\n",
       "      <td>Daily</td>\n",
       "      <td>CNY/T</td>\n",
       "      <td>2024-06-06T00:00:00</td>\n",
       "    </tr>\n",
       "    <tr>\n",
       "      <th>76</th>\n",
       "      <td>LC:COM</td>\n",
       "      <td>Lithium</td>\n",
       "      <td>101500.0000</td>\n",
       "      <td>Metals</td>\n",
       "      <td>Daily</td>\n",
       "      <td>CNY/T</td>\n",
       "      <td>2024-06-05T00:00:00</td>\n",
       "    </tr>\n",
       "    <tr>\n",
       "      <th>79</th>\n",
       "      <td>SCO:COM</td>\n",
       "      <td>Iron Ore</td>\n",
       "      <td>107.0200</td>\n",
       "      <td>Metals</td>\n",
       "      <td>daily</td>\n",
       "      <td>USD/T</td>\n",
       "      <td>2024-06-05T00:00:00</td>\n",
       "    </tr>\n",
       "    <tr>\n",
       "      <th>80</th>\n",
       "      <td>JBP:COM</td>\n",
       "      <td>Steel</td>\n",
       "      <td>3465.0000</td>\n",
       "      <td>Metals</td>\n",
       "      <td>daily</td>\n",
       "      <td>CNY/T</td>\n",
       "      <td>2024-06-06T00:00:00</td>\n",
       "    </tr>\n",
       "    <tr>\n",
       "      <th>84</th>\n",
       "      <td>HG1:COM</td>\n",
       "      <td>Copper</td>\n",
       "      <td>4.6773</td>\n",
       "      <td>Metals</td>\n",
       "      <td>Live</td>\n",
       "      <td>USD/Lbs</td>\n",
       "      <td>2024-06-06T16:32:01.183</td>\n",
       "    </tr>\n",
       "    <tr>\n",
       "      <th>85</th>\n",
       "      <td>XAGUSD:CUR</td>\n",
       "      <td>Silver</td>\n",
       "      <td>31.1770</td>\n",
       "      <td>Metals</td>\n",
       "      <td>Live</td>\n",
       "      <td>USD/t.oz</td>\n",
       "      <td>2024-06-06T16:33:02.15</td>\n",
       "    </tr>\n",
       "    <tr>\n",
       "      <th>86</th>\n",
       "      <td>XAUUSD:CUR</td>\n",
       "      <td>Gold</td>\n",
       "      <td>2372.7800</td>\n",
       "      <td>Metals</td>\n",
       "      <td>Live</td>\n",
       "      <td>USD/t.oz</td>\n",
       "      <td>2024-06-06T16:33:35.92</td>\n",
       "    </tr>\n",
       "  </tbody>\n",
       "</table>\n",
       "</div>"
      ],
      "text/plain": [
       "          Symbol           Name        Close       Group frequency       unit  \\\n",
       "1        IUC:COM         Indium    3075.0000  Industrial     daily     CNY/Kg   \n",
       "3        KSP:COM     Kraft Pulp    5968.0000  Industrial     Daily      CNY/T   \n",
       "5        POL:COM   Polyethylene    8350.0000  Industrial     Daily      CNY/T   \n",
       "7     SODASH:COM       Soda Ash    2170.0000  Industrial     Daily      CNY/T   \n",
       "8        PYL:COM  Polypropylene    7563.0000  Industrial     Daily      CNY/T   \n",
       "9        PVC:COM      Polyvinyl    6137.0000  Industrial     Daily      CNY/T   \n",
       "11   SREMNDM:COM      Neodymium  462500.0000  Industrial     daily      CNY/T   \n",
       "15       UFI:COM    Di-ammonium     527.5000  Industrial     Daily      USD/T   \n",
       "16       UFB:COM           Urea     297.5000  Industrial     Daily      USD/T   \n",
       "17      TTSG:COM       Titanium      51.0000      Metals     Daily     CNY/KG   \n",
       "18       TEC:COM      Tellurium     595.0000  Industrial     daily     CNY/Kg   \n",
       "23       IMR:COM      Manganese      42.7500  Industrial     daily    CNY/mtu   \n",
       "24       HRC:COM      HRC Steel     730.0542      Metals   Delayed      USD/T   \n",
       "26  GECNYBGQ:COM      Germanium   10050.0000  Industrial     daily     CNY/Kg   \n",
       "27       GAC:COM        Gallium    2345.0000  Industrial     daily     CNY/Kg   \n",
       "28      MACN:COM      Magnesium   19400.0000  Industrial     daily      CNY/T   \n",
       "29       XRH:COM        Rhodium    4700.0000  Industrial     Daily  USD/t oz.   \n",
       "31    XPDUSD:CUR      Palladium     917.0000  Industrial   Delayed   USD/t.oz   \n",
       "32       LN1:COM         Nickel   18632.0000  Industrial     daily      USD/T   \n",
       "33  LMZSDS03:COM           Zinc    2920.0000  Industrial     Daily      USD/T   \n",
       "34  LMSNDS03:COM            Tin   31321.0000  Industrial     Daily      USD/T   \n",
       "36  LMAHDS03:COM       Aluminum    2654.0000  Industrial     Daily      USD/T   \n",
       "37       LL1:COM           Lead    2239.5000  Industrial     daily      USD/T   \n",
       "39      LCO1:COM         Cobalt   27150.0000  Industrial     daily      USD/T   \n",
       "58  MOLYBDEN:COM     Molybdenum     500.0000  Industrial    Weekly     CNY/Kg   \n",
       "68    XPTUSD:CUR       Platinum    1012.3000      Metals   Delayed   USD/t.oz   \n",
       "71       BIT:COM        Bitumen    3451.0000  Industrial     Daily      CNY/T   \n",
       "76        LC:COM        Lithium  101500.0000      Metals     Daily      CNY/T   \n",
       "79       SCO:COM       Iron Ore     107.0200      Metals     daily      USD/T   \n",
       "80       JBP:COM          Steel    3465.0000      Metals     daily      CNY/T   \n",
       "84       HG1:COM         Copper       4.6773      Metals      Live    USD/Lbs   \n",
       "85    XAGUSD:CUR         Silver      31.1770      Metals      Live   USD/t.oz   \n",
       "86    XAUUSD:CUR           Gold    2372.7800      Metals      Live   USD/t.oz   \n",
       "\n",
       "                       Date  \n",
       "1       2024-06-06T00:00:00  \n",
       "3       2024-06-06T00:00:00  \n",
       "5       2024-06-05T00:00:00  \n",
       "7       2024-06-06T00:00:00  \n",
       "8       2024-06-05T00:00:00  \n",
       "9       2024-06-05T00:00:00  \n",
       "11      2024-06-06T00:00:00  \n",
       "15      2024-06-05T00:00:00  \n",
       "16      2024-06-05T00:00:00  \n",
       "17      2024-06-06T00:00:00  \n",
       "18      2024-06-06T00:00:00  \n",
       "23      2024-06-06T00:00:00  \n",
       "24   2024-06-06T15:46:59.24  \n",
       "26      2024-06-06T00:00:00  \n",
       "27      2024-06-06T00:00:00  \n",
       "28      2024-06-06T00:00:00  \n",
       "29      2024-06-06T00:00:00  \n",
       "31  2024-06-06T16:32:35.057  \n",
       "32      2024-06-06T16:33:47  \n",
       "33      2024-06-06T16:33:44  \n",
       "34      2024-06-05T00:00:00  \n",
       "36      2024-06-06T16:32:54  \n",
       "37      2024-06-06T16:33:49  \n",
       "39      2024-06-05T00:00:00  \n",
       "58      2024-06-06T00:00:00  \n",
       "68  2024-06-06T16:33:04.527  \n",
       "71      2024-06-06T00:00:00  \n",
       "76      2024-06-05T00:00:00  \n",
       "79      2024-06-05T00:00:00  \n",
       "80      2024-06-06T00:00:00  \n",
       "84  2024-06-06T16:32:01.183  \n",
       "85   2024-06-06T16:33:02.15  \n",
       "86   2024-06-06T16:33:35.92  "
      ]
     },
     "execution_count": 4,
     "metadata": {},
     "output_type": "execute_result"
    }
   ],
   "source": [
    "commodities_group = commodities_data.query('Group == \"Metals\" or Group == \"Industrial\"')[['Symbol','Name', 'Close', 'Group', 'frequency', 'unit', 'Date']]\n",
    "commodities_group"
   ]
  },
  {
   "cell_type": "code",
   "execution_count": 5,
   "metadata": {},
   "outputs": [],
   "source": [
    "critical_minerals = {\n",
    "    'SCO:COM': 'Iron Ore',  # Assuming 'SCO:COM' is the symbol for Iron Ore\n",
    "    'JBP:COM': 'Steel',     # Assuming 'JBP:COM' is the symbol for Steel\n",
    "    'LMAHDS03:COM': 'Aluminum',  # Assuming 'LMAHDS03:COM' is the symbol for Aluminum\n",
    "    'LC:COM': 'Lithium',    # Assuming 'LC:COM' is the symbol for Lithium\n",
    "    'LCO1:COM': 'Cobalt',   # Assuming 'LCO1:COM' is the symbol for Cobalt\n",
    "    'LN1:COM': 'Nickel',    # Assuming 'LN1:COM' is the symbol for Nickel\n",
    "    'HG1:COM': 'Copper',    # Assuming 'HG1:COM' is the symbol for Copper\n",
    "    'IMR:COM': 'Manganese'  # Assuming 'IMR:COM' is the symbol for Manganese\n",
    "}"
   ]
  },
  {
   "cell_type": "code",
   "execution_count": 79,
   "metadata": {},
   "outputs": [
    {
     "data": {
      "image/png": "[encoded data removed]",
      "text/plain": [
       "<Figure size 1008x504 with 1 Axes>"
      ]
     },
     "metadata": {
      "needs_background": "light"
     },
     "output_type": "display_data"
    }
   ],
   "source": [
    "symbols = ['SCO:COM', 'JBP:COM', 'LMAHDS03:COM', 'LC:COM', 'LCO1:COM', 'LN1:COM', 'HG1:COM', 'IMR:COM']\n",
    "critical_symbols = ['LC:COM', 'LCO1:COM', 'LN1:COM', 'IMR:COM']\n",
    "\n",
    "# raw_df = te.getHistorical(symbol=symbols, initDate='2019-01-01',endDate=pd.to_datetime('today').strftime('%Y-%m-%d'))    \n",
    "# raw_df = pd.DataFrame(raw_df)\n",
    "# raw_df['Date'] = pd.to_datetime(raw_df['Date'])  # Convert 'Date' to datetime\n",
    "# raw_df.set_index('Date', inplace=True)  # Set 'Date' as the index\n",
    "\n",
    "#Assume raw_df is preloaded with the correct date indices and contains close prices\n",
    "result_df = pd.DataFrame()\n",
    "\n",
    "# Store volatility data\n",
    "quarterly_volatility = {}\n",
    "\n",
    "# Process each symbol's data\n",
    "for symbol in critical_symbols:\n",
    "    if symbol in raw_df['Symbol'].unique():\n",
    "        symbol_data = raw_df[raw_df['Symbol'] == symbol].copy()\n",
    "        symbol_data.index = pd.to_datetime(symbol_data.index)  # Ensure index is datetime\n",
    "\n",
    "        # Calculate quarterly volatility directly\n",
    "        std_dev = symbol_data['Close'].resample('M').std()\n",
    "        mean_price = symbol_data['Close'].resample('M').mean()\n",
    "\n",
    "        # Coefficient of Variation (Std Dev / Mean) for each quarter\n",
    "        cv = std_dev / mean_price\n",
    "\n",
    "        # Store computed quarterly volatility in the dictionary\n",
    "        quarterly_volatility[symbol] = cv\n",
    "\n",
    "        # Forward fill the volatility values within each quarter\n",
    "        # First, assign the calculated quarterly volatility back to the daily data\n",
    "        symbol_data['Quarterly Volatility'] = cv.resample('D').ffill()\n",
    "\n",
    "        # Concatenate the symbol data back to the result DataFrame\n",
    "        result_df = pd.concat([result_df, symbol_data])\n",
    "\n",
    "# Visualization of quarterly volatilities\n",
    "fig, ax = plt.subplots(figsize=(14, 7))\n",
    "for symbol, data in quarterly_volatility.items():\n",
    "    ax.plot(data.index, data.values, label=f'{symbol} Volatility')\n",
    "ax.set_title('Quarterly Price Volatility of Critical Minerals')\n",
    "ax.set_xlabel('Date')\n",
    "ax.set_ylabel('Volatility (Coefficient of Variation)')\n",
    "ax.legend(title='Symbol')\n",
    "plt.grid(True)\n",
    "# start date of the war\n",
    "plt.axvline(dt.datetime(2022, 2, 24), color='red', linestyle='--', label='Russia-Ukraine war start date')\n",
    "\n",
    "plt.tight_layout()\n",
    "plt.show()"
   ]
  },
  {
   "cell_type": "code",
   "execution_count": 33,
   "metadata": {},
   "outputs": [
    {
     "data": {
      "image/png": "[encoded data removed]",
      "text/plain": [
       "<Figure size 720x576 with 2 Axes>"
      ]
     },
     "metadata": {
      "needs_background": "light"
     },
     "output_type": "display_data"
    }
   ],
   "source": [
    "close_prices = pd.DataFrame(index=raw_df.index.unique())\n",
    "for symbol in symbols:\n",
    "    if symbol in raw_df['Symbol'].unique():\n",
    "        symbol_data = raw_df[raw_df['Symbol'] == symbol]\n",
    "        close_prices[symbol] = symbol_data['Close']\n",
    "\n",
    "close_prices.dropna(inplace=True)\n",
    "correlation_matrix = close_prices.corr()\n",
    "plt.figure(figsize=(10, 8))\n",
    "sns.heatmap(correlation_matrix, annot=True, cmap='coolwarm', fmt=\".2f\", linewidths=.5)\n",
    "plt.title('Correlation Matrix of Critical Mineral Prices')\n",
    "plt.show()"
   ]
  },
  {
   "cell_type": "markdown",
   "metadata": {},
   "source": [
    "Treemap for Critical Mineral Annual Percentage Change"
   ]
  },
  {
   "cell_type": "code",
   "execution_count": 11,
   "metadata": {},
   "outputs": [
    {
     "data": {
      "application/vnd.plotly.v1+json": {
       "config": {
        "plotlyServerURL": "https://plot.ly"
       },
       "data": [
        {
         "branchvalues": "total",
         "customdata": [
          [
           19.6034
          ],
          [
           83.2353
          ],
          [
           -16.5028
          ],
          [
           -8.8243
          ],
          [
           4.0455
          ],
          [
           35.567
          ],
          [
           16.4579
          ],
          [
           -5.2901
          ],
          [
           13.7077
          ],
          [
           1.8966
          ],
          [
           -8.044
          ],
          [
           218.1669
          ],
          [
           26.0972
          ],
          [
           195.9822
          ],
          [
           24.5288
          ],
          [
           -14.472
          ],
          [
           -11.5273
          ],
          [
           4.4375
          ],
          [
           17.2222
          ],
          [
           -18.329
          ],
          [
           -16.3876
          ],
          [
           111.7117
          ],
          [
           -26.9744
          ],
          [
           5.4954
          ],
          [
           -54.6213
          ],
          [
           11.6625
          ],
          [
           41.6918
          ],
          [
           -5.491
          ],
          [
           7.2
          ],
          [
           -24.4625
          ],
          [
           22.3315
          ],
          [
           -14.0101
          ],
          [
           -1.7647
          ],
          [
           105.6856
          ],
          [
           -1.4458
          ],
          [
           12.5928
          ],
          [
           20.517
          ],
          [
           15.7006
          ],
          [
           9.2572
          ],
          [
           10.8572
          ],
          [
           -65.8824
          ],
          [
           5.0629
          ],
          [
           -3.2269
          ],
          [
           -12.0181
          ],
          [
           33.5938
          ],
          [
           25.8714
          ],
          [
           27.7124
          ],
          [
           1.6713
          ],
          [
           5.731
          ],
          [
           13.1237
          ],
          [
           -23.5537
          ],
          [
           -12.5628
          ],
          [
           45.3439
          ],
          [
           2.8515
          ],
          [
           71.4535
          ],
          [
           -33.9714
          ],
          [
           19.8193
          ],
          [
           -0.6075
          ],
          [
           7.0513
          ],
          [
           8.012
          ],
          [
           8.6002
          ],
          [
           30.8725
          ],
          [
           23.0384
          ],
          [
           11.4403
          ],
          [
           12.8175
          ],
          [
           -26.5625
          ],
          [
           19.5376
          ],
          [
           31.3399
          ],
          [
           -18.4645
          ],
          [
           -5.7551
          ],
          [
           32.9226
          ],
          [
           11.2821
          ],
          [
           -33.0048
          ],
          [
           -5.2248
          ],
          [
           -2.4843
          ],
          [
           -5.0164
          ],
          [
           -21.4314
          ],
          [
           9.0833
          ],
          [
           25.6766
          ],
          [
           24.9471
          ],
          [
           0.4219
          ],
          [
           22.2617
          ],
          [
           -4.5847
          ],
          [
           -3.9604
          ],
          [
           26.4627
          ],
          [
           18.3648
          ],
          [
           53.9394
          ],
          [
           0.3373
          ],
          [
           2.698
          ],
          [
           -1.1364
          ],
          [
           -4.6358
          ],
          [
           21.7428
          ],
          [
           21.857413636363635
          ],
          [
           -14.58714
          ],
          [
           11.197099999999997
          ],
          [
           29.74477
          ],
          [
           8.775616666666666
          ],
          [
           14.690012499999998
          ],
          [
           -1.3071111111111107
          ],
          [
           12.80984130434783
          ]
         ],
         "domain": {
          "x": [
           0,
           1
          ],
          "y": [
           0,
           1
          ]
         },
         "hovertemplate": "%{label}<br>Year % Change= %{customdata[0]}%<extra></extra>",
         "ids": [
          "Commodities/Industrial/Aluminum",
          "Commodities/Index/Baltic Dry",
          "Commodities/Livestock/Beef",
          "Commodities/Industrial/Bitumen",
          "Commodities/Energy/Brent",
          "Commodities/Agricultural/Butter",
          "Commodities/Index/CRB ",
          "Commodities/Agricultural/Canola",
          "Commodities/Agricultural/Cheese",
          "Commodities/Energy/Coal",
          "Commodities/Industrial/Cobalt",
          "Commodities/Agricultural/Cocoa",
          "Commodities/Agricultural/Coffee",
          "Commodities/Index/Containerized Freight ",
          "Commodities/Metals/Copper",
          "Commodities/Agricultural/Corn",
          "Commodities/Agricultural/Cotton",
          "Commodities/Energy/Crude Oil",
          "Commodities/Industrial/Di-ammonium",
          "Commodities/Index/EU Carbon Permits",
          "Commodities/Livestock/Eggs CH",
          "Commodities/Livestock/Eggs US",
          "Commodities/Energy/Ethanol",
          "Commodities/Livestock/Feeder Cattle",
          "Commodities/Electricity/France Electricity",
          "Commodities/Index/GSCI",
          "Commodities/Industrial/Gallium",
          "Commodities/Energy/Gasoline",
          "Commodities/Industrial/Germanium",
          "Commodities/Electricity/Germany Electricity",
          "Commodities/Metals/Gold",
          "Commodities/Metals/HRC Steel",
          "Commodities/Energy/Heating Oil",
          "Commodities/Industrial/Indium",
          "Commodities/Metals/Iron Ore",
          "Commodities/Electricity/Italy Electricity",
          "Commodities/Industrial/Kraft Pulp",
          "Commodities/Index/LME ",
          "Commodities/Industrial/Lead",
          "Commodities/Livestock/Lean Hogs",
          "Commodities/Metals/Lithium",
          "Commodities/Livestock/Live Cattle",
          "Commodities/Agricultural/Lumber",
          "Commodities/Industrial/Magnesium",
          "Commodities/Industrial/Manganese",
          "Commodities/Energy/Methanol",
          "Commodities/Agricultural/Milk",
          "Commodities/Industrial/Molybdenum",
          "Commodities/Energy/Naphtha",
          "Commodities/Energy/Natural gas",
          "Commodities/Industrial/Neodymium",
          "Commodities/Industrial/Nickel",
          "Commodities/Index/Nuclear Energy ",
          "Commodities/Agricultural/Oat",
          "Commodities/Agricultural/Orange Juice",
          "Commodities/Industrial/Palladium",
          "Commodities/Agricultural/Palm Oil",
          "Commodities/Metals/Platinum",
          "Commodities/Industrial/Polyethylene",
          "Commodities/Industrial/Polypropylene",
          "Commodities/Industrial/Polyvinyl",
          "Commodities/Agricultural/Potatoes",
          "Commodities/Livestock/Poultry",
          "Commodities/Energy/Propane",
          "Commodities/Agricultural/Rapeseed",
          "Commodities/Industrial/Rhodium",
          "Commodities/Agricultural/Rice",
          "Commodities/Agricultural/Rubber",
          "Commodities/Index/SSE Consume Commodity ",
          "Commodities/Livestock/Salmon",
          "Commodities/Metals/Silver",
          "Commodities/Industrial/Soda Ash",
          "Commodities/Index/Solar Energy ",
          "Commodities/Agricultural/Soybeans",
          "Commodities/Electricity/Spain Electricity",
          "Commodities/Metals/Steel",
          "Commodities/Agricultural/Sugar",
          "Commodities/Agricultural/Sunflower Oil",
          "Commodities/Energy/TTF Gas",
          "Commodities/Agricultural/Tea",
          "Commodities/Industrial/Tellurium",
          "Commodities/Industrial/Tin",
          "Commodities/Metals/Titanium",
          "Commodities/Electricity/UK Electricity",
          "Commodities/Energy/UK Gas",
          "Commodities/Energy/Urals Oil",
          "Commodities/Energy/Uranium",
          "Commodities/Industrial/Urea",
          "Commodities/Agricultural/Wheat",
          "Commodities/Index/Wind Energy ",
          "Commodities/Agricultural/Wool",
          "Commodities/Industrial/Zinc",
          "Commodities/Agricultural",
          "Commodities/Electricity",
          "Commodities/Energy",
          "Commodities/Index",
          "Commodities/Industrial",
          "Commodities/Livestock",
          "Commodities/Metals",
          "Commodities"
         ],
         "labels": [
          "Aluminum",
          "Baltic Dry",
          "Beef",
          "Bitumen",
          "Brent",
          "Butter",
          "CRB ",
          "Canola",
          "Cheese",
          "Coal",
          "Cobalt",
          "Cocoa",
          "Coffee",
          "Containerized Freight ",
          "Copper",
          "Corn",
          "Cotton",
          "Crude Oil",
          "Di-ammonium",
          "EU Carbon Permits",
          "Eggs CH",
          "Eggs US",
          "Ethanol",
          "Feeder Cattle",
          "France Electricity",
          "GSCI",
          "Gallium",
          "Gasoline",
          "Germanium",
          "Germany Electricity",
          "Gold",
          "HRC Steel",
          "Heating Oil",
          "Indium",
          "Iron Ore",
          "Italy Electricity",
          "Kraft Pulp",
          "LME ",
          "Lead",
          "Lean Hogs",
          "Lithium",
          "Live Cattle",
          "Lumber",
          "Magnesium",
          "Manganese",
          "Methanol",
          "Milk",
          "Molybdenum",
          "Naphtha",
          "Natural gas",
          "Neodymium",
          "Nickel",
          "Nuclear Energy ",
          "Oat",
          "Orange Juice",
          "Palladium",
          "Palm Oil",
          "Platinum",
          "Polyethylene",
          "Polypropylene",
          "Polyvinyl",
          "Potatoes",
          "Poultry",
          "Propane",
          "Rapeseed",
          "Rhodium",
          "Rice",
          "Rubber",
          "SSE Consume Commodity ",
          "Salmon",
          "Silver",
          "Soda Ash",
          "Solar Energy ",
          "Soybeans",
          "Spain Electricity",
          "Steel",
          "Sugar",
          "Sunflower Oil",
          "TTF Gas",
          "Tea",
          "Tellurium",
          "Tin",
          "Titanium",
          "UK Electricity",
          "UK Gas",
          "Urals Oil",
          "Uranium",
          "Urea",
          "Wheat",
          "Wind Energy ",
          "Wool",
          "Zinc",
          "Agricultural",
          "Electricity",
          "Energy",
          "Index",
          "Industrial",
          "Livestock",
          "Metals",
          "Commodities"
         ],
         "marker": {
          "coloraxis": "coloraxis",
          "colors": [
           19.6034,
           83.2353,
           -16.5028,
           -8.8243,
           4.0455,
           35.567,
           16.4579,
           -5.2901,
           13.7077,
           1.8966,
           -8.044,
           218.1669,
           26.0972,
           195.9822,
           24.5288,
           -14.472,
           -11.5273,
           4.4375,
           17.2222,
           -18.329,
           -16.3876,
           111.7117,
           -26.9744,
           5.4954,
           -54.6213,
           11.6625,
           41.6918,
           -5.491,
           7.2,
           -24.4625,
           22.3315,
           -14.0101,
           -1.7647,
           105.6856,
           -1.4458,
           12.5928,
           20.517,
           15.7006,
           9.2572,
           10.8572,
           -65.8824,
           5.0629,
           -3.2269,
           -12.0181,
           33.5938,
           25.8714,
           27.7124,
           1.6713,
           5.731,
           13.1237,
           -23.5537,
           -12.5628,
           45.3439,
           2.8515,
           71.4535,
           -33.9714,
           19.8193,
           -0.6075,
           7.0513,
           8.012,
           8.6002,
           30.8725,
           23.0384,
           11.4403,
           12.8175,
           -26.5625,
           19.5376,
           31.3399,
           -18.4645,
           -5.7551,
           32.9226,
           11.2821,
           -33.0048,
           -5.2248,
           -2.4843,
           -5.0164,
           -21.4314,
           9.0833,
           25.6766,
           24.9471,
           0.4219,
           22.2617,
           -4.5847,
           -3.9604,
           26.4627,
           18.3648,
           53.9394,
           0.3373,
           2.698,
           -1.1364,
           -4.6358,
           21.7428,
           21.857413636363635,
           -14.58714,
           11.197099999999997,
           29.74477,
           8.775616666666666,
           14.690012499999998,
           -1.3071111111111107,
           12.80984130434783
          ]
         },
         "name": "",
         "parents": [
          "Commodities/Industrial",
          "Commodities/Index",
          "Commodities/Livestock",
          "Commodities/Industrial",
          "Commodities/Energy",
          "Commodities/Agricultural",
          "Commodities/Index",
          "Commodities/Agricultural",
          "Commodities/Agricultural",
          "Commodities/Energy",
          "Commodities/Industrial",
          "Commodities/Agricultural",
          "Commodities/Agricultural",
          "Commodities/Index",
          "Commodities/Metals",
          "Commodities/Agricultural",
          "Commodities/Agricultural",
          "Commodities/Energy",
          "Commodities/Industrial",
          "Commodities/Index",
          "Commodities/Livestock",
          "Commodities/Livestock",
          "Commodities/Energy",
          "Commodities/Livestock",
          "Commodities/Electricity",
          "Commodities/Index",
          "Commodities/Industrial",
          "Commodities/Energy",
          "Commodities/Industrial",
          "Commodities/Electricity",
          "Commodities/Metals",
          "Commodities/Metals",
          "Commodities/Energy",
          "Commodities/Industrial",
          "Commodities/Metals",
          "Commodities/Electricity",
          "Commodities/Industrial",
          "Commodities/Index",
          "Commodities/Industrial",
          "Commodities/Livestock",
          "Commodities/Metals",
          "Commodities/Livestock",
          "Commodities/Agricultural",
          "Commodities/Industrial",
          "Commodities/Industrial",
          "Commodities/Energy",
          "Commodities/Agricultural",
          "Commodities/Industrial",
          "Commodities/Energy",
          "Commodities/Energy",
          "Commodities/Industrial",
          "Commodities/Industrial",
          "Commodities/Index",
          "Commodities/Agricultural",
          "Commodities/Agricultural",
          "Commodities/Industrial",
          "Commodities/Agricultural",
          "Commodities/Metals",
          "Commodities/Industrial",
          "Commodities/Industrial",
          "Commodities/Industrial",
          "Commodities/Agricultural",
          "Commodities/Livestock",
          "Commodities/Energy",
          "Commodities/Agricultural",
          "Commodities/Industrial",
          "Commodities/Agricultural",
          "Commodities/Agricultural",
          "Commodities/Index",
          "Commodities/Livestock",
          "Commodities/Metals",
          "Commodities/Industrial",
          "Commodities/Index",
          "Commodities/Agricultural",
          "Commodities/Electricity",
          "Commodities/Metals",
          "Commodities/Agricultural",
          "Commodities/Agricultural",
          "Commodities/Energy",
          "Commodities/Agricultural",
          "Commodities/Industrial",
          "Commodities/Industrial",
          "Commodities/Metals",
          "Commodities/Electricity",
          "Commodities/Energy",
          "Commodities/Energy",
          "Commodities/Energy",
          "Commodities/Industrial",
          "Commodities/Agricultural",
          "Commodities/Index",
          "Commodities/Agricultural",
          "Commodities/Industrial",
          "Commodities",
          "Commodities",
          "Commodities",
          "Commodities",
          "Commodities",
          "Commodities",
          "Commodities",
          ""
         ],
         "type": "treemap",
         "values": [
          1,
          1,
          1,
          1,
          1,
          1,
          1,
          1,
          1,
          1,
          1,
          1,
          1,
          1,
          1,
          1,
          1,
          1,
          1,
          1,
          1,
          1,
          1,
          1,
          1,
          1,
          1,
          1,
          1,
          1,
          1,
          1,
          1,
          1,
          1,
          1,
          1,
          1,
          1,
          1,
          1,
          1,
          1,
          1,
          1,
          1,
          1,
          1,
          1,
          1,
          1,
          1,
          1,
          1,
          1,
          1,
          1,
          1,
          1,
          1,
          1,
          1,
          1,
          1,
          1,
          1,
          1,
          1,
          1,
          1,
          1,
          1,
          1,
          1,
          1,
          1,
          1,
          1,
          1,
          1,
          1,
          1,
          1,
          1,
          1,
          1,
          1,
          1,
          1,
          1,
          1,
          1,
          22,
          5,
          14,
          10,
          24,
          8,
          9,
          92
         ]
        }
       ],
       "layout": {
        "autosize": false,
        "coloraxis": {
         "cmid": 0,
         "colorbar": {
          "title": {
           "text": "Year%Change"
          }
         },
         "colorscale": [
          [
           0,
           "rgb(165,0,38)"
          ],
          [
           0.1,
           "rgb(215,48,39)"
          ],
          [
           0.2,
           "rgb(244,109,67)"
          ],
          [
           0.3,
           "rgb(253,174,97)"
          ],
          [
           0.4,
           "rgb(254,224,139)"
          ],
          [
           0.5,
           "rgb(255,255,191)"
          ],
          [
           0.6,
           "rgb(217,239,139)"
          ],
          [
           0.7,
           "rgb(166,217,106)"
          ],
          [
           0.8,
           "rgb(102,189,99)"
          ],
          [
           0.9,
           "rgb(26,152,80)"
          ],
          [
           1,
           "rgb(0,104,55)"
          ]
         ]
        },
        "height": 700,
        "legend": {
         "tracegroupgap": 0
        },
        "margin": {
         "b": 0,
         "l": 0,
         "r": 0,
         "t": 0
        },
        "template": {
         "data": {
          "bar": [
           {
            "error_x": {
             "color": "#2a3f5f"
            },
            "error_y": {
             "color": "#2a3f5f"
            },
            "marker": {
             "line": {
              "color": "#E5ECF6",
              "width": 0.5
             },
             "pattern": {
              "fillmode": "overlay",
              "size": 10,
              "solidity": 0.2
             }
            },
            "type": "bar"
           }
          ],
          "barpolar": [
           {
            "marker": {
             "line": {
              "color": "#E5ECF6",
              "width": 0.5
             },
             "pattern": {
              "fillmode": "overlay",
              "size": 10,
              "solidity": 0.2
             }
            },
            "type": "barpolar"
           }
          ],
          "carpet": [
           {
            "aaxis": {
             "endlinecolor": "#2a3f5f",
             "gridcolor": "white",
             "linecolor": "white",
             "minorgridcolor": "white",
             "startlinecolor": "#2a3f5f"
            },
            "baxis": {
             "endlinecolor": "#2a3f5f",
             "gridcolor": "white",
             "linecolor": "white",
             "minorgridcolor": "white",
             "startlinecolor": "#2a3f5f"
            },
            "type": "carpet"
           }
          ],
          "choropleth": [
           {
            "colorbar": {
             "outlinewidth": 0,
             "ticks": ""
            },
            "type": "choropleth"
           }
          ],
          "contour": [
           {
            "colorbar": {
             "outlinewidth": 0,
             "ticks": ""
            },
            "colorscale": [
             [
              0,
              "#0d0887"
             ],
             [
              0.1111111111111111,
              "#46039f"
             ],
             [
              0.2222222222222222,
              "#7201a8"
             ],
             [
              0.3333333333333333,
              "#9c179e"
             ],
             [
              0.4444444444444444,
              "#bd3786"
             ],
             [
              0.5555555555555556,
              "#d8576b"
             ],
             [
              0.6666666666666666,
              "#ed7953"
             ],
             [
              0.7777777777777778,
              "#fb9f3a"
             ],
             [
              0.8888888888888888,
              "#fdca26"
             ],
             [
              1,
              "#f0f921"
             ]
            ],
            "type": "contour"
           }
          ],
          "contourcarpet": [
           {
            "colorbar": {
             "outlinewidth": 0,
             "ticks": ""
            },
            "type": "contourcarpet"
           }
          ],
          "heatmap": [
           {
            "colorbar": {
             "outlinewidth": 0,
             "ticks": ""
            },
            "colorscale": [
             [
              0,
              "#0d0887"
             ],
             [
              0.1111111111111111,
              "#46039f"
             ],
             [
              0.2222222222222222,
              "#7201a8"
             ],
             [
              0.3333333333333333,
              "#9c179e"
             ],
             [
              0.4444444444444444,
              "#bd3786"
             ],
             [
              0.5555555555555556,
              "#d8576b"
             ],
             [
              0.6666666666666666,
              "#ed7953"
             ],
             [
              0.7777777777777778,
              "#fb9f3a"
             ],
             [
              0.8888888888888888,
              "#fdca26"
             ],
             [
              1,
              "#f0f921"
             ]
            ],
            "type": "heatmap"
           }
          ],
          "heatmapgl": [
           {
            "colorbar": {
             "outlinewidth": 0,
             "ticks": ""
            },
            "colorscale": [
             [
              0,
              "#0d0887"
             ],
             [
              0.1111111111111111,
              "#46039f"
             ],
             [
              0.2222222222222222,
              "#7201a8"
             ],
             [
              0.3333333333333333,
              "#9c179e"
             ],
             [
              0.4444444444444444,
              "#bd3786"
             ],
             [
              0.5555555555555556,
              "#d8576b"
             ],
             [
              0.6666666666666666,
              "#ed7953"
             ],
             [
              0.7777777777777778,
              "#fb9f3a"
             ],
             [
              0.8888888888888888,
              "#fdca26"
             ],
             [
              1,
              "#f0f921"
             ]
            ],
            "type": "heatmapgl"
           }
          ],
          "histogram": [
           {
            "marker": {
             "pattern": {
              "fillmode": "overlay",
              "size": 10,
              "solidity": 0.2
             }
            },
            "type": "histogram"
           }
          ],
          "histogram2d": [
           {
            "colorbar": {
             "outlinewidth": 0,
             "ticks": ""
            },
            "colorscale": [
             [
              0,
              "#0d0887"
             ],
             [
              0.1111111111111111,
              "#46039f"
             ],
             [
              0.2222222222222222,
              "#7201a8"
             ],
             [
              0.3333333333333333,
              "#9c179e"
             ],
             [
              0.4444444444444444,
              "#bd3786"
             ],
             [
              0.5555555555555556,
              "#d8576b"
             ],
             [
              0.6666666666666666,
              "#ed7953"
             ],
             [
              0.7777777777777778,
              "#fb9f3a"
             ],
             [
              0.8888888888888888,
              "#fdca26"
             ],
             [
              1,
              "#f0f921"
             ]
            ],
            "type": "histogram2d"
           }
          ],
          "histogram2dcontour": [
           {
            "colorbar": {
             "outlinewidth": 0,
             "ticks": ""
            },
            "colorscale": [
             [
              0,
              "#0d0887"
             ],
             [
              0.1111111111111111,
              "#46039f"
             ],
             [
              0.2222222222222222,
              "#7201a8"
             ],
             [
              0.3333333333333333,
              "#9c179e"
             ],
             [
              0.4444444444444444,
              "#bd3786"
             ],
             [
              0.5555555555555556,
              "#d8576b"
             ],
             [
              0.6666666666666666,
              "#ed7953"
             ],
             [
              0.7777777777777778,
              "#fb9f3a"
             ],
             [
              0.8888888888888888,
              "#fdca26"
             ],
             [
              1,
              "#f0f921"
             ]
            ],
            "type": "histogram2dcontour"
           }
          ],
          "mesh3d": [
           {
            "colorbar": {
             "outlinewidth": 0,
             "ticks": ""
            },
            "type": "mesh3d"
           }
          ],
          "parcoords": [
           {
            "line": {
             "colorbar": {
              "outlinewidth": 0,
              "ticks": ""
             }
            },
            "type": "parcoords"
           }
          ],
          "pie": [
           {
            "automargin": true,
            "type": "pie"
           }
          ],
          "scatter": [
           {
            "fillpattern": {
             "fillmode": "overlay",
             "size": 10,
             "solidity": 0.2
            },
            "type": "scatter"
           }
          ],
          "scatter3d": [
           {
            "line": {
             "colorbar": {
              "outlinewidth": 0,
              "ticks": ""
             }
            },
            "marker": {
             "colorbar": {
              "outlinewidth": 0,
              "ticks": ""
             }
            },
            "type": "scatter3d"
           }
          ],
          "scattercarpet": [
           {
            "marker": {
             "colorbar": {
              "outlinewidth": 0,
              "ticks": ""
             }
            },
            "type": "scattercarpet"
           }
          ],
          "scattergeo": [
           {
            "marker": {
             "colorbar": {
              "outlinewidth": 0,
              "ticks": ""
             }
            },
            "type": "scattergeo"
           }
          ],
          "scattergl": [
           {
            "marker": {
             "colorbar": {
              "outlinewidth": 0,
              "ticks": ""
             }
            },
            "type": "scattergl"
           }
          ],
          "scattermapbox": [
           {
            "marker": {
             "colorbar": {
              "outlinewidth": 0,
              "ticks": ""
             }
            },
            "type": "scattermapbox"
           }
          ],
          "scatterpolar": [
           {
            "marker": {
             "colorbar": {
              "outlinewidth": 0,
              "ticks": ""
             }
            },
            "type": "scatterpolar"
           }
          ],
          "scatterpolargl": [
           {
            "marker": {
             "colorbar": {
              "outlinewidth": 0,
              "ticks": ""
             }
            },
            "type": "scatterpolargl"
           }
          ],
          "scatterternary": [
           {
            "marker": {
             "colorbar": {
              "outlinewidth": 0,
              "ticks": ""
             }
            },
            "type": "scatterternary"
           }
          ],
          "surface": [
           {
            "colorbar": {
             "outlinewidth": 0,
             "ticks": ""
            },
            "colorscale": [
             [
              0,
              "#0d0887"
             ],
             [
              0.1111111111111111,
              "#46039f"
             ],
             [
              0.2222222222222222,
              "#7201a8"
             ],
             [
              0.3333333333333333,
              "#9c179e"
             ],
             [
              0.4444444444444444,
              "#bd3786"
             ],
             [
              0.5555555555555556,
              "#d8576b"
             ],
             [
              0.6666666666666666,
              "#ed7953"
             ],
             [
              0.7777777777777778,
              "#fb9f3a"
             ],
             [
              0.8888888888888888,
              "#fdca26"
             ],
             [
              1,
              "#f0f921"
             ]
            ],
            "type": "surface"
           }
          ],
          "table": [
           {
            "cells": {
             "fill": {
              "color": "#EBF0F8"
             },
             "line": {
              "color": "white"
             }
            },
            "header": {
             "fill": {
              "color": "#C8D4E3"
             },
             "line": {
              "color": "white"
             }
            },
            "type": "table"
           }
          ]
         },
         "layout": {
          "annotationdefaults": {
           "arrowcolor": "#2a3f5f",
           "arrowhead": 0,
           "arrowwidth": 1
          },
          "autotypenumbers": "strict",
          "coloraxis": {
           "colorbar": {
            "outlinewidth": 0,
            "ticks": ""
           }
          },
          "colorscale": {
           "diverging": [
            [
             0,
             "#8e0152"
            ],
            [
             0.1,
             "#c51b7d"
            ],
            [
             0.2,
             "#de77ae"
            ],
            [
             0.3,
             "#f1b6da"
            ],
            [
             0.4,
             "#fde0ef"
            ],
            [
             0.5,
             "#f7f7f7"
            ],
            [
             0.6,
             "#e6f5d0"
            ],
            [
             0.7,
             "#b8e186"
            ],
            [
             0.8,
             "#7fbc41"
            ],
            [
             0.9,
             "#4d9221"
            ],
            [
             1,
             "#276419"
            ]
           ],
           "sequential": [
            [
             0,
             "#0d0887"
            ],
            [
             0.1111111111111111,
             "#46039f"
            ],
            [
             0.2222222222222222,
             "#7201a8"
            ],
            [
             0.3333333333333333,
             "#9c179e"
            ],
            [
             0.4444444444444444,
             "#bd3786"
            ],
            [
             0.5555555555555556,
             "#d8576b"
            ],
            [
             0.6666666666666666,
             "#ed7953"
            ],
            [
             0.7777777777777778,
             "#fb9f3a"
            ],
            [
             0.8888888888888888,
             "#fdca26"
            ],
            [
             1,
             "#f0f921"
            ]
           ],
           "sequentialminus": [
            [
             0,
             "#0d0887"
            ],
            [
             0.1111111111111111,
             "#46039f"
            ],
            [
             0.2222222222222222,
             "#7201a8"
            ],
            [
             0.3333333333333333,
             "#9c179e"
            ],
            [
             0.4444444444444444,
             "#bd3786"
            ],
            [
             0.5555555555555556,
             "#d8576b"
            ],
            [
             0.6666666666666666,
             "#ed7953"
            ],
            [
             0.7777777777777778,
             "#fb9f3a"
            ],
            [
             0.8888888888888888,
             "#fdca26"
            ],
            [
             1,
             "#f0f921"
            ]
           ]
          },
          "colorway": [
           "#636efa",
           "#EF553B",
           "#00cc96",
           "#ab63fa",
           "#FFA15A",
           "#19d3f3",
           "#FF6692",
           "#B6E880",
           "#FF97FF",
           "#FECB52"
          ],
          "font": {
           "color": "#2a3f5f"
          },
          "geo": {
           "bgcolor": "white",
           "lakecolor": "white",
           "landcolor": "#E5ECF6",
           "showlakes": true,
           "showland": true,
           "subunitcolor": "white"
          },
          "hoverlabel": {
           "align": "left"
          },
          "hovermode": "closest",
          "mapbox": {
           "style": "light"
          },
          "paper_bgcolor": "white",
          "plot_bgcolor": "#E5ECF6",
          "polar": {
           "angularaxis": {
            "gridcolor": "white",
            "linecolor": "white",
            "ticks": ""
           },
           "bgcolor": "#E5ECF6",
           "radialaxis": {
            "gridcolor": "white",
            "linecolor": "white",
            "ticks": ""
           }
          },
          "scene": {
           "xaxis": {
            "backgroundcolor": "#E5ECF6",
            "gridcolor": "white",
            "gridwidth": 2,
            "linecolor": "white",
            "showbackground": true,
            "ticks": "",
            "zerolinecolor": "white"
           },
           "yaxis": {
            "backgroundcolor": "#E5ECF6",
            "gridcolor": "white",
            "gridwidth": 2,
            "linecolor": "white",
            "showbackground": true,
            "ticks": "",
            "zerolinecolor": "white"
           },
           "zaxis": {
            "backgroundcolor": "#E5ECF6",
            "gridcolor": "white",
            "gridwidth": 2,
            "linecolor": "white",
            "showbackground": true,
            "ticks": "",
            "zerolinecolor": "white"
           }
          },
          "shapedefaults": {
           "line": {
            "color": "#2a3f5f"
           }
          },
          "ternary": {
           "aaxis": {
            "gridcolor": "white",
            "linecolor": "white",
            "ticks": ""
           },
           "baxis": {
            "gridcolor": "white",
            "linecolor": "white",
            "ticks": ""
           },
           "bgcolor": "#E5ECF6",
           "caxis": {
            "gridcolor": "white",
            "linecolor": "white",
            "ticks": ""
           }
          },
          "title": {
           "x": 0.05
          },
          "xaxis": {
           "automargin": true,
           "gridcolor": "white",
           "linecolor": "white",
           "ticks": "",
           "title": {
            "standoff": 15
           },
           "zerolinecolor": "white",
           "zerolinewidth": 2
          },
          "yaxis": {
           "automargin": true,
           "gridcolor": "white",
           "linecolor": "white",
           "ticks": "",
           "title": {
            "standoff": 15
           },
           "zerolinecolor": "white",
           "zerolinewidth": 2
          }
         }
        },
        "width": 1200
       }
      }
     },
     "metadata": {},
     "output_type": "display_data"
    }
   ],
   "source": [
    "commodities_data = te.getMarketsData(marketsField='commodities', output_type='df') \n",
    "commodities = commodities_data.rename(columns={'YearlyPercentualChange': 'Year%Change'})\n",
    "commodities['Name'] = commodities['Name'].str.replace(\"Index\", \"\")\n",
    "fig = px.treemap(commodities, path=[px.Constant(\"Commodities\"),'Group', 'Name'], color='Year%Change', color_continuous_scale='rdylgn',color_continuous_midpoint=0)\n",
    "fig.update_layout(\n",
    "    margin = dict(t=0, l=0, r=0, b=0),autosize=False,\n",
    "    width=1200,\n",
    "    height=700\n",
    ")\n",
    "fig.update_traces(hovertemplate='%{label}<br>Year % Change= %{customdata[0]}%<extra></extra>')\n",
    "fig.show()"
   ]
  },
  {
   "cell_type": "code",
   "execution_count": 72,
   "metadata": {},
   "outputs": [],
   "source": [
    "# critical_minerals = [\n",
    "#     'Iron Ore',  # Assuming 'Iron Ore' maps to 'SCO:COM'\n",
    "#     'Steel',     # Assuming 'Steel' maps to 'JBP:COM'\n",
    "#     'Aluminum',  # Assuming 'Aluminum' maps to 'LMAHDS03:COM'\n",
    "#     'Lithium',   # Assuming 'Lithium' maps to 'LC:COM'\n",
    "#     'Cobalt',    # Assuming 'Cobalt' maps to 'LCO1:COM'\n",
    "#     'Nickel',    # Assuming 'Nickel' maps to 'LN1:COM'\n",
    "#     'Copper',    # Assuming 'Copper' maps to 'HG1:COM'\n",
    "#     'Manganese'  # Assuming 'Manganese' maps to 'IMR:COM'\n",
    "# ]\n",
    "\n",
    "# filtered_commodities = commodities[commodities['Name'].isin(critical_minerals)]\n",
    "# # Create a treemap visualization\n",
    "# fig_cm = px.treemap(\n",
    "#     filtered_commodities,\n",
    "#     path=[px.Constant(\"Commodities\"), 'Group', 'Name'],\n",
    "#     color='Year%Change',\n",
    "#     color_continuous_scale='RdYlGn',\n",
    "#     color_continuous_midpoint=0\n",
    "# )\n",
    "# fig_cm.update_traces(hovertemplate='%{label}<br>Year % Change= %{customdata[0]}%<extra></extra>')\n",
    "# fig_cm.show()\n"
   ]
  }
 ],
 "metadata": {
  "kernelspec": {
   "display_name": "base",
   "language": "python",
   "name": "python3"
  },
  "language_info": {
   "codemirror_mode": {
    "name": "ipython",
    "version": 3
   },
   "file_extension": ".py",
   "mimetype": "text/x-python",
   "name": "python",
   "nbconvert_exporter": "python",
   "pygments_lexer": "ipython3",
   "version": "3.9.7"
  }
 },
 "nbformat": 4,
 "nbformat_minor": 2
}
