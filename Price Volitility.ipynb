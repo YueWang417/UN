{
 "cells": [
  {
   "cell_type": "code",
   "execution_count": 1,
   "metadata": {},
   "outputs": [
    {
     "data": {
      "text/plain": [
       "True"
      ]
     },
     "execution_count": 1,
     "metadata": {},
     "output_type": "execute_result"
    }
   ],
   "source": [
    "import matplotlib.pyplot as plt\n",
    "import numpy as np\n",
    "import pandas as pd\n",
    "import tradingeconomics as te\n",
    "from dotenv import load_dotenv\n",
    "import plotly.express as px\n",
    "from IPython.display import Image\n",
    "import os\n",
    "from urllib.request import urlopen\n",
    "import datetime as dt  # Correct import for datetime\n",
    "\n",
    "\n",
    "api_key = os.getenv('TRADING_ECONOMICS_API_KEY')\n",
    "te.login(api_key)\n",
    "load_dotenv() "
   ]
  },
  {
   "cell_type": "markdown",
   "metadata": {},
   "source": [
    "Data Exploratory"
   ]
  },
  {
   "cell_type": "code",
   "execution_count": 2,
   "metadata": {},
   "outputs": [
    {
     "data": {
      "text/html": [
       "<div>\n",
       "<style scoped>\n",
       "    .dataframe tbody tr th:only-of-type {\n",
       "        vertical-align: middle;\n",
       "    }\n",
       "\n",
       "    .dataframe tbody tr th {\n",
       "        vertical-align: top;\n",
       "    }\n",
       "\n",
       "    .dataframe thead th {\n",
       "        text-align: right;\n",
       "    }\n",
       "</style>\n",
       "<table border=\"1\" class=\"dataframe\">\n",
       "  <thead>\n",
       "    <tr style=\"text-align: right;\">\n",
       "      <th></th>\n",
       "      <th>Symbol</th>\n",
       "      <th>Ticker</th>\n",
       "      <th>Name</th>\n",
       "      <th>Country</th>\n",
       "      <th>Date</th>\n",
       "      <th>State</th>\n",
       "      <th>Last</th>\n",
       "      <th>Close</th>\n",
       "      <th>CloseDate</th>\n",
       "      <th>Group</th>\n",
       "      <th>...</th>\n",
       "      <th>yesterday</th>\n",
       "      <th>lastWeek</th>\n",
       "      <th>lastMonth</th>\n",
       "      <th>lastYear</th>\n",
       "      <th>startYear</th>\n",
       "      <th>decimals</th>\n",
       "      <th>unit</th>\n",
       "      <th>frequency</th>\n",
       "      <th>StartDate</th>\n",
       "      <th>LastUpdate</th>\n",
       "    </tr>\n",
       "  </thead>\n",
       "  <tbody>\n",
       "    <tr>\n",
       "      <th>0</th>\n",
       "      <td>C 1:COM</td>\n",
       "      <td>C A</td>\n",
       "      <td>Corn</td>\n",
       "      <td>commodity</td>\n",
       "      <td>2024-07-10T14:16:18.757</td>\n",
       "      <td>OPEN</td>\n",
       "      <td>400.8352</td>\n",
       "      <td>400.8352</td>\n",
       "      <td>2024-07-10T14:16:00</td>\n",
       "      <td>Agricultural</td>\n",
       "      <td>...</td>\n",
       "      <td>408.5000</td>\n",
       "      <td>419.5000</td>\n",
       "      <td>449.5000</td>\n",
       "      <td>494.5000</td>\n",
       "      <td>471.2500</td>\n",
       "      <td>4.0</td>\n",
       "      <td>USd/BU</td>\n",
       "      <td>Live</td>\n",
       "      <td>1912-05-01T00:00:00</td>\n",
       "      <td>2024-07-10T14:16:00</td>\n",
       "    </tr>\n",
       "    <tr>\n",
       "      <th>1</th>\n",
       "      <td>IUC:COM</td>\n",
       "      <td>IUC</td>\n",
       "      <td>Indium</td>\n",
       "      <td>commodity</td>\n",
       "      <td>2024-07-10T00:00:00</td>\n",
       "      <td>CLOSED</td>\n",
       "      <td>2900.0000</td>\n",
       "      <td>2900.0000</td>\n",
       "      <td>2024-07-10T00:00:00</td>\n",
       "      <td>Industrial</td>\n",
       "      <td>...</td>\n",
       "      <td>2975.0000</td>\n",
       "      <td>3075.0000</td>\n",
       "      <td>3075.0000</td>\n",
       "      <td>2075.0000</td>\n",
       "      <td>2005.0000</td>\n",
       "      <td>0.0</td>\n",
       "      <td>CNY/Kg</td>\n",
       "      <td>daily</td>\n",
       "      <td>2017-11-24T00:00:00</td>\n",
       "      <td>2024-07-10T12:54:00</td>\n",
       "    </tr>\n",
       "    <tr>\n",
       "      <th>2</th>\n",
       "      <td>MVNLRTR:IND</td>\n",
       "      <td>MVNLRTR</td>\n",
       "      <td>Nuclear Energy Index</td>\n",
       "      <td>commodity</td>\n",
       "      <td>2024-07-10T14:15:22.037</td>\n",
       "      <td>OPEN</td>\n",
       "      <td>30.6800</td>\n",
       "      <td>30.6800</td>\n",
       "      <td>2024-07-10T14:15:00</td>\n",
       "      <td>Index</td>\n",
       "      <td>...</td>\n",
       "      <td>29.9000</td>\n",
       "      <td>29.7100</td>\n",
       "      <td>28.9500</td>\n",
       "      <td>21.5800</td>\n",
       "      <td>27.6900</td>\n",
       "      <td>2.0</td>\n",
       "      <td>USD</td>\n",
       "      <td>Delayed</td>\n",
       "      <td>2010-11-05T00:00:00</td>\n",
       "      <td>2024-07-10T14:15:00</td>\n",
       "    </tr>\n",
       "    <tr>\n",
       "      <th>3</th>\n",
       "      <td>KSP:COM</td>\n",
       "      <td>KSP</td>\n",
       "      <td>Kraft Pulp</td>\n",
       "      <td>Commodity</td>\n",
       "      <td>2024-07-10T00:00:00</td>\n",
       "      <td>CLOSED</td>\n",
       "      <td>5670.0000</td>\n",
       "      <td>5670.0000</td>\n",
       "      <td>2024-07-10T00:00:00</td>\n",
       "      <td>Industrial</td>\n",
       "      <td>...</td>\n",
       "      <td>5702.0000</td>\n",
       "      <td>5940.0000</td>\n",
       "      <td>5944.0000</td>\n",
       "      <td>5324.0000</td>\n",
       "      <td>5620.0000</td>\n",
       "      <td>2.0</td>\n",
       "      <td>CNY/T</td>\n",
       "      <td>Daily</td>\n",
       "      <td>2018-11-27T00:00:00</td>\n",
       "      <td>2024-07-10T12:54:00</td>\n",
       "    </tr>\n",
       "    <tr>\n",
       "      <th>4</th>\n",
       "      <td>NOSMFZ:COM</td>\n",
       "      <td>NOSMFZ</td>\n",
       "      <td>Salmon</td>\n",
       "      <td>Commodity</td>\n",
       "      <td>2024-07-10T00:00:00</td>\n",
       "      <td>CLOSED</td>\n",
       "      <td>86.4000</td>\n",
       "      <td>86.4000</td>\n",
       "      <td>2024-07-10T00:00:00</td>\n",
       "      <td>Livestock</td>\n",
       "      <td>...</td>\n",
       "      <td>95.0100</td>\n",
       "      <td>95.0100</td>\n",
       "      <td>92.1900</td>\n",
       "      <td>101.2000</td>\n",
       "      <td>99.8400</td>\n",
       "      <td>2.0</td>\n",
       "      <td>NOK/KG</td>\n",
       "      <td>Daily</td>\n",
       "      <td>2012-05-25T00:00:00</td>\n",
       "      <td>2024-07-10T12:55:00</td>\n",
       "    </tr>\n",
       "    <tr>\n",
       "      <th>...</th>\n",
       "      <td>...</td>\n",
       "      <td>...</td>\n",
       "      <td>...</td>\n",
       "      <td>...</td>\n",
       "      <td>...</td>\n",
       "      <td>...</td>\n",
       "      <td>...</td>\n",
       "      <td>...</td>\n",
       "      <td>...</td>\n",
       "      <td>...</td>\n",
       "      <td>...</td>\n",
       "      <td>...</td>\n",
       "      <td>...</td>\n",
       "      <td>...</td>\n",
       "      <td>...</td>\n",
       "      <td>...</td>\n",
       "      <td>...</td>\n",
       "      <td>...</td>\n",
       "      <td>...</td>\n",
       "      <td>...</td>\n",
       "      <td>...</td>\n",
       "    </tr>\n",
       "    <tr>\n",
       "      <th>87</th>\n",
       "      <td>HO1:COM</td>\n",
       "      <td>HO1</td>\n",
       "      <td>Heating Oil</td>\n",
       "      <td>commodity</td>\n",
       "      <td>2024-07-10T14:14:44.393</td>\n",
       "      <td>OPEN</td>\n",
       "      <td>2.5186</td>\n",
       "      <td>2.5186</td>\n",
       "      <td>2024-07-10T14:15:00</td>\n",
       "      <td>Energy</td>\n",
       "      <td>...</td>\n",
       "      <td>2.5218</td>\n",
       "      <td>2.6250</td>\n",
       "      <td>2.4316</td>\n",
       "      <td>2.5747</td>\n",
       "      <td>2.4952</td>\n",
       "      <td>4.0</td>\n",
       "      <td>USD/Gal</td>\n",
       "      <td>Live</td>\n",
       "      <td>1980-01-02T00:00:00</td>\n",
       "      <td>2024-07-10T14:15:00</td>\n",
       "    </tr>\n",
       "    <tr>\n",
       "      <th>88</th>\n",
       "      <td>XB1:COM</td>\n",
       "      <td>XB1</td>\n",
       "      <td>Gasoline</td>\n",
       "      <td>commodity</td>\n",
       "      <td>2024-07-10T14:16:04.823</td>\n",
       "      <td>OPEN</td>\n",
       "      <td>2.5050</td>\n",
       "      <td>2.5050</td>\n",
       "      <td>2024-07-10T14:16:00</td>\n",
       "      <td>Energy</td>\n",
       "      <td>...</td>\n",
       "      <td>2.5270</td>\n",
       "      <td>2.5876</td>\n",
       "      <td>2.4237</td>\n",
       "      <td>2.5478</td>\n",
       "      <td>2.1258</td>\n",
       "      <td>4.0</td>\n",
       "      <td>USD/Gal</td>\n",
       "      <td>Live</td>\n",
       "      <td>2005-10-03T00:00:00</td>\n",
       "      <td>2024-07-10T14:16:00</td>\n",
       "    </tr>\n",
       "    <tr>\n",
       "      <th>89</th>\n",
       "      <td>NG1:COM</td>\n",
       "      <td>NG1</td>\n",
       "      <td>Natural gas</td>\n",
       "      <td>commodity</td>\n",
       "      <td>2024-07-10T14:15:33.743</td>\n",
       "      <td>OPEN</td>\n",
       "      <td>2.3190</td>\n",
       "      <td>2.3190</td>\n",
       "      <td>2024-07-10T14:16:00</td>\n",
       "      <td>Energy</td>\n",
       "      <td>...</td>\n",
       "      <td>2.3440</td>\n",
       "      <td>2.4430</td>\n",
       "      <td>3.1290</td>\n",
       "      <td>2.6920</td>\n",
       "      <td>2.3270</td>\n",
       "      <td>4.0</td>\n",
       "      <td>USD/MMBtu</td>\n",
       "      <td>Live</td>\n",
       "      <td>1990-04-03T00:00:00</td>\n",
       "      <td>2024-07-10T14:16:00</td>\n",
       "    </tr>\n",
       "    <tr>\n",
       "      <th>90</th>\n",
       "      <td>CO1:COM</td>\n",
       "      <td>COG1</td>\n",
       "      <td>Brent</td>\n",
       "      <td>commodity</td>\n",
       "      <td>2024-07-10T14:15:23.313</td>\n",
       "      <td>OPEN</td>\n",
       "      <td>84.7029</td>\n",
       "      <td>84.7029</td>\n",
       "      <td>2024-07-10T14:15:00</td>\n",
       "      <td>Energy</td>\n",
       "      <td>...</td>\n",
       "      <td>84.6600</td>\n",
       "      <td>86.6300</td>\n",
       "      <td>81.9200</td>\n",
       "      <td>79.0700</td>\n",
       "      <td>77.0400</td>\n",
       "      <td>3.0</td>\n",
       "      <td>USD/Bbl</td>\n",
       "      <td>Live</td>\n",
       "      <td>1970-04-15T00:00:00</td>\n",
       "      <td>2024-07-10T14:15:00</td>\n",
       "    </tr>\n",
       "    <tr>\n",
       "      <th>91</th>\n",
       "      <td>CL1:COM</td>\n",
       "      <td>CL1</td>\n",
       "      <td>Crude Oil</td>\n",
       "      <td>commodity</td>\n",
       "      <td>2024-07-10T14:16:00.313</td>\n",
       "      <td>OPEN</td>\n",
       "      <td>81.5555</td>\n",
       "      <td>81.5555</td>\n",
       "      <td>2024-07-10T14:16:00</td>\n",
       "      <td>Energy</td>\n",
       "      <td>...</td>\n",
       "      <td>81.4100</td>\n",
       "      <td>83.2000</td>\n",
       "      <td>77.9000</td>\n",
       "      <td>74.7100</td>\n",
       "      <td>71.6500</td>\n",
       "      <td>3.0</td>\n",
       "      <td>USD/Bbl</td>\n",
       "      <td>Live</td>\n",
       "      <td>1983-03-30T00:00:00</td>\n",
       "      <td>2024-07-10T14:16:00</td>\n",
       "    </tr>\n",
       "  </tbody>\n",
       "</table>\n",
       "<p>92 rows × 34 columns</p>\n",
       "</div>"
      ],
      "text/plain": [
       "         Symbol   Ticker                  Name    Country  \\\n",
       "0       C 1:COM      C A                  Corn  commodity   \n",
       "1       IUC:COM      IUC                Indium  commodity   \n",
       "2   MVNLRTR:IND  MVNLRTR  Nuclear Energy Index  commodity   \n",
       "3       KSP:COM      KSP            Kraft Pulp  Commodity   \n",
       "4    NOSMFZ:COM   NOSMFZ                Salmon  Commodity   \n",
       "..          ...      ...                   ...        ...   \n",
       "87      HO1:COM      HO1           Heating Oil  commodity   \n",
       "88      XB1:COM      XB1              Gasoline  commodity   \n",
       "89      NG1:COM      NG1           Natural gas  commodity   \n",
       "90      CO1:COM     COG1                 Brent  commodity   \n",
       "91      CL1:COM      CL1             Crude Oil  commodity   \n",
       "\n",
       "                       Date   State       Last      Close  \\\n",
       "0   2024-07-10T14:16:18.757    OPEN   400.8352   400.8352   \n",
       "1       2024-07-10T00:00:00  CLOSED  2900.0000  2900.0000   \n",
       "2   2024-07-10T14:15:22.037    OPEN    30.6800    30.6800   \n",
       "3       2024-07-10T00:00:00  CLOSED  5670.0000  5670.0000   \n",
       "4       2024-07-10T00:00:00  CLOSED    86.4000    86.4000   \n",
       "..                      ...     ...        ...        ...   \n",
       "87  2024-07-10T14:14:44.393    OPEN     2.5186     2.5186   \n",
       "88  2024-07-10T14:16:04.823    OPEN     2.5050     2.5050   \n",
       "89  2024-07-10T14:15:33.743    OPEN     2.3190     2.3190   \n",
       "90  2024-07-10T14:15:23.313    OPEN    84.7029    84.7029   \n",
       "91  2024-07-10T14:16:00.313    OPEN    81.5555    81.5555   \n",
       "\n",
       "              CloseDate         Group  ...  yesterday   lastWeek  lastMonth  \\\n",
       "0   2024-07-10T14:16:00  Agricultural  ...   408.5000   419.5000   449.5000   \n",
       "1   2024-07-10T00:00:00    Industrial  ...  2975.0000  3075.0000  3075.0000   \n",
       "2   2024-07-10T14:15:00         Index  ...    29.9000    29.7100    28.9500   \n",
       "3   2024-07-10T00:00:00    Industrial  ...  5702.0000  5940.0000  5944.0000   \n",
       "4   2024-07-10T00:00:00     Livestock  ...    95.0100    95.0100    92.1900   \n",
       "..                  ...           ...  ...        ...        ...        ...   \n",
       "87  2024-07-10T14:15:00        Energy  ...     2.5218     2.6250     2.4316   \n",
       "88  2024-07-10T14:16:00        Energy  ...     2.5270     2.5876     2.4237   \n",
       "89  2024-07-10T14:16:00        Energy  ...     2.3440     2.4430     3.1290   \n",
       "90  2024-07-10T14:15:00        Energy  ...    84.6600    86.6300    81.9200   \n",
       "91  2024-07-10T14:16:00        Energy  ...    81.4100    83.2000    77.9000   \n",
       "\n",
       "     lastYear  startYear  decimals       unit  frequency            StartDate  \\\n",
       "0    494.5000   471.2500       4.0     USd/BU       Live  1912-05-01T00:00:00   \n",
       "1   2075.0000  2005.0000       0.0     CNY/Kg      daily  2017-11-24T00:00:00   \n",
       "2     21.5800    27.6900       2.0        USD    Delayed  2010-11-05T00:00:00   \n",
       "3   5324.0000  5620.0000       2.0      CNY/T      Daily  2018-11-27T00:00:00   \n",
       "4    101.2000    99.8400       2.0     NOK/KG      Daily  2012-05-25T00:00:00   \n",
       "..        ...        ...       ...        ...        ...                  ...   \n",
       "87     2.5747     2.4952       4.0    USD/Gal       Live  1980-01-02T00:00:00   \n",
       "88     2.5478     2.1258       4.0    USD/Gal       Live  2005-10-03T00:00:00   \n",
       "89     2.6920     2.3270       4.0  USD/MMBtu       Live  1990-04-03T00:00:00   \n",
       "90    79.0700    77.0400       3.0    USD/Bbl       Live  1970-04-15T00:00:00   \n",
       "91    74.7100    71.6500       3.0    USD/Bbl       Live  1983-03-30T00:00:00   \n",
       "\n",
       "             LastUpdate  \n",
       "0   2024-07-10T14:16:00  \n",
       "1   2024-07-10T12:54:00  \n",
       "2   2024-07-10T14:15:00  \n",
       "3   2024-07-10T12:54:00  \n",
       "4   2024-07-10T12:55:00  \n",
       "..                  ...  \n",
       "87  2024-07-10T14:15:00  \n",
       "88  2024-07-10T14:16:00  \n",
       "89  2024-07-10T14:16:00  \n",
       "90  2024-07-10T14:15:00  \n",
       "91  2024-07-10T14:16:00  \n",
       "\n",
       "[92 rows x 34 columns]"
      ]
     },
     "execution_count": 2,
     "metadata": {},
     "output_type": "execute_result"
    }
   ],
   "source": [
    "try:\n",
    "    commodities_data = te.getMarketsData(marketsField='commodities', output_type='df') \n",
    "except Exception as e:\n",
    "    print(\"Error fetching commodities data:\", e)\n",
    "commodities_data"
   ]
  },
  {
   "cell_type": "code",
   "execution_count": 3,
   "metadata": {},
   "outputs": [
    {
     "data": {
      "text/plain": [
       "Index(['Symbol', 'Ticker', 'Name', 'Country', 'Date', 'State', 'Last', 'Close',\n",
       "       'CloseDate', 'Group', 'URL', 'Importance', 'DailyChange',\n",
       "       'DailyPercentualChange', 'WeeklyChange', 'WeeklyPercentualChange',\n",
       "       'MonthlyChange', 'MonthlyPercentualChange', 'YearlyChange',\n",
       "       'YearlyPercentualChange', 'YTDChange', 'YTDPercentualChange',\n",
       "       'day_high', 'day_low', 'yesterday', 'lastWeek', 'lastMonth', 'lastYear',\n",
       "       'startYear', 'decimals', 'unit', 'frequency', 'StartDate',\n",
       "       'LastUpdate'],\n",
       "      dtype='object')"
      ]
     },
     "execution_count": 3,
     "metadata": {},
     "output_type": "execute_result"
    }
   ],
   "source": [
    "commodities_data.columns"
   ]
  },
  {
   "cell_type": "code",
   "execution_count": 4,
   "metadata": {},
   "outputs": [
    {
     "data": {
      "text/html": [
       "<div>\n",
       "<style scoped>\n",
       "    .dataframe tbody tr th:only-of-type {\n",
       "        vertical-align: middle;\n",
       "    }\n",
       "\n",
       "    .dataframe tbody tr th {\n",
       "        vertical-align: top;\n",
       "    }\n",
       "\n",
       "    .dataframe thead th {\n",
       "        text-align: right;\n",
       "    }\n",
       "</style>\n",
       "<table border=\"1\" class=\"dataframe\">\n",
       "  <thead>\n",
       "    <tr style=\"text-align: right;\">\n",
       "      <th></th>\n",
       "      <th>Symbol</th>\n",
       "      <th>Name</th>\n",
       "      <th>Close</th>\n",
       "      <th>Group</th>\n",
       "      <th>frequency</th>\n",
       "      <th>unit</th>\n",
       "      <th>Date</th>\n",
       "    </tr>\n",
       "  </thead>\n",
       "  <tbody>\n",
       "    <tr>\n",
       "      <th>1</th>\n",
       "      <td>IUC:COM</td>\n",
       "      <td>Indium</td>\n",
       "      <td>2900.0000</td>\n",
       "      <td>Industrial</td>\n",
       "      <td>daily</td>\n",
       "      <td>CNY/Kg</td>\n",
       "      <td>2024-07-10T00:00:00</td>\n",
       "    </tr>\n",
       "    <tr>\n",
       "      <th>3</th>\n",
       "      <td>KSP:COM</td>\n",
       "      <td>Kraft Pulp</td>\n",
       "      <td>5670.0000</td>\n",
       "      <td>Industrial</td>\n",
       "      <td>Daily</td>\n",
       "      <td>CNY/T</td>\n",
       "      <td>2024-07-10T00:00:00</td>\n",
       "    </tr>\n",
       "    <tr>\n",
       "      <th>5</th>\n",
       "      <td>POL:COM</td>\n",
       "      <td>Polyethylene</td>\n",
       "      <td>8369.0000</td>\n",
       "      <td>Industrial</td>\n",
       "      <td>Daily</td>\n",
       "      <td>CNY/T</td>\n",
       "      <td>2024-07-09T00:00:00</td>\n",
       "    </tr>\n",
       "    <tr>\n",
       "      <th>7</th>\n",
       "      <td>SODASH:COM</td>\n",
       "      <td>Soda Ash</td>\n",
       "      <td>1956.0000</td>\n",
       "      <td>Industrial</td>\n",
       "      <td>Daily</td>\n",
       "      <td>CNY/T</td>\n",
       "      <td>2024-07-10T00:00:00</td>\n",
       "    </tr>\n",
       "    <tr>\n",
       "      <th>8</th>\n",
       "      <td>PYL:COM</td>\n",
       "      <td>Polypropylene</td>\n",
       "      <td>7692.0000</td>\n",
       "      <td>Industrial</td>\n",
       "      <td>Daily</td>\n",
       "      <td>CNY/T</td>\n",
       "      <td>2024-07-09T00:00:00</td>\n",
       "    </tr>\n",
       "    <tr>\n",
       "      <th>9</th>\n",
       "      <td>PVC:COM</td>\n",
       "      <td>Polyvinyl</td>\n",
       "      <td>5856.0000</td>\n",
       "      <td>Industrial</td>\n",
       "      <td>Daily</td>\n",
       "      <td>CNY/T</td>\n",
       "      <td>2024-07-09T00:00:00</td>\n",
       "    </tr>\n",
       "    <tr>\n",
       "      <th>11</th>\n",
       "      <td>SREMNDM:COM</td>\n",
       "      <td>Neodymium</td>\n",
       "      <td>457500.0000</td>\n",
       "      <td>Industrial</td>\n",
       "      <td>daily</td>\n",
       "      <td>CNY/T</td>\n",
       "      <td>2024-07-10T00:00:00</td>\n",
       "    </tr>\n",
       "    <tr>\n",
       "      <th>15</th>\n",
       "      <td>UFI:COM</td>\n",
       "      <td>Di-ammonium</td>\n",
       "      <td>541.5000</td>\n",
       "      <td>Industrial</td>\n",
       "      <td>Daily</td>\n",
       "      <td>USD/T</td>\n",
       "      <td>2024-07-09T00:00:00</td>\n",
       "    </tr>\n",
       "    <tr>\n",
       "      <th>16</th>\n",
       "      <td>UFB:COM</td>\n",
       "      <td>Urea</td>\n",
       "      <td>301.5000</td>\n",
       "      <td>Industrial</td>\n",
       "      <td>Daily</td>\n",
       "      <td>USD/T</td>\n",
       "      <td>2024-07-09T00:00:00</td>\n",
       "    </tr>\n",
       "    <tr>\n",
       "      <th>17</th>\n",
       "      <td>TTSG:COM</td>\n",
       "      <td>Titanium</td>\n",
       "      <td>48.5000</td>\n",
       "      <td>Metals</td>\n",
       "      <td>Daily</td>\n",
       "      <td>CNY/KG</td>\n",
       "      <td>2024-07-10T00:00:00</td>\n",
       "    </tr>\n",
       "    <tr>\n",
       "      <th>18</th>\n",
       "      <td>TEC:COM</td>\n",
       "      <td>Tellurium</td>\n",
       "      <td>680.0000</td>\n",
       "      <td>Industrial</td>\n",
       "      <td>daily</td>\n",
       "      <td>CNY/Kg</td>\n",
       "      <td>2024-07-10T00:00:00</td>\n",
       "    </tr>\n",
       "    <tr>\n",
       "      <th>23</th>\n",
       "      <td>IMR:COM</td>\n",
       "      <td>Manganese</td>\n",
       "      <td>35.7500</td>\n",
       "      <td>Industrial</td>\n",
       "      <td>daily</td>\n",
       "      <td>CNY/mtu</td>\n",
       "      <td>2024-07-10T00:00:00</td>\n",
       "    </tr>\n",
       "    <tr>\n",
       "      <th>24</th>\n",
       "      <td>HRC:COM</td>\n",
       "      <td>HRC Steel</td>\n",
       "      <td>665.9605</td>\n",
       "      <td>Metals</td>\n",
       "      <td>Delayed</td>\n",
       "      <td>USD/T</td>\n",
       "      <td>2024-07-10T14:12:25.943</td>\n",
       "    </tr>\n",
       "    <tr>\n",
       "      <th>26</th>\n",
       "      <td>GECNYBGQ:COM</td>\n",
       "      <td>Germanium</td>\n",
       "      <td>12400.0000</td>\n",
       "      <td>Industrial</td>\n",
       "      <td>daily</td>\n",
       "      <td>CNY/Kg</td>\n",
       "      <td>2024-07-10T00:00:00</td>\n",
       "    </tr>\n",
       "    <tr>\n",
       "      <th>27</th>\n",
       "      <td>GAC:COM</td>\n",
       "      <td>Gallium</td>\n",
       "      <td>2345.0000</td>\n",
       "      <td>Industrial</td>\n",
       "      <td>daily</td>\n",
       "      <td>CNY/Kg</td>\n",
       "      <td>2024-07-10T00:00:00</td>\n",
       "    </tr>\n",
       "    <tr>\n",
       "      <th>28</th>\n",
       "      <td>MACN:COM</td>\n",
       "      <td>Magnesium</td>\n",
       "      <td>18800.0000</td>\n",
       "      <td>Industrial</td>\n",
       "      <td>daily</td>\n",
       "      <td>CNY/T</td>\n",
       "      <td>2024-07-10T00:00:00</td>\n",
       "    </tr>\n",
       "    <tr>\n",
       "      <th>29</th>\n",
       "      <td>XRH:COM</td>\n",
       "      <td>Rhodium</td>\n",
       "      <td>4600.0000</td>\n",
       "      <td>Industrial</td>\n",
       "      <td>Daily</td>\n",
       "      <td>USD/t oz.</td>\n",
       "      <td>2024-07-10T00:00:00</td>\n",
       "    </tr>\n",
       "    <tr>\n",
       "      <th>31</th>\n",
       "      <td>XPDUSD:CUR</td>\n",
       "      <td>Palladium</td>\n",
       "      <td>989.5000</td>\n",
       "      <td>Industrial</td>\n",
       "      <td>Delayed</td>\n",
       "      <td>USD/t.oz</td>\n",
       "      <td>2024-07-10T14:16:02.633</td>\n",
       "    </tr>\n",
       "    <tr>\n",
       "      <th>32</th>\n",
       "      <td>LN1:COM</td>\n",
       "      <td>Nickel</td>\n",
       "      <td>17068.0000</td>\n",
       "      <td>Industrial</td>\n",
       "      <td>daily</td>\n",
       "      <td>USD/T</td>\n",
       "      <td>2024-07-10T14:14:52</td>\n",
       "    </tr>\n",
       "    <tr>\n",
       "      <th>33</th>\n",
       "      <td>LMZSDS03:COM</td>\n",
       "      <td>Zinc</td>\n",
       "      <td>2966.5000</td>\n",
       "      <td>Industrial</td>\n",
       "      <td>Daily</td>\n",
       "      <td>USD/T</td>\n",
       "      <td>2024-07-10T14:15:59</td>\n",
       "    </tr>\n",
       "    <tr>\n",
       "      <th>34</th>\n",
       "      <td>LMSNDS03:COM</td>\n",
       "      <td>Tin</td>\n",
       "      <td>34350.0000</td>\n",
       "      <td>Industrial</td>\n",
       "      <td>Daily</td>\n",
       "      <td>USD/T</td>\n",
       "      <td>2024-07-09T00:00:00</td>\n",
       "    </tr>\n",
       "    <tr>\n",
       "      <th>36</th>\n",
       "      <td>LMAHDS03:COM</td>\n",
       "      <td>Aluminum</td>\n",
       "      <td>2487.5000</td>\n",
       "      <td>Industrial</td>\n",
       "      <td>Daily</td>\n",
       "      <td>USD/T</td>\n",
       "      <td>2024-07-10T14:14:58</td>\n",
       "    </tr>\n",
       "    <tr>\n",
       "      <th>37</th>\n",
       "      <td>LL1:COM</td>\n",
       "      <td>Lead</td>\n",
       "      <td>2190.5000</td>\n",
       "      <td>Industrial</td>\n",
       "      <td>daily</td>\n",
       "      <td>USD/T</td>\n",
       "      <td>2024-07-10T14:15:27</td>\n",
       "    </tr>\n",
       "    <tr>\n",
       "      <th>39</th>\n",
       "      <td>LCO1:COM</td>\n",
       "      <td>Cobalt</td>\n",
       "      <td>27150.0000</td>\n",
       "      <td>Industrial</td>\n",
       "      <td>daily</td>\n",
       "      <td>USD/T</td>\n",
       "      <td>2024-07-05T00:00:00</td>\n",
       "    </tr>\n",
       "    <tr>\n",
       "      <th>58</th>\n",
       "      <td>MOLYBDEN:COM</td>\n",
       "      <td>Molybdenum</td>\n",
       "      <td>477.5000</td>\n",
       "      <td>Industrial</td>\n",
       "      <td>Weekly</td>\n",
       "      <td>CNY/Kg</td>\n",
       "      <td>2024-07-10T00:00:00</td>\n",
       "    </tr>\n",
       "    <tr>\n",
       "      <th>68</th>\n",
       "      <td>XPTUSD:CUR</td>\n",
       "      <td>Platinum</td>\n",
       "      <td>995.9000</td>\n",
       "      <td>Metals</td>\n",
       "      <td>Delayed</td>\n",
       "      <td>USD/t.oz</td>\n",
       "      <td>2024-07-10T14:16:11.037</td>\n",
       "    </tr>\n",
       "    <tr>\n",
       "      <th>71</th>\n",
       "      <td>BIT:COM</td>\n",
       "      <td>Bitumen</td>\n",
       "      <td>3560.0000</td>\n",
       "      <td>Industrial</td>\n",
       "      <td>Daily</td>\n",
       "      <td>CNY/T</td>\n",
       "      <td>2024-07-10T00:00:00</td>\n",
       "    </tr>\n",
       "    <tr>\n",
       "      <th>76</th>\n",
       "      <td>LC:COM</td>\n",
       "      <td>Lithium</td>\n",
       "      <td>91500.0000</td>\n",
       "      <td>Metals</td>\n",
       "      <td>Daily</td>\n",
       "      <td>CNY/T</td>\n",
       "      <td>2024-07-05T00:00:00</td>\n",
       "    </tr>\n",
       "    <tr>\n",
       "      <th>79</th>\n",
       "      <td>SCO:COM</td>\n",
       "      <td>Iron Ore</td>\n",
       "      <td>110.5100</td>\n",
       "      <td>Metals</td>\n",
       "      <td>daily</td>\n",
       "      <td>USD/T</td>\n",
       "      <td>2024-07-09T00:00:00</td>\n",
       "    </tr>\n",
       "    <tr>\n",
       "      <th>80</th>\n",
       "      <td>JBP:COM</td>\n",
       "      <td>Steel</td>\n",
       "      <td>3311.0000</td>\n",
       "      <td>Metals</td>\n",
       "      <td>daily</td>\n",
       "      <td>CNY/T</td>\n",
       "      <td>2024-07-10T00:00:00</td>\n",
       "    </tr>\n",
       "    <tr>\n",
       "      <th>84</th>\n",
       "      <td>HG1:COM</td>\n",
       "      <td>Copper</td>\n",
       "      <td>4.6456</td>\n",
       "      <td>Metals</td>\n",
       "      <td>Live</td>\n",
       "      <td>USD/Lbs</td>\n",
       "      <td>2024-07-10T14:16:04.827</td>\n",
       "    </tr>\n",
       "    <tr>\n",
       "      <th>85</th>\n",
       "      <td>XAGUSD:CUR</td>\n",
       "      <td>Silver</td>\n",
       "      <td>31.0400</td>\n",
       "      <td>Metals</td>\n",
       "      <td>Live</td>\n",
       "      <td>USD/t.oz</td>\n",
       "      <td>2024-07-10T14:14:54.387</td>\n",
       "    </tr>\n",
       "    <tr>\n",
       "      <th>86</th>\n",
       "      <td>XAUUSD:CUR</td>\n",
       "      <td>Gold</td>\n",
       "      <td>2384.2200</td>\n",
       "      <td>Metals</td>\n",
       "      <td>Live</td>\n",
       "      <td>USD/t.oz</td>\n",
       "      <td>2024-07-10T14:16:13.667</td>\n",
       "    </tr>\n",
       "  </tbody>\n",
       "</table>\n",
       "</div>"
      ],
      "text/plain": [
       "          Symbol           Name        Close       Group frequency       unit  \\\n",
       "1        IUC:COM         Indium    2900.0000  Industrial     daily     CNY/Kg   \n",
       "3        KSP:COM     Kraft Pulp    5670.0000  Industrial     Daily      CNY/T   \n",
       "5        POL:COM   Polyethylene    8369.0000  Industrial     Daily      CNY/T   \n",
       "7     SODASH:COM       Soda Ash    1956.0000  Industrial     Daily      CNY/T   \n",
       "8        PYL:COM  Polypropylene    7692.0000  Industrial     Daily      CNY/T   \n",
       "9        PVC:COM      Polyvinyl    5856.0000  Industrial     Daily      CNY/T   \n",
       "11   SREMNDM:COM      Neodymium  457500.0000  Industrial     daily      CNY/T   \n",
       "15       UFI:COM    Di-ammonium     541.5000  Industrial     Daily      USD/T   \n",
       "16       UFB:COM           Urea     301.5000  Industrial     Daily      USD/T   \n",
       "17      TTSG:COM       Titanium      48.5000      Metals     Daily     CNY/KG   \n",
       "18       TEC:COM      Tellurium     680.0000  Industrial     daily     CNY/Kg   \n",
       "23       IMR:COM      Manganese      35.7500  Industrial     daily    CNY/mtu   \n",
       "24       HRC:COM      HRC Steel     665.9605      Metals   Delayed      USD/T   \n",
       "26  GECNYBGQ:COM      Germanium   12400.0000  Industrial     daily     CNY/Kg   \n",
       "27       GAC:COM        Gallium    2345.0000  Industrial     daily     CNY/Kg   \n",
       "28      MACN:COM      Magnesium   18800.0000  Industrial     daily      CNY/T   \n",
       "29       XRH:COM        Rhodium    4600.0000  Industrial     Daily  USD/t oz.   \n",
       "31    XPDUSD:CUR      Palladium     989.5000  Industrial   Delayed   USD/t.oz   \n",
       "32       LN1:COM         Nickel   17068.0000  Industrial     daily      USD/T   \n",
       "33  LMZSDS03:COM           Zinc    2966.5000  Industrial     Daily      USD/T   \n",
       "34  LMSNDS03:COM            Tin   34350.0000  Industrial     Daily      USD/T   \n",
       "36  LMAHDS03:COM       Aluminum    2487.5000  Industrial     Daily      USD/T   \n",
       "37       LL1:COM           Lead    2190.5000  Industrial     daily      USD/T   \n",
       "39      LCO1:COM         Cobalt   27150.0000  Industrial     daily      USD/T   \n",
       "58  MOLYBDEN:COM     Molybdenum     477.5000  Industrial    Weekly     CNY/Kg   \n",
       "68    XPTUSD:CUR       Platinum     995.9000      Metals   Delayed   USD/t.oz   \n",
       "71       BIT:COM        Bitumen    3560.0000  Industrial     Daily      CNY/T   \n",
       "76        LC:COM        Lithium   91500.0000      Metals     Daily      CNY/T   \n",
       "79       SCO:COM       Iron Ore     110.5100      Metals     daily      USD/T   \n",
       "80       JBP:COM          Steel    3311.0000      Metals     daily      CNY/T   \n",
       "84       HG1:COM         Copper       4.6456      Metals      Live    USD/Lbs   \n",
       "85    XAGUSD:CUR         Silver      31.0400      Metals      Live   USD/t.oz   \n",
       "86    XAUUSD:CUR           Gold    2384.2200      Metals      Live   USD/t.oz   \n",
       "\n",
       "                       Date  \n",
       "1       2024-07-10T00:00:00  \n",
       "3       2024-07-10T00:00:00  \n",
       "5       2024-07-09T00:00:00  \n",
       "7       2024-07-10T00:00:00  \n",
       "8       2024-07-09T00:00:00  \n",
       "9       2024-07-09T00:00:00  \n",
       "11      2024-07-10T00:00:00  \n",
       "15      2024-07-09T00:00:00  \n",
       "16      2024-07-09T00:00:00  \n",
       "17      2024-07-10T00:00:00  \n",
       "18      2024-07-10T00:00:00  \n",
       "23      2024-07-10T00:00:00  \n",
       "24  2024-07-10T14:12:25.943  \n",
       "26      2024-07-10T00:00:00  \n",
       "27      2024-07-10T00:00:00  \n",
       "28      2024-07-10T00:00:00  \n",
       "29      2024-07-10T00:00:00  \n",
       "31  2024-07-10T14:16:02.633  \n",
       "32      2024-07-10T14:14:52  \n",
       "33      2024-07-10T14:15:59  \n",
       "34      2024-07-09T00:00:00  \n",
       "36      2024-07-10T14:14:58  \n",
       "37      2024-07-10T14:15:27  \n",
       "39      2024-07-05T00:00:00  \n",
       "58      2024-07-10T00:00:00  \n",
       "68  2024-07-10T14:16:11.037  \n",
       "71      2024-07-10T00:00:00  \n",
       "76      2024-07-05T00:00:00  \n",
       "79      2024-07-09T00:00:00  \n",
       "80      2024-07-10T00:00:00  \n",
       "84  2024-07-10T14:16:04.827  \n",
       "85  2024-07-10T14:14:54.387  \n",
       "86  2024-07-10T14:16:13.667  "
      ]
     },
     "execution_count": 4,
     "metadata": {},
     "output_type": "execute_result"
    }
   ],
   "source": [
    "commodities_group = commodities_data.query('Group == \"Metals\" or Group == \"Industrial\"')[['Symbol','Name', 'Close', 'Group', 'frequency', 'unit', 'Date']]\n",
    "commodities_group"
   ]
  },
  {
   "cell_type": "code",
   "execution_count": 15,
   "metadata": {},
   "outputs": [
    {
     "name": "stdout",
     "output_type": "stream",
     "text": [
      "Data grouped and saved to Excel successfully.\n"
     ]
    }
   ],
   "source": [
    "import pandas as pd\n",
    "import tradingeconomics as te\n",
    "from dotenv import load_dotenv\n",
    "import os\n",
    "\n",
    "# Load environment variables and log in to Trading Economics API\n",
    "load_dotenv()\n",
    "api_key = os.getenv('TRADING_ECONOMICS_API_KEY')\n",
    "te.login(api_key)\n",
    "\n",
    "# Define the critical minerals and their corresponding names\n",
    "\n",
    "critical_minerals = {\n",
    "    'LC:COM': 'Lithium',\n",
    "    'LCO1:COM': 'Cobalt',\n",
    "    'LN1:COM': 'Nickel',\n",
    "    'IMR:COM': 'Manganese',\n",
    "    'SCO:COM': 'Iron Ore',\n",
    "    'JBP:COM': 'Steel',\n",
    "    'LMAHDS03:COM': 'Aluminum',\n",
    "    'HG1:COM': 'Copper'\n",
    "}\n",
    "# Fetch commodities historical data\n",
    "try:\n",
    "    symbols = list(critical_minerals.keys())\n",
    "    raw_df = te.getHistorical(symbol=symbols, initDate='2019-07-01', endDate=pd.to_datetime('today').strftime('%Y-%m-%d'), output_type='df')\n",
    "    raw_df['Date'] = pd.to_datetime(raw_df['Date'])  # Ensure 'Date' is a datetime object\n",
    "except Exception as e:\n",
    "    print(\"Error fetching commodities data:\", e)\n",
    "\n",
    "# Set 'Date' as the index and 'Symbol' as a column for easier manipulation\n",
    "raw_df.set_index('Date', inplace=True)\n",
    "# After converting 'Date' to a datetime object and setting it as an index\n",
    "raw_df = raw_df[raw_df.index <= pd.to_datetime('today')]\n",
    "\n",
    "\n",
    "# Group by 'Symbol', resample to include all dates, and fill missing values with the last known value\n",
    "grouped_df = raw_df.groupby('Symbol')['Close'].resample('D').ffill().unstack(level=0)\n",
    "\n",
    "# Rename columns using the critical_minerals mapping\n",
    "grouped_df.rename(columns=critical_minerals, inplace=True)\n",
    "\n",
    "# Save the DataFrame to an Excel file\n",
    "grouped_df.to_excel('grouped_commodities_close_prices.xlsx')\n",
    "\n",
    "print(\"Data grouped and saved to Excel successfully.\")"
   ]
  },
  {
   "cell_type": "code",
   "execution_count": 21,
   "metadata": {},
   "outputs": [
    {
     "name": "stdout",
     "output_type": "stream",
     "text": [
      "Data grouped and saved to Excel successfully with filtered and unfiltered sheets.\n"
     ]
    }
   ],
   "source": [
    "import pandas as pd\n",
    "import tradingeconomics as te\n",
    "from dotenv import load_dotenv\n",
    "import os\n",
    "\n",
    "# Load environment variables and log in to Trading Economics API\n",
    "load_dotenv()\n",
    "api_key = os.getenv('TRADING_ECONOMICS_API_KEY')\n",
    "te.login(api_key)\n",
    "\n",
    "# Define the critical minerals and their corresponding names\n",
    "critical_minerals = {\n",
    "    'LC:COM': 'Lithium',\n",
    "    'LCO1:COM': 'Cobalt',\n",
    "    'LN1:COM': 'Nickel',\n",
    "    'IMR:COM': 'Manganese',\n",
    "    'SCO:COM': 'Iron Ore',\n",
    "    'JBP:COM': 'Steel',\n",
    "    'LMAHDS03:COM': 'Aluminum',\n",
    "    'HG1:COM': 'Copper'\n",
    "}\n",
    "\n",
    "# Fetch commodities historical data\n",
    "try:\n",
    "    symbols = list(critical_minerals.keys())\n",
    "    raw_df = te.getHistorical(symbol=symbols, initDate='2019-07-01', endDate=pd.to_datetime('today').strftime('%Y-%m-%d'), output_type='df')\n",
    "    raw_df['Date'] = pd.to_datetime(raw_df['Date'])  # Ensure 'Date' is a datetime object\n",
    "except Exception as e:\n",
    "    print(\"Error fetching commodities data:\", e)\n",
    "\n",
    "# Set 'Date' as the index and 'Symbol' as a column for easier manipulation\n",
    "raw_df.set_index('Date', inplace=True)\n",
    "# After converting 'Date' to a datetime object and setting it as an index\n",
    "raw_df = raw_df[raw_df.index <= pd.to_datetime('today')]\n",
    "\n",
    "# Group by 'Symbol', resample to include all dates, and fill missing values with the last known value\n",
    "grouped_df = raw_df.groupby('Symbol')['Close'].resample('D').ffill().unstack(level=0)\n",
    "\n",
    "# Rename columns using the critical_minerals mapping\n",
    "grouped_df.rename(columns=critical_minerals, inplace=True)\n",
    "\n",
    "# Create a new DataFrame that skips dates where all commodities have no price\n",
    "filtered_df = grouped_df.dropna(how='all')\n",
    "\n",
    "# Create a Pandas Excel writer using XlsxWriter as the engine\n",
    "with pd.ExcelWriter('/Users/yuewang/Project/UN/grouped_commodities_close_prices.xlsx', engine='xlsxwriter') as writer:\n",
    "    # Write each DataFrame to a different worksheet\n",
    "    grouped_df.to_excel(writer, sheet_name='All Data')\n",
    "    filtered_df.to_excel(writer, sheet_name='Filtered Data')\n",
    "\n",
    "print(\"Data grouped and saved to Excel successfully with filtered and unfiltered sheets.\")"
   ]
  },
  {
   "cell_type": "code",
   "execution_count": 20,
   "metadata": {},
   "outputs": [
    {
     "name": "stdout",
     "output_type": "stream",
     "text": [
      "Collecting xlsxwriter\n",
      "  Downloading XlsxWriter-3.2.0-py3-none-any.whl.metadata (2.6 kB)\n",
      "Downloading XlsxWriter-3.2.0-py3-none-any.whl (159 kB)\n",
      "\u001b[2K   \u001b[38;2;114;156;31m━━━━━━━━━━━━━━━━━━━━━━━━━━━━━━━━━━━━━━━━\u001b[0m \u001b[32m159.9/159.9 kB\u001b[0m \u001b[31m2.2 MB/s\u001b[0m eta \u001b[36m0:00:00\u001b[0mMB/s\u001b[0m eta \u001b[36m0:00:01\u001b[0m\n",
      "\u001b[?25hInstalling collected packages: xlsxwriter\n",
      "Successfully installed xlsxwriter-3.2.0\n",
      "\n",
      "\u001b[1m[\u001b[0m\u001b[34;49mnotice\u001b[0m\u001b[1;39;49m]\u001b[0m\u001b[39;49m A new release of pip is available: \u001b[0m\u001b[31;49m24.0\u001b[0m\u001b[39;49m -> \u001b[0m\u001b[32;49m24.1.2\u001b[0m\n",
      "\u001b[1m[\u001b[0m\u001b[34;49mnotice\u001b[0m\u001b[1;39;49m]\u001b[0m\u001b[39;49m To update, run: \u001b[0m\u001b[32;49mpip install --upgrade pip\u001b[0m\n",
      "Note: you may need to restart the kernel to use updated packages.\n"
     ]
    }
   ],
   "source": [
    "# pip install xlsxwriter"
   ]
  },
  {
   "cell_type": "code",
   "execution_count": 10,
   "metadata": {},
   "outputs": [
    {
     "data": {
      "text/html": [
       "<div>\n",
       "<style scoped>\n",
       "    .dataframe tbody tr th:only-of-type {\n",
       "        vertical-align: middle;\n",
       "    }\n",
       "\n",
       "    .dataframe tbody tr th {\n",
       "        vertical-align: top;\n",
       "    }\n",
       "\n",
       "    .dataframe thead th {\n",
       "        text-align: right;\n",
       "    }\n",
       "</style>\n",
       "<table border=\"1\" class=\"dataframe\">\n",
       "  <thead>\n",
       "    <tr style=\"text-align: right;\">\n",
       "      <th></th>\n",
       "      <th>Iron</th>\n",
       "      <th>Manganese</th>\n",
       "      <th>Steel</th>\n",
       "      <th>Lithium</th>\n",
       "      <th>Cobalt</th>\n",
       "      <th>Aluminum</th>\n",
       "      <th>Nickel</th>\n",
       "      <th>Copper</th>\n",
       "    </tr>\n",
       "    <tr>\n",
       "      <th>Date</th>\n",
       "      <th></th>\n",
       "      <th></th>\n",
       "      <th></th>\n",
       "      <th></th>\n",
       "      <th></th>\n",
       "      <th></th>\n",
       "      <th></th>\n",
       "      <th></th>\n",
       "    </tr>\n",
       "  </thead>\n",
       "  <tbody>\n",
       "    <tr>\n",
       "      <th>2019-01-10</th>\n",
       "      <td>2.5520</td>\n",
       "      <td>37.00</td>\n",
       "      <td>3691</td>\n",
       "      <td>NaN</td>\n",
       "      <td>36000</td>\n",
       "      <td>1726.25</td>\n",
       "      <td>17434.0</td>\n",
       "      <td>92.16</td>\n",
       "    </tr>\n",
       "    <tr>\n",
       "      <th>2019-01-11</th>\n",
       "      <td>2.6510</td>\n",
       "      <td>34.50</td>\n",
       "      <td>3494</td>\n",
       "      <td>58500.0</td>\n",
       "      <td>36000</td>\n",
       "      <td>1789.50</td>\n",
       "      <td>16799.0</td>\n",
       "      <td>83.55</td>\n",
       "    </tr>\n",
       "    <tr>\n",
       "      <th>2019-01-12</th>\n",
       "      <td>2.6510</td>\n",
       "      <td>34.50</td>\n",
       "      <td>3494</td>\n",
       "      <td>58500.0</td>\n",
       "      <td>36000</td>\n",
       "      <td>1789.50</td>\n",
       "      <td>16799.0</td>\n",
       "      <td>83.55</td>\n",
       "    </tr>\n",
       "    <tr>\n",
       "      <th>2019-01-13</th>\n",
       "      <td>2.6510</td>\n",
       "      <td>34.50</td>\n",
       "      <td>3494</td>\n",
       "      <td>58500.0</td>\n",
       "      <td>36000</td>\n",
       "      <td>1789.50</td>\n",
       "      <td>16799.0</td>\n",
       "      <td>83.55</td>\n",
       "    </tr>\n",
       "    <tr>\n",
       "      <th>2019-01-14</th>\n",
       "      <td>2.6510</td>\n",
       "      <td>34.50</td>\n",
       "      <td>3494</td>\n",
       "      <td>58500.0</td>\n",
       "      <td>36000</td>\n",
       "      <td>1789.50</td>\n",
       "      <td>16799.0</td>\n",
       "      <td>83.55</td>\n",
       "    </tr>\n",
       "    <tr>\n",
       "      <th>...</th>\n",
       "      <td>...</td>\n",
       "      <td>...</td>\n",
       "      <td>...</td>\n",
       "      <td>...</td>\n",
       "      <td>...</td>\n",
       "      <td>...</td>\n",
       "      <td>...</td>\n",
       "      <td>...</td>\n",
       "    </tr>\n",
       "    <tr>\n",
       "      <th>2024-12-02</th>\n",
       "      <td>3.7335</td>\n",
       "      <td>29.25</td>\n",
       "      <td>3818</td>\n",
       "      <td>97500.0</td>\n",
       "      <td>28550</td>\n",
       "      <td>2227.00</td>\n",
       "      <td>15783.0</td>\n",
       "      <td>128.87</td>\n",
       "    </tr>\n",
       "    <tr>\n",
       "      <th>2024-12-03</th>\n",
       "      <td>3.9265</td>\n",
       "      <td>30.25</td>\n",
       "      <td>3554</td>\n",
       "      <td>112500.0</td>\n",
       "      <td>28550</td>\n",
       "      <td>2265.00</td>\n",
       "      <td>18324.5</td>\n",
       "      <td>113.15</td>\n",
       "    </tr>\n",
       "    <tr>\n",
       "      <th>2024-12-04</th>\n",
       "      <td>4.2585</td>\n",
       "      <td>30.75</td>\n",
       "      <td>3440</td>\n",
       "      <td>111500.0</td>\n",
       "      <td>27830</td>\n",
       "      <td>2494.00</td>\n",
       "      <td>17797.0</td>\n",
       "      <td>106.05</td>\n",
       "    </tr>\n",
       "    <tr>\n",
       "      <th>2024-12-05</th>\n",
       "      <td>4.2585</td>\n",
       "      <td>30.75</td>\n",
       "      <td>3440</td>\n",
       "      <td>111500.0</td>\n",
       "      <td>27830</td>\n",
       "      <td>2494.00</td>\n",
       "      <td>17797.0</td>\n",
       "      <td>106.05</td>\n",
       "    </tr>\n",
       "    <tr>\n",
       "      <th>2024-12-06</th>\n",
       "      <td>4.5670</td>\n",
       "      <td>42.50</td>\n",
       "      <td>3400</td>\n",
       "      <td>97500.0</td>\n",
       "      <td>27150</td>\n",
       "      <td>2575.50</td>\n",
       "      <td>18061.0</td>\n",
       "      <td>106.42</td>\n",
       "    </tr>\n",
       "  </tbody>\n",
       "</table>\n",
       "<p>2158 rows × 8 columns</p>\n",
       "</div>"
      ],
      "text/plain": [
       "              Iron  Manganese  Steel   Lithium  Cobalt  Aluminum   Nickel  \\\n",
       "Date                                                                        \n",
       "2019-01-10  2.5520      37.00   3691       NaN   36000   1726.25  17434.0   \n",
       "2019-01-11  2.6510      34.50   3494   58500.0   36000   1789.50  16799.0   \n",
       "2019-01-12  2.6510      34.50   3494   58500.0   36000   1789.50  16799.0   \n",
       "2019-01-13  2.6510      34.50   3494   58500.0   36000   1789.50  16799.0   \n",
       "2019-01-14  2.6510      34.50   3494   58500.0   36000   1789.50  16799.0   \n",
       "...            ...        ...    ...       ...     ...       ...      ...   \n",
       "2024-12-02  3.7335      29.25   3818   97500.0   28550   2227.00  15783.0   \n",
       "2024-12-03  3.9265      30.25   3554  112500.0   28550   2265.00  18324.5   \n",
       "2024-12-04  4.2585      30.75   3440  111500.0   27830   2494.00  17797.0   \n",
       "2024-12-05  4.2585      30.75   3440  111500.0   27830   2494.00  17797.0   \n",
       "2024-12-06  4.5670      42.50   3400   97500.0   27150   2575.50  18061.0   \n",
       "\n",
       "            Copper  \n",
       "Date                \n",
       "2019-01-10   92.16  \n",
       "2019-01-11   83.55  \n",
       "2019-01-12   83.55  \n",
       "2019-01-13   83.55  \n",
       "2019-01-14   83.55  \n",
       "...            ...  \n",
       "2024-12-02  128.87  \n",
       "2024-12-03  113.15  \n",
       "2024-12-04  106.05  \n",
       "2024-12-05  106.05  \n",
       "2024-12-06  106.42  \n",
       "\n",
       "[2158 rows x 8 columns]"
      ]
     },
     "execution_count": 10,
     "metadata": {},
     "output_type": "execute_result"
    }
   ],
   "source": [
    "# read grouped_commodities_close_prices.xlsx\n",
    "grouped_df = pd.read_excel('grouped_commodities_close_prices.xlsx', index_col='Date')\n",
    "grouped_df"
   ]
  },
  {
   "cell_type": "code",
   "execution_count": 14,
   "metadata": {},
   "outputs": [
    {
     "data": {
      "image/png": "[encoded data removed]",
      "text/plain": [
       "<Figure size 1008x504 with 1 Axes>"
      ]
     },
     "metadata": {
      "needs_background": "light"
     },
     "output_type": "display_data"
    },
    {
     "data": {
      "image/png": "[encoded data removed]",
      "text/plain": [
       "<Figure size 1008x504 with 1 Axes>"
      ]
     },
     "metadata": {
      "needs_background": "light"
     },
     "output_type": "display_data"
    }
   ],
   "source": [
    "import pandas as pd\n",
    "import numpy as np\n",
    "import matplotlib.pyplot as plt\n",
    "\n",
    "# Initialize result_df as an empty DataFrame\n",
    "result_df = pd.DataFrame()\n",
    "critical_minerals = {\n",
    "    'LC:COM': 'Lithium',\n",
    "    'LCO1:COM': 'Cobalt',\n",
    "    'LN1:COM': 'Nickel',\n",
    "    'IMR:COM': 'Manganese',\n",
    "    'SCO:COM': 'Iron Ore',\n",
    "    'JBP:COM': 'Steel',\n",
    "    'LMAHDS03:COM': 'Aluminum',\n",
    "    'HG1:COM': 'Copper'\n",
    "}\n",
    "\n",
    "\n",
    "# Assuming raw_df and other relevant data are already defined\n",
    "# List of critical minerals symbols\n",
    "symbols = critical_minerals.keys()\n",
    "quarterly_volatility = {}\n",
    "\n",
    "# Ensure raw_df is sorted by date\n",
    "raw_df = raw_df.sort_values(by='Date')\n",
    "\n",
    "for symbol in symbols:\n",
    "    symbol_data = raw_df[raw_df['Symbol'] == symbol].copy()\n",
    "    symbol_data.index = pd.to_datetime(symbol_data.index)  # Ensure index is datetime\n",
    "\n",
    "    # Calculate monthly volatility\n",
    "    std_dev = symbol_data['Close'].resample('M').std()\n",
    "    mean_price = symbol_data['Close'].resample('M').mean()\n",
    "\n",
    "    # Coefficient of Variation (Std Dev / Mean)\n",
    "    cv = std_dev / mean_price\n",
    "\n",
    "    # Store computed monthly volatility in the dictionary\n",
    "    quarterly_volatility[critical_minerals[symbol]] = cv.ffill().bfill()  # Forward and backward fill\n",
    "\n",
    "    # Fill non-existing trading dates using the previous transaction date for monthly volatility\n",
    "    symbol_data['Monthly Volatility'] = cv.reindex(symbol_data.index, method='ffill').bfill()\n",
    "\n",
    "    # Calculate log differences of daily average prices\n",
    "    symbol_data['Log Diff'] = np.log(symbol_data['Close'] / symbol_data['Close'].shift(1))\n",
    "\n",
    "    # Calculate rolling standard deviation of log differences (30-day window)\n",
    "    rolling_std = symbol_data['Log Diff'].rolling(window=30).std()\n",
    "\n",
    "    # Annualize the rolling standard deviation\n",
    "    annualized_volatility = rolling_std * np.sqrt(252) * 100  # Assuming 252 trading days in a year\n",
    "\n",
    "    # Store computed annualized volatility in the symbol_data\n",
    "    symbol_data['Annualized Volatility'] = annualized_volatility\n",
    "\n",
    "    # Concatenate the symbol data back to the result DataFrame\n",
    "    result_df = pd.concat([result_df, symbol_data])\n",
    "\n",
    "# Ensure data does not exceed last date in original data\n",
    "last_date = raw_df.index.max()\n",
    "result_df = result_df[result_df.index <= last_date]\n",
    "\n",
    "# Visualization of monthly volatilities\n",
    "fig, ax = plt.subplots(figsize=(14, 7))\n",
    "for name, data in quarterly_volatility.items():\n",
    "    ax.plot(data[data.index <= last_date].index, data[data.index <= last_date].values, label=f'{name} Volatility')\n",
    "\n",
    "ax.set_title('Monthly Price Volatility of Critical Minerals')\n",
    "ax.set_xlabel('Date')\n",
    "ax.set_ylabel('Volatility (Coefficient of Variation)')\n",
    "ax.legend(title='Mineral')\n",
    "plt.grid(True)\n",
    "\n",
    "plt.tight_layout()\n",
    "plt.show()\n",
    "\n",
    "# Visualization of annualized volatilities\n",
    "fig, ax = plt.subplots(figsize=(14, 7))\n",
    "for symbol in symbols:\n",
    "    if symbol in result_df['Symbol'].unique():\n",
    "        symbol_data = result_df[result_df['Symbol'] == symbol]\n",
    "        ax.plot(symbol_data.index, symbol_data['Annualized Volatility'], label=f'{critical_minerals[symbol]} Annualized Volatility')\n",
    "\n",
    "ax.set_title('Annualized Volatility of Critical Minerals')\n",
    "ax.set_xlabel('Date')\n",
    "ax.set_ylabel('Volatility (%)')\n",
    "ax.legend(title='Mineral')\n",
    "plt.grid(True)\n",
    "\n",
    "plt.tight_layout()\n",
    "plt.show()\n",
    "\n",
    "# Display the result DataFrame\n",
    "# import ace_tools as tools; tools.display_dataframe_to_user(name=\"Result DataFrame\", dataframe=result_df)\n"
   ]
  },
  {
   "cell_type": "code",
   "execution_count": 16,
   "metadata": {},
   "outputs": [
    {
     "data": {
      "text/plain": [
       "{'Lithium': Date\n",
       " 2019-01-31    0.098380\n",
       " 2019-02-28    0.098380\n",
       " 2019-03-31    0.111648\n",
       " 2019-04-30    0.079132\n",
       " 2019-05-31    0.079132\n",
       "                 ...   \n",
       " 2024-03-31    0.065084\n",
       " 2024-04-30    0.053228\n",
       " 2024-05-31    0.041563\n",
       " 2024-06-30    0.060091\n",
       " 2024-07-31    0.057945\n",
       " Freq: M, Name: Close, Length: 67, dtype: float64,\n",
       " 'Cobalt': Date\n",
       " 2019-01-31    0.000000\n",
       " 2019-02-28    0.030914\n",
       " 2019-03-31    0.030914\n",
       " 2019-04-30    0.019496\n",
       " 2019-05-31    0.017764\n",
       "                 ...   \n",
       " 2024-03-31    0.017721\n",
       " 2024-04-30    0.017413\n",
       " 2024-05-31    0.023441\n",
       " 2024-06-30    0.022126\n",
       " 2024-07-31    0.030621\n",
       " Freq: M, Name: Close, Length: 67, dtype: float64,\n",
       " 'Nickel': Date\n",
       " 2019-01-31    0.026233\n",
       " 2019-02-28    0.148885\n",
       " 2019-03-31    0.161840\n",
       " 2019-04-30    0.140929\n",
       " 2019-05-31    0.140098\n",
       "                 ...   \n",
       " 2024-03-31    0.052403\n",
       " 2024-04-30    0.054343\n",
       " 2024-05-31    0.086044\n",
       " 2024-06-30    0.033137\n",
       " 2024-07-31    0.082046\n",
       " Freq: M, Name: Close, Length: 67, dtype: float64,\n",
       " 'Manganese': Date\n",
       " 2019-01-31    0.049448\n",
       " 2019-02-28    0.090296\n",
       " 2019-03-31    0.090296\n",
       " 2019-04-30    0.078370\n",
       " 2019-05-31    0.081879\n",
       "                 ...   \n",
       " 2024-03-31    0.105802\n",
       " 2024-04-30    0.109357\n",
       " 2024-05-31    0.119812\n",
       " 2024-06-30    0.105376\n",
       " 2024-07-31    0.184029\n",
       " Freq: M, Name: Close, Length: 67, dtype: float64,\n",
       " 'Iron Ore': Date\n",
       " 2019-01-31    0.069298\n",
       " 2019-02-28    0.032539\n",
       " 2019-03-31    0.025794\n",
       " 2019-04-30    0.048154\n",
       " 2019-05-31    0.046231\n",
       "                 ...   \n",
       " 2024-03-31    0.078255\n",
       " 2024-04-30    0.083612\n",
       " 2024-05-31    0.066700\n",
       " 2024-06-30    0.057298\n",
       " 2024-07-31    0.064266\n",
       " Freq: M, Name: Close, Length: 67, dtype: float64,\n",
       " 'Steel': Date\n",
       " 2019-01-31    0.038775\n",
       " 2019-02-28    0.039185\n",
       " 2019-03-31    0.010355\n",
       " 2019-04-30    0.029477\n",
       " 2019-05-31    0.029877\n",
       "                 ...   \n",
       " 2024-03-31    0.038356\n",
       " 2024-04-30    0.032032\n",
       " 2024-05-31    0.034711\n",
       " 2024-06-30    0.038518\n",
       " 2024-07-31    0.052066\n",
       " Freq: M, Name: Close, Length: 67, dtype: float64,\n",
       " 'Aluminum': Date\n",
       " 2019-01-31    0.025442\n",
       " 2019-02-28    0.032505\n",
       " 2019-03-31    0.018886\n",
       " 2019-04-30    0.027920\n",
       " 2019-05-31    0.022594\n",
       "                 ...   \n",
       " 2024-03-31    0.051622\n",
       " 2024-04-30    0.047959\n",
       " 2024-05-31    0.062349\n",
       " 2024-06-30    0.043761\n",
       " 2024-07-31    0.080830\n",
       " Freq: M, Name: Close, Length: 67, dtype: float64,\n",
       " 'Copper': Date\n",
       " 2019-01-31    0.026909\n",
       " 2019-02-28    0.023059\n",
       " 2019-03-31    0.020119\n",
       " 2019-04-30    0.019629\n",
       " 2019-05-31    0.013833\n",
       "                 ...   \n",
       " 2024-03-31    0.054079\n",
       " 2024-04-30    0.053675\n",
       " 2024-05-31    0.086515\n",
       " 2024-06-30    0.054404\n",
       " 2024-07-31    0.101152\n",
       " Freq: M, Name: Close, Length: 67, dtype: float64}"
      ]
     },
     "execution_count": 16,
     "metadata": {},
     "output_type": "execute_result"
    }
   ],
   "source": [
    "quarterly_volatility"
   ]
  },
  {
   "cell_type": "code",
   "execution_count": 16,
   "metadata": {},
   "outputs": [
    {
     "data": {
      "image/png": "[encoded data removed]",
      "text/plain": [
       "<Figure size 720x576 with 2 Axes>"
      ]
     },
     "metadata": {
      "needs_background": "light"
     },
     "output_type": "display_data"
    }
   ],
   "source": [
    "import seaborn as sns\n",
    "\n",
    "# Create a DataFrame for close prices with critical minerals names as columns\n",
    "close_prices = pd.DataFrame(index=raw_df.index.unique())\n",
    "for symbol in symbols:\n",
    "    if symbol in raw_df['Symbol'].unique():\n",
    "        symbol_data = raw_df[raw_df['Symbol'] == symbol]\n",
    "        close_prices[critical_minerals[symbol]] = symbol_data['Close']\n",
    "\n",
    "close_prices.dropna(inplace=True)\n",
    "\n",
    "# Calculate the correlation matrix\n",
    "correlation_matrix = close_prices.corr()\n",
    "\n",
    "# Plot the heatmap\n",
    "plt.figure(figsize=(10, 8))\n",
    "sns.heatmap(correlation_matrix, annot=True, cmap='coolwarm', fmt=\".2f\", linewidths=.5)\n",
    "plt.title('Correlation Matrix of Critical Mineral Prices')\n",
    "plt.show()"
   ]
  },
  {
   "cell_type": "code",
   "execution_count": 13,
   "metadata": {},
   "outputs": [
    {
     "data": {
      "text/html": [
       "<div>\n",
       "<style scoped>\n",
       "    .dataframe tbody tr th:only-of-type {\n",
       "        vertical-align: middle;\n",
       "    }\n",
       "\n",
       "    .dataframe tbody tr th {\n",
       "        vertical-align: top;\n",
       "    }\n",
       "\n",
       "    .dataframe thead th {\n",
       "        text-align: right;\n",
       "    }\n",
       "</style>\n",
       "<table border=\"1\" class=\"dataframe\">\n",
       "  <thead>\n",
       "    <tr style=\"text-align: right;\">\n",
       "      <th></th>\n",
       "      <th>Symbol</th>\n",
       "      <th>Open</th>\n",
       "      <th>High</th>\n",
       "      <th>Low</th>\n",
       "      <th>Close</th>\n",
       "      <th>Monthly Volatility</th>\n",
       "      <th>Log Diff</th>\n",
       "      <th>Annualized Volatility</th>\n",
       "    </tr>\n",
       "    <tr>\n",
       "      <th>Date</th>\n",
       "      <th></th>\n",
       "      <th></th>\n",
       "      <th></th>\n",
       "      <th></th>\n",
       "      <th></th>\n",
       "      <th></th>\n",
       "      <th></th>\n",
       "      <th></th>\n",
       "    </tr>\n",
       "  </thead>\n",
       "  <tbody>\n",
       "    <tr>\n",
       "      <th>2019-07-08</th>\n",
       "      <td>LC:COM</td>\n",
       "      <td>65500.0</td>\n",
       "      <td>67000.0</td>\n",
       "      <td>64000.0</td>\n",
       "      <td>65500.0</td>\n",
       "      <td>NaN</td>\n",
       "      <td>NaN</td>\n",
       "      <td>NaN</td>\n",
       "    </tr>\n",
       "    <tr>\n",
       "      <th>2019-08-08</th>\n",
       "      <td>LC:COM</td>\n",
       "      <td>65500.0</td>\n",
       "      <td>67000.0</td>\n",
       "      <td>64000.0</td>\n",
       "      <td>65500.0</td>\n",
       "      <td>NaN</td>\n",
       "      <td>0.000000</td>\n",
       "      <td>NaN</td>\n",
       "    </tr>\n",
       "    <tr>\n",
       "      <th>2019-09-08</th>\n",
       "      <td>LC:COM</td>\n",
       "      <td>65500.0</td>\n",
       "      <td>67000.0</td>\n",
       "      <td>64000.0</td>\n",
       "      <td>65500.0</td>\n",
       "      <td>NaN</td>\n",
       "      <td>0.000000</td>\n",
       "      <td>NaN</td>\n",
       "    </tr>\n",
       "    <tr>\n",
       "      <th>2019-12-08</th>\n",
       "      <td>LC:COM</td>\n",
       "      <td>65500.0</td>\n",
       "      <td>67000.0</td>\n",
       "      <td>64000.0</td>\n",
       "      <td>65500.0</td>\n",
       "      <td>NaN</td>\n",
       "      <td>0.000000</td>\n",
       "      <td>NaN</td>\n",
       "    </tr>\n",
       "    <tr>\n",
       "      <th>2019-08-13</th>\n",
       "      <td>LC:COM</td>\n",
       "      <td>65000.0</td>\n",
       "      <td>66500.0</td>\n",
       "      <td>63500.0</td>\n",
       "      <td>65000.0</td>\n",
       "      <td>NaN</td>\n",
       "      <td>-0.007663</td>\n",
       "      <td>NaN</td>\n",
       "    </tr>\n",
       "    <tr>\n",
       "      <th>2019-08-14</th>\n",
       "      <td>LC:COM</td>\n",
       "      <td>65000.0</td>\n",
       "      <td>66500.0</td>\n",
       "      <td>63500.0</td>\n",
       "      <td>65000.0</td>\n",
       "      <td>NaN</td>\n",
       "      <td>0.000000</td>\n",
       "      <td>NaN</td>\n",
       "    </tr>\n",
       "    <tr>\n",
       "      <th>2019-08-15</th>\n",
       "      <td>LC:COM</td>\n",
       "      <td>64500.0</td>\n",
       "      <td>66000.0</td>\n",
       "      <td>63000.0</td>\n",
       "      <td>64500.0</td>\n",
       "      <td>NaN</td>\n",
       "      <td>-0.007722</td>\n",
       "      <td>NaN</td>\n",
       "    </tr>\n",
       "    <tr>\n",
       "      <th>2019-08-16</th>\n",
       "      <td>LC:COM</td>\n",
       "      <td>64000.0</td>\n",
       "      <td>65500.0</td>\n",
       "      <td>62500.0</td>\n",
       "      <td>64000.0</td>\n",
       "      <td>NaN</td>\n",
       "      <td>-0.007782</td>\n",
       "      <td>NaN</td>\n",
       "    </tr>\n",
       "    <tr>\n",
       "      <th>2019-08-19</th>\n",
       "      <td>LC:COM</td>\n",
       "      <td>63500.0</td>\n",
       "      <td>65000.0</td>\n",
       "      <td>62000.0</td>\n",
       "      <td>63500.0</td>\n",
       "      <td>NaN</td>\n",
       "      <td>-0.007843</td>\n",
       "      <td>NaN</td>\n",
       "    </tr>\n",
       "    <tr>\n",
       "      <th>2019-08-20</th>\n",
       "      <td>LC:COM</td>\n",
       "      <td>63500.0</td>\n",
       "      <td>65000.0</td>\n",
       "      <td>62000.0</td>\n",
       "      <td>63500.0</td>\n",
       "      <td>NaN</td>\n",
       "      <td>0.000000</td>\n",
       "      <td>NaN</td>\n",
       "    </tr>\n",
       "    <tr>\n",
       "      <th>2019-08-21</th>\n",
       "      <td>LC:COM</td>\n",
       "      <td>63500.0</td>\n",
       "      <td>65000.0</td>\n",
       "      <td>62000.0</td>\n",
       "      <td>63500.0</td>\n",
       "      <td>NaN</td>\n",
       "      <td>0.000000</td>\n",
       "      <td>NaN</td>\n",
       "    </tr>\n",
       "    <tr>\n",
       "      <th>2019-08-22</th>\n",
       "      <td>LC:COM</td>\n",
       "      <td>63000.0</td>\n",
       "      <td>64500.0</td>\n",
       "      <td>61500.0</td>\n",
       "      <td>63000.0</td>\n",
       "      <td>NaN</td>\n",
       "      <td>-0.007905</td>\n",
       "      <td>NaN</td>\n",
       "    </tr>\n",
       "    <tr>\n",
       "      <th>2019-08-23</th>\n",
       "      <td>LC:COM</td>\n",
       "      <td>62500.0</td>\n",
       "      <td>64000.0</td>\n",
       "      <td>61000.0</td>\n",
       "      <td>62500.0</td>\n",
       "      <td>NaN</td>\n",
       "      <td>-0.007968</td>\n",
       "      <td>NaN</td>\n",
       "    </tr>\n",
       "    <tr>\n",
       "      <th>2019-08-26</th>\n",
       "      <td>LC:COM</td>\n",
       "      <td>62500.0</td>\n",
       "      <td>64000.0</td>\n",
       "      <td>61000.0</td>\n",
       "      <td>62500.0</td>\n",
       "      <td>NaN</td>\n",
       "      <td>0.000000</td>\n",
       "      <td>NaN</td>\n",
       "    </tr>\n",
       "    <tr>\n",
       "      <th>2019-08-27</th>\n",
       "      <td>LC:COM</td>\n",
       "      <td>62500.0</td>\n",
       "      <td>64000.0</td>\n",
       "      <td>61000.0</td>\n",
       "      <td>62500.0</td>\n",
       "      <td>NaN</td>\n",
       "      <td>0.000000</td>\n",
       "      <td>NaN</td>\n",
       "    </tr>\n",
       "    <tr>\n",
       "      <th>2019-08-28</th>\n",
       "      <td>LC:COM</td>\n",
       "      <td>62500.0</td>\n",
       "      <td>64000.0</td>\n",
       "      <td>61000.0</td>\n",
       "      <td>62500.0</td>\n",
       "      <td>NaN</td>\n",
       "      <td>0.000000</td>\n",
       "      <td>NaN</td>\n",
       "    </tr>\n",
       "    <tr>\n",
       "      <th>2019-08-29</th>\n",
       "      <td>LC:COM</td>\n",
       "      <td>61500.0</td>\n",
       "      <td>63000.0</td>\n",
       "      <td>60000.0</td>\n",
       "      <td>61500.0</td>\n",
       "      <td>NaN</td>\n",
       "      <td>-0.016129</td>\n",
       "      <td>NaN</td>\n",
       "    </tr>\n",
       "    <tr>\n",
       "      <th>2019-08-30</th>\n",
       "      <td>LC:COM</td>\n",
       "      <td>61500.0</td>\n",
       "      <td>63000.0</td>\n",
       "      <td>60000.0</td>\n",
       "      <td>61500.0</td>\n",
       "      <td>NaN</td>\n",
       "      <td>0.000000</td>\n",
       "      <td>NaN</td>\n",
       "    </tr>\n",
       "    <tr>\n",
       "      <th>2019-02-09</th>\n",
       "      <td>LC:COM</td>\n",
       "      <td>61500.0</td>\n",
       "      <td>63000.0</td>\n",
       "      <td>60000.0</td>\n",
       "      <td>61500.0</td>\n",
       "      <td>NaN</td>\n",
       "      <td>0.000000</td>\n",
       "      <td>NaN</td>\n",
       "    </tr>\n",
       "    <tr>\n",
       "      <th>2019-03-09</th>\n",
       "      <td>LC:COM</td>\n",
       "      <td>61500.0</td>\n",
       "      <td>63000.0</td>\n",
       "      <td>60000.0</td>\n",
       "      <td>61500.0</td>\n",
       "      <td>NaN</td>\n",
       "      <td>0.000000</td>\n",
       "      <td>NaN</td>\n",
       "    </tr>\n",
       "    <tr>\n",
       "      <th>2019-04-09</th>\n",
       "      <td>LC:COM</td>\n",
       "      <td>61500.0</td>\n",
       "      <td>63000.0</td>\n",
       "      <td>60000.0</td>\n",
       "      <td>61500.0</td>\n",
       "      <td>NaN</td>\n",
       "      <td>0.000000</td>\n",
       "      <td>NaN</td>\n",
       "    </tr>\n",
       "    <tr>\n",
       "      <th>2019-05-09</th>\n",
       "      <td>LC:COM</td>\n",
       "      <td>61500.0</td>\n",
       "      <td>63000.0</td>\n",
       "      <td>60000.0</td>\n",
       "      <td>61500.0</td>\n",
       "      <td>NaN</td>\n",
       "      <td>0.000000</td>\n",
       "      <td>NaN</td>\n",
       "    </tr>\n",
       "    <tr>\n",
       "      <th>2019-06-09</th>\n",
       "      <td>LC:COM</td>\n",
       "      <td>61500.0</td>\n",
       "      <td>63000.0</td>\n",
       "      <td>60000.0</td>\n",
       "      <td>61500.0</td>\n",
       "      <td>NaN</td>\n",
       "      <td>0.000000</td>\n",
       "      <td>NaN</td>\n",
       "    </tr>\n",
       "    <tr>\n",
       "      <th>2019-09-09</th>\n",
       "      <td>LC:COM</td>\n",
       "      <td>61500.0</td>\n",
       "      <td>63000.0</td>\n",
       "      <td>60000.0</td>\n",
       "      <td>61500.0</td>\n",
       "      <td>NaN</td>\n",
       "      <td>0.000000</td>\n",
       "      <td>NaN</td>\n",
       "    </tr>\n",
       "    <tr>\n",
       "      <th>2019-10-09</th>\n",
       "      <td>LC:COM</td>\n",
       "      <td>61500.0</td>\n",
       "      <td>63000.0</td>\n",
       "      <td>60000.0</td>\n",
       "      <td>61500.0</td>\n",
       "      <td>NaN</td>\n",
       "      <td>0.000000</td>\n",
       "      <td>NaN</td>\n",
       "    </tr>\n",
       "    <tr>\n",
       "      <th>2019-11-09</th>\n",
       "      <td>LC:COM</td>\n",
       "      <td>61500.0</td>\n",
       "      <td>63000.0</td>\n",
       "      <td>60000.0</td>\n",
       "      <td>61500.0</td>\n",
       "      <td>NaN</td>\n",
       "      <td>0.000000</td>\n",
       "      <td>NaN</td>\n",
       "    </tr>\n",
       "    <tr>\n",
       "      <th>2019-12-09</th>\n",
       "      <td>LC:COM</td>\n",
       "      <td>61500.0</td>\n",
       "      <td>63000.0</td>\n",
       "      <td>60000.0</td>\n",
       "      <td>61500.0</td>\n",
       "      <td>NaN</td>\n",
       "      <td>0.000000</td>\n",
       "      <td>NaN</td>\n",
       "    </tr>\n",
       "    <tr>\n",
       "      <th>2019-09-16</th>\n",
       "      <td>LC:COM</td>\n",
       "      <td>61500.0</td>\n",
       "      <td>63000.0</td>\n",
       "      <td>60000.0</td>\n",
       "      <td>61500.0</td>\n",
       "      <td>NaN</td>\n",
       "      <td>0.000000</td>\n",
       "      <td>NaN</td>\n",
       "    </tr>\n",
       "    <tr>\n",
       "      <th>2019-09-17</th>\n",
       "      <td>LC:COM</td>\n",
       "      <td>60000.0</td>\n",
       "      <td>61500.0</td>\n",
       "      <td>58500.0</td>\n",
       "      <td>60000.0</td>\n",
       "      <td>NaN</td>\n",
       "      <td>-0.024693</td>\n",
       "      <td>NaN</td>\n",
       "    </tr>\n",
       "    <tr>\n",
       "      <th>2019-09-18</th>\n",
       "      <td>LC:COM</td>\n",
       "      <td>60000.0</td>\n",
       "      <td>61500.0</td>\n",
       "      <td>58500.0</td>\n",
       "      <td>60000.0</td>\n",
       "      <td>NaN</td>\n",
       "      <td>0.000000</td>\n",
       "      <td>NaN</td>\n",
       "    </tr>\n",
       "  </tbody>\n",
       "</table>\n",
       "</div>"
      ],
      "text/plain": [
       "            Symbol     Open     High      Low    Close  Monthly Volatility  \\\n",
       "Date                                                                         \n",
       "2019-07-08  LC:COM  65500.0  67000.0  64000.0  65500.0                 NaN   \n",
       "2019-08-08  LC:COM  65500.0  67000.0  64000.0  65500.0                 NaN   \n",
       "2019-09-08  LC:COM  65500.0  67000.0  64000.0  65500.0                 NaN   \n",
       "2019-12-08  LC:COM  65500.0  67000.0  64000.0  65500.0                 NaN   \n",
       "2019-08-13  LC:COM  65000.0  66500.0  63500.0  65000.0                 NaN   \n",
       "2019-08-14  LC:COM  65000.0  66500.0  63500.0  65000.0                 NaN   \n",
       "2019-08-15  LC:COM  64500.0  66000.0  63000.0  64500.0                 NaN   \n",
       "2019-08-16  LC:COM  64000.0  65500.0  62500.0  64000.0                 NaN   \n",
       "2019-08-19  LC:COM  63500.0  65000.0  62000.0  63500.0                 NaN   \n",
       "2019-08-20  LC:COM  63500.0  65000.0  62000.0  63500.0                 NaN   \n",
       "2019-08-21  LC:COM  63500.0  65000.0  62000.0  63500.0                 NaN   \n",
       "2019-08-22  LC:COM  63000.0  64500.0  61500.0  63000.0                 NaN   \n",
       "2019-08-23  LC:COM  62500.0  64000.0  61000.0  62500.0                 NaN   \n",
       "2019-08-26  LC:COM  62500.0  64000.0  61000.0  62500.0                 NaN   \n",
       "2019-08-27  LC:COM  62500.0  64000.0  61000.0  62500.0                 NaN   \n",
       "2019-08-28  LC:COM  62500.0  64000.0  61000.0  62500.0                 NaN   \n",
       "2019-08-29  LC:COM  61500.0  63000.0  60000.0  61500.0                 NaN   \n",
       "2019-08-30  LC:COM  61500.0  63000.0  60000.0  61500.0                 NaN   \n",
       "2019-02-09  LC:COM  61500.0  63000.0  60000.0  61500.0                 NaN   \n",
       "2019-03-09  LC:COM  61500.0  63000.0  60000.0  61500.0                 NaN   \n",
       "2019-04-09  LC:COM  61500.0  63000.0  60000.0  61500.0                 NaN   \n",
       "2019-05-09  LC:COM  61500.0  63000.0  60000.0  61500.0                 NaN   \n",
       "2019-06-09  LC:COM  61500.0  63000.0  60000.0  61500.0                 NaN   \n",
       "2019-09-09  LC:COM  61500.0  63000.0  60000.0  61500.0                 NaN   \n",
       "2019-10-09  LC:COM  61500.0  63000.0  60000.0  61500.0                 NaN   \n",
       "2019-11-09  LC:COM  61500.0  63000.0  60000.0  61500.0                 NaN   \n",
       "2019-12-09  LC:COM  61500.0  63000.0  60000.0  61500.0                 NaN   \n",
       "2019-09-16  LC:COM  61500.0  63000.0  60000.0  61500.0                 NaN   \n",
       "2019-09-17  LC:COM  60000.0  61500.0  58500.0  60000.0                 NaN   \n",
       "2019-09-18  LC:COM  60000.0  61500.0  58500.0  60000.0                 NaN   \n",
       "\n",
       "            Log Diff  Annualized Volatility  \n",
       "Date                                         \n",
       "2019-07-08       NaN                    NaN  \n",
       "2019-08-08  0.000000                    NaN  \n",
       "2019-09-08  0.000000                    NaN  \n",
       "2019-12-08  0.000000                    NaN  \n",
       "2019-08-13 -0.007663                    NaN  \n",
       "2019-08-14  0.000000                    NaN  \n",
       "2019-08-15 -0.007722                    NaN  \n",
       "2019-08-16 -0.007782                    NaN  \n",
       "2019-08-19 -0.007843                    NaN  \n",
       "2019-08-20  0.000000                    NaN  \n",
       "2019-08-21  0.000000                    NaN  \n",
       "2019-08-22 -0.007905                    NaN  \n",
       "2019-08-23 -0.007968                    NaN  \n",
       "2019-08-26  0.000000                    NaN  \n",
       "2019-08-27  0.000000                    NaN  \n",
       "2019-08-28  0.000000                    NaN  \n",
       "2019-08-29 -0.016129                    NaN  \n",
       "2019-08-30  0.000000                    NaN  \n",
       "2019-02-09  0.000000                    NaN  \n",
       "2019-03-09  0.000000                    NaN  \n",
       "2019-04-09  0.000000                    NaN  \n",
       "2019-05-09  0.000000                    NaN  \n",
       "2019-06-09  0.000000                    NaN  \n",
       "2019-09-09  0.000000                    NaN  \n",
       "2019-10-09  0.000000                    NaN  \n",
       "2019-11-09  0.000000                    NaN  \n",
       "2019-12-09  0.000000                    NaN  \n",
       "2019-09-16  0.000000                    NaN  \n",
       "2019-09-17 -0.024693                    NaN  \n",
       "2019-09-18  0.000000                    NaN  "
      ]
     },
     "execution_count": 13,
     "metadata": {},
     "output_type": "execute_result"
    }
   ],
   "source": [
    "result_df.head(30)"
   ]
  },
  {
   "cell_type": "code",
   "execution_count": 15,
   "metadata": {},
   "outputs": [
    {
     "ename": "NameError",
     "evalue": "name 'sns' is not defined",
     "output_type": "error",
     "traceback": [
      "\u001b[0;31m---------------------------------------------------------------------------\u001b[0m",
      "\u001b[0;31mNameError\u001b[0m                                 Traceback (most recent call last)",
      "Cell \u001b[0;32mIn[15], line 10\u001b[0m\n\u001b[1;32m      8\u001b[0m correlation_matrix \u001b[38;5;241m=\u001b[39m close_prices\u001b[38;5;241m.\u001b[39mcorr()\n\u001b[1;32m      9\u001b[0m plt\u001b[38;5;241m.\u001b[39mfigure(figsize\u001b[38;5;241m=\u001b[39m(\u001b[38;5;241m10\u001b[39m, \u001b[38;5;241m8\u001b[39m))\n\u001b[0;32m---> 10\u001b[0m \u001b[43msns\u001b[49m\u001b[38;5;241m.\u001b[39mheatmap(correlation_matrix, annot\u001b[38;5;241m=\u001b[39m\u001b[38;5;28;01mTrue\u001b[39;00m, cmap\u001b[38;5;241m=\u001b[39m\u001b[38;5;124m'\u001b[39m\u001b[38;5;124mcoolwarm\u001b[39m\u001b[38;5;124m'\u001b[39m, fmt\u001b[38;5;241m=\u001b[39m\u001b[38;5;124m\"\u001b[39m\u001b[38;5;124m.2f\u001b[39m\u001b[38;5;124m\"\u001b[39m, linewidths\u001b[38;5;241m=\u001b[39m\u001b[38;5;241m.5\u001b[39m)\n\u001b[1;32m     11\u001b[0m plt\u001b[38;5;241m.\u001b[39mtitle(\u001b[38;5;124m'\u001b[39m\u001b[38;5;124mCorrelation Matrix of Critical Mineral Prices\u001b[39m\u001b[38;5;124m'\u001b[39m)\n\u001b[1;32m     12\u001b[0m plt\u001b[38;5;241m.\u001b[39mshow()\n",
      "\u001b[0;31mNameError\u001b[0m: name 'sns' is not defined"
     ]
    },
    {
     "data": {
      "text/plain": [
       "<Figure size 720x576 with 0 Axes>"
      ]
     },
     "metadata": {},
     "output_type": "display_data"
    }
   ],
   "source": [
    "close_prices = pd.DataFrame(index=raw_df.index.unique())\n",
    "for symbol in symbols:\n",
    "    if symbol in raw_df['Symbol'].unique():\n",
    "        symbol_data = raw_df[raw_df['Symbol'] == symbol]\n",
    "        close_prices[symbol] = symbol_data['Close']\n",
    "\n",
    "close_prices.dropna(inplace=True)\n",
    "correlation_matrix = close_prices.corr()\n",
    "plt.figure(figsize=(10, 8))\n",
    "sns.heatmap(correlation_matrix, annot=True, cmap='coolwarm', fmt=\".2f\", linewidths=.5)\n",
    "plt.title('Correlation Matrix of Critical Mineral Prices')\n",
    "plt.show()"
   ]
  },
  {
   "cell_type": "markdown",
   "metadata": {},
   "source": [
    "Treemap for Critical Mineral Annual Percentage Change"
   ]
  },
  {
   "cell_type": "code",
   "execution_count": 11,
   "metadata": {},
   "outputs": [
    {
     "data": {
      "application/vnd.plotly.v1+json": {
       "config": {
        "plotlyServerURL": "https://plot.ly"
       },
       "data": [
        {
         "branchvalues": "total",
         "customdata": [
          [
           19.6034
          ],
          [
           83.2353
          ],
          [
           -16.5028
          ],
          [
           -8.8243
          ],
          [
           4.0455
          ],
          [
           35.567
          ],
          [
           16.4579
          ],
          [
           -5.2901
          ],
          [
           13.7077
          ],
          [
           1.8966
          ],
          [
           -8.044
          ],
          [
           218.1669
          ],
          [
           26.0972
          ],
          [
           195.9822
          ],
          [
           24.5288
          ],
          [
           -14.472
          ],
          [
           -11.5273
          ],
          [
           4.4375
          ],
          [
           17.2222
          ],
          [
           -18.329
          ],
          [
           -16.3876
          ],
          [
           111.7117
          ],
          [
           -26.9744
          ],
          [
           5.4954
          ],
          [
           -54.6213
          ],
          [
           11.6625
          ],
          [
           41.6918
          ],
          [
           -5.491
          ],
          [
           7.2
          ],
          [
           -24.4625
          ],
          [
           22.3315
          ],
          [
           -14.0101
          ],
          [
           -1.7647
          ],
          [
           105.6856
          ],
          [
           -1.4458
          ],
          [
           12.5928
          ],
          [
           20.517
          ],
          [
           15.7006
          ],
          [
           9.2572
          ],
          [
           10.8572
          ],
          [
           -65.8824
          ],
          [
           5.0629
          ],
          [
           -3.2269
          ],
          [
           -12.0181
          ],
          [
           33.5938
          ],
          [
           25.8714
          ],
          [
           27.7124
          ],
          [
           1.6713
          ],
          [
           5.731
          ],
          [
           13.1237
          ],
          [
           -23.5537
          ],
          [
           -12.5628
          ],
          [
           45.3439
          ],
          [
           2.8515
          ],
          [
           71.4535
          ],
          [
           -33.9714
          ],
          [
           19.8193
          ],
          [
           -0.6075
          ],
          [
           7.0513
          ],
          [
           8.012
          ],
          [
           8.6002
          ],
          [
           30.8725
          ],
          [
           23.0384
          ],
          [
           11.4403
          ],
          [
           12.8175
          ],
          [
           -26.5625
          ],
          [
           19.5376
          ],
          [
           31.3399
          ],
          [
           -18.4645
          ],
          [
           -5.7551
          ],
          [
           32.9226
          ],
          [
           11.2821
          ],
          [
           -33.0048
          ],
          [
           -5.2248
          ],
          [
           -2.4843
          ],
          [
           -5.0164
          ],
          [
           -21.4314
          ],
          [
           9.0833
          ],
          [
           25.6766
          ],
          [
           24.9471
          ],
          [
           0.4219
          ],
          [
           22.2617
          ],
          [
           -4.5847
          ],
          [
           -3.9604
          ],
          [
           26.4627
          ],
          [
           18.3648
          ],
          [
           53.9394
          ],
          [
           0.3373
          ],
          [
           2.698
          ],
          [
           -1.1364
          ],
          [
           -4.6358
          ],
          [
           21.7428
          ],
          [
           21.857413636363635
          ],
          [
           -14.58714
          ],
          [
           11.197099999999997
          ],
          [
           29.74477
          ],
          [
           8.775616666666666
          ],
          [
           14.690012499999998
          ],
          [
           -1.3071111111111107
          ],
          [
           12.80984130434783
          ]
         ],
         "domain": {
          "x": [
           0,
           1
          ],
          "y": [
           0,
           1
          ]
         },
         "hovertemplate": "%{label}<br>Year % Change= %{customdata[0]}%<extra></extra>",
         "ids": [
          "Commodities/Industrial/Aluminum",
          "Commodities/Index/Baltic Dry",
          "Commodities/Livestock/Beef",
          "Commodities/Industrial/Bitumen",
          "Commodities/Energy/Brent",
          "Commodities/Agricultural/Butter",
          "Commodities/Index/CRB ",
          "Commodities/Agricultural/Canola",
          "Commodities/Agricultural/Cheese",
          "Commodities/Energy/Coal",
          "Commodities/Industrial/Cobalt",
          "Commodities/Agricultural/Cocoa",
          "Commodities/Agricultural/Coffee",
          "Commodities/Index/Containerized Freight ",
          "Commodities/Metals/Copper",
          "Commodities/Agricultural/Corn",
          "Commodities/Agricultural/Cotton",
          "Commodities/Energy/Crude Oil",
          "Commodities/Industrial/Di-ammonium",
          "Commodities/Index/EU Carbon Permits",
          "Commodities/Livestock/Eggs CH",
          "Commodities/Livestock/Eggs US",
          "Commodities/Energy/Ethanol",
          "Commodities/Livestock/Feeder Cattle",
          "Commodities/Electricity/France Electricity",
          "Commodities/Index/GSCI",
          "Commodities/Industrial/Gallium",
          "Commodities/Energy/Gasoline",
          "Commodities/Industrial/Germanium",
          "Commodities/Electricity/Germany Electricity",
          "Commodities/Metals/Gold",
          "Commodities/Metals/HRC Steel",
          "Commodities/Energy/Heating Oil",
          "Commodities/Industrial/Indium",
          "Commodities/Metals/Iron Ore",
          "Commodities/Electricity/Italy Electricity",
          "Commodities/Industrial/Kraft Pulp",
          "Commodities/Index/LME ",
          "Commodities/Industrial/Lead",
          "Commodities/Livestock/Lean Hogs",
          "Commodities/Metals/Lithium",
          "Commodities/Livestock/Live Cattle",
          "Commodities/Agricultural/Lumber",
          "Commodities/Industrial/Magnesium",
          "Commodities/Industrial/Manganese",
          "Commodities/Energy/Methanol",
          "Commodities/Agricultural/Milk",
          "Commodities/Industrial/Molybdenum",
          "Commodities/Energy/Naphtha",
          "Commodities/Energy/Natural gas",
          "Commodities/Industrial/Neodymium",
          "Commodities/Industrial/Nickel",
          "Commodities/Index/Nuclear Energy ",
          "Commodities/Agricultural/Oat",
          "Commodities/Agricultural/Orange Juice",
          "Commodities/Industrial/Palladium",
          "Commodities/Agricultural/Palm Oil",
          "Commodities/Metals/Platinum",
          "Commodities/Industrial/Polyethylene",
          "Commodities/Industrial/Polypropylene",
          "Commodities/Industrial/Polyvinyl",
          "Commodities/Agricultural/Potatoes",
          "Commodities/Livestock/Poultry",
          "Commodities/Energy/Propane",
          "Commodities/Agricultural/Rapeseed",
          "Commodities/Industrial/Rhodium",
          "Commodities/Agricultural/Rice",
          "Commodities/Agricultural/Rubber",
          "Commodities/Index/SSE Consume Commodity ",
          "Commodities/Livestock/Salmon",
          "Commodities/Metals/Silver",
          "Commodities/Industrial/Soda Ash",
          "Commodities/Index/Solar Energy ",
          "Commodities/Agricultural/Soybeans",
          "Commodities/Electricity/Spain Electricity",
          "Commodities/Metals/Steel",
          "Commodities/Agricultural/Sugar",
          "Commodities/Agricultural/Sunflower Oil",
          "Commodities/Energy/TTF Gas",
          "Commodities/Agricultural/Tea",
          "Commodities/Industrial/Tellurium",
          "Commodities/Industrial/Tin",
          "Commodities/Metals/Titanium",
          "Commodities/Electricity/UK Electricity",
          "Commodities/Energy/UK Gas",
          "Commodities/Energy/Urals Oil",
          "Commodities/Energy/Uranium",
          "Commodities/Industrial/Urea",
          "Commodities/Agricultural/Wheat",
          "Commodities/Index/Wind Energy ",
          "Commodities/Agricultural/Wool",
          "Commodities/Industrial/Zinc",
          "Commodities/Agricultural",
          "Commodities/Electricity",
          "Commodities/Energy",
          "Commodities/Index",
          "Commodities/Industrial",
          "Commodities/Livestock",
          "Commodities/Metals",
          "Commodities"
         ],
         "labels": [
          "Aluminum",
          "Baltic Dry",
          "Beef",
          "Bitumen",
          "Brent",
          "Butter",
          "CRB ",
          "Canola",
          "Cheese",
          "Coal",
          "Cobalt",
          "Cocoa",
          "Coffee",
          "Containerized Freight ",
          "Copper",
          "Corn",
          "Cotton",
          "Crude Oil",
          "Di-ammonium",
          "EU Carbon Permits",
          "Eggs CH",
          "Eggs US",
          "Ethanol",
          "Feeder Cattle",
          "France Electricity",
          "GSCI",
          "Gallium",
          "Gasoline",
          "Germanium",
          "Germany Electricity",
          "Gold",
          "HRC Steel",
          "Heating Oil",
          "Indium",
          "Iron Ore",
          "Italy Electricity",
          "Kraft Pulp",
          "LME ",
          "Lead",
          "Lean Hogs",
          "Lithium",
          "Live Cattle",
          "Lumber",
          "Magnesium",
          "Manganese",
          "Methanol",
          "Milk",
          "Molybdenum",
          "Naphtha",
          "Natural gas",
          "Neodymium",
          "Nickel",
          "Nuclear Energy ",
          "Oat",
          "Orange Juice",
          "Palladium",
          "Palm Oil",
          "Platinum",
          "Polyethylene",
          "Polypropylene",
          "Polyvinyl",
          "Potatoes",
          "Poultry",
          "Propane",
          "Rapeseed",
          "Rhodium",
          "Rice",
          "Rubber",
          "SSE Consume Commodity ",
          "Salmon",
          "Silver",
          "Soda Ash",
          "Solar Energy ",
          "Soybeans",
          "Spain Electricity",
          "Steel",
          "Sugar",
          "Sunflower Oil",
          "TTF Gas",
          "Tea",
          "Tellurium",
          "Tin",
          "Titanium",
          "UK Electricity",
          "UK Gas",
          "Urals Oil",
          "Uranium",
          "Urea",
          "Wheat",
          "Wind Energy ",
          "Wool",
          "Zinc",
          "Agricultural",
          "Electricity",
          "Energy",
          "Index",
          "Industrial",
          "Livestock",
          "Metals",
          "Commodities"
         ],
         "marker": {
          "coloraxis": "coloraxis",
          "colors": [
           19.6034,
           83.2353,
           -16.5028,
           -8.8243,
           4.0455,
           35.567,
           16.4579,
           -5.2901,
           13.7077,
           1.8966,
           -8.044,
           218.1669,
           26.0972,
           195.9822,
           24.5288,
           -14.472,
           -11.5273,
           4.4375,
           17.2222,
           -18.329,
           -16.3876,
           111.7117,
           -26.9744,
           5.4954,
           -54.6213,
           11.6625,
           41.6918,
           -5.491,
           7.2,
           -24.4625,
           22.3315,
           -14.0101,
           -1.7647,
           105.6856,
           -1.4458,
           12.5928,
           20.517,
           15.7006,
           9.2572,
           10.8572,
           -65.8824,
           5.0629,
           -3.2269,
           -12.0181,
           33.5938,
           25.8714,
           27.7124,
           1.6713,
           5.731,
           13.1237,
           -23.5537,
           -12.5628,
           45.3439,
           2.8515,
           71.4535,
           -33.9714,
           19.8193,
           -0.6075,
           7.0513,
           8.012,
           8.6002,
           30.8725,
           23.0384,
           11.4403,
           12.8175,
           -26.5625,
           19.5376,
           31.3399,
           -18.4645,
           -5.7551,
           32.9226,
           11.2821,
           -33.0048,
           -5.2248,
           -2.4843,
           -5.0164,
           -21.4314,
           9.0833,
           25.6766,
           24.9471,
           0.4219,
           22.2617,
           -4.5847,
           -3.9604,
           26.4627,
           18.3648,
           53.9394,
           0.3373,
           2.698,
           -1.1364,
           -4.6358,
           21.7428,
           21.857413636363635,
           -14.58714,
           11.197099999999997,
           29.74477,
           8.775616666666666,
           14.690012499999998,
           -1.3071111111111107,
           12.80984130434783
          ]
         },
         "name": "",
         "parents": [
          "Commodities/Industrial",
          "Commodities/Index",
          "Commodities/Livestock",
          "Commodities/Industrial",
          "Commodities/Energy",
          "Commodities/Agricultural",
          "Commodities/Index",
          "Commodities/Agricultural",
          "Commodities/Agricultural",
          "Commodities/Energy",
          "Commodities/Industrial",
          "Commodities/Agricultural",
          "Commodities/Agricultural",
          "Commodities/Index",
          "Commodities/Metals",
          "Commodities/Agricultural",
          "Commodities/Agricultural",
          "Commodities/Energy",
          "Commodities/Industrial",
          "Commodities/Index",
          "Commodities/Livestock",
          "Commodities/Livestock",
          "Commodities/Energy",
          "Commodities/Livestock",
          "Commodities/Electricity",
          "Commodities/Index",
          "Commodities/Industrial",
          "Commodities/Energy",
          "Commodities/Industrial",
          "Commodities/Electricity",
          "Commodities/Metals",
          "Commodities/Metals",
          "Commodities/Energy",
          "Commodities/Industrial",
          "Commodities/Metals",
          "Commodities/Electricity",
          "Commodities/Industrial",
          "Commodities/Index",
          "Commodities/Industrial",
          "Commodities/Livestock",
          "Commodities/Metals",
          "Commodities/Livestock",
          "Commodities/Agricultural",
          "Commodities/Industrial",
          "Commodities/Industrial",
          "Commodities/Energy",
          "Commodities/Agricultural",
          "Commodities/Industrial",
          "Commodities/Energy",
          "Commodities/Energy",
          "Commodities/Industrial",
          "Commodities/Industrial",
          "Commodities/Index",
          "Commodities/Agricultural",
          "Commodities/Agricultural",
          "Commodities/Industrial",
          "Commodities/Agricultural",
          "Commodities/Metals",
          "Commodities/Industrial",
          "Commodities/Industrial",
          "Commodities/Industrial",
          "Commodities/Agricultural",
          "Commodities/Livestock",
          "Commodities/Energy",
          "Commodities/Agricultural",
          "Commodities/Industrial",
          "Commodities/Agricultural",
          "Commodities/Agricultural",
          "Commodities/Index",
          "Commodities/Livestock",
          "Commodities/Metals",
          "Commodities/Industrial",
          "Commodities/Index",
          "Commodities/Agricultural",
          "Commodities/Electricity",
          "Commodities/Metals",
          "Commodities/Agricultural",
          "Commodities/Agricultural",
          "Commodities/Energy",
          "Commodities/Agricultural",
          "Commodities/Industrial",
          "Commodities/Industrial",
          "Commodities/Metals",
          "Commodities/Electricity",
          "Commodities/Energy",
          "Commodities/Energy",
          "Commodities/Energy",
          "Commodities/Industrial",
          "Commodities/Agricultural",
          "Commodities/Index",
          "Commodities/Agricultural",
          "Commodities/Industrial",
          "Commodities",
          "Commodities",
          "Commodities",
          "Commodities",
          "Commodities",
          "Commodities",
          "Commodities",
          ""
         ],
         "type": "treemap",
         "values": [
          1,
          1,
          1,
          1,
          1,
          1,
          1,
          1,
          1,
          1,
          1,
          1,
          1,
          1,
          1,
          1,
          1,
          1,
          1,
          1,
          1,
          1,
          1,
          1,
          1,
          1,
          1,
          1,
          1,
          1,
          1,
          1,
          1,
          1,
          1,
          1,
          1,
          1,
          1,
          1,
          1,
          1,
          1,
          1,
          1,
          1,
          1,
          1,
          1,
          1,
          1,
          1,
          1,
          1,
          1,
          1,
          1,
          1,
          1,
          1,
          1,
          1,
          1,
          1,
          1,
          1,
          1,
          1,
          1,
          1,
          1,
          1,
          1,
          1,
          1,
          1,
          1,
          1,
          1,
          1,
          1,
          1,
          1,
          1,
          1,
          1,
          1,
          1,
          1,
          1,
          1,
          1,
          22,
          5,
          14,
          10,
          24,
          8,
          9,
          92
         ]
        }
       ],
       "layout": {
        "autosize": false,
        "coloraxis": {
         "cmid": 0,
         "colorbar": {
          "title": {
           "text": "Year%Change"
          }
         },
         "colorscale": [
          [
           0,
           "rgb(165,0,38)"
          ],
          [
           0.1,
           "rgb(215,48,39)"
          ],
          [
           0.2,
           "rgb(244,109,67)"
          ],
          [
           0.3,
           "rgb(253,174,97)"
          ],
          [
           0.4,
           "rgb(254,224,139)"
          ],
          [
           0.5,
           "rgb(255,255,191)"
          ],
          [
           0.6,
           "rgb(217,239,139)"
          ],
          [
           0.7,
           "rgb(166,217,106)"
          ],
          [
           0.8,
           "rgb(102,189,99)"
          ],
          [
           0.9,
           "rgb(26,152,80)"
          ],
          [
           1,
           "rgb(0,104,55)"
          ]
         ]
        },
        "height": 700,
        "legend": {
         "tracegroupgap": 0
        },
        "margin": {
         "b": 0,
         "l": 0,
         "r": 0,
         "t": 0
        },
        "template": {
         "data": {
          "bar": [
           {
            "error_x": {
             "color": "#2a3f5f"
            },
            "error_y": {
             "color": "#2a3f5f"
            },
            "marker": {
             "line": {
              "color": "#E5ECF6",
              "width": 0.5
             },
             "pattern": {
              "fillmode": "overlay",
              "size": 10,
              "solidity": 0.2
             }
            },
            "type": "bar"
           }
          ],
          "barpolar": [
           {
            "marker": {
             "line": {
              "color": "#E5ECF6",
              "width": 0.5
             },
             "pattern": {
              "fillmode": "overlay",
              "size": 10,
              "solidity": 0.2
             }
            },
            "type": "barpolar"
           }
          ],
          "carpet": [
           {
            "aaxis": {
             "endlinecolor": "#2a3f5f",
             "gridcolor": "white",
             "linecolor": "white",
             "minorgridcolor": "white",
             "startlinecolor": "#2a3f5f"
            },
            "baxis": {
             "endlinecolor": "#2a3f5f",
             "gridcolor": "white",
             "linecolor": "white",
             "minorgridcolor": "white",
             "startlinecolor": "#2a3f5f"
            },
            "type": "carpet"
           }
          ],
          "choropleth": [
           {
            "colorbar": {
             "outlinewidth": 0,
             "ticks": ""
            },
            "type": "choropleth"
           }
          ],
          "contour": [
           {
            "colorbar": {
             "outlinewidth": 0,
             "ticks": ""
            },
            "colorscale": [
             [
              0,
              "#0d0887"
             ],
             [
              0.1111111111111111,
              "#46039f"
             ],
             [
              0.2222222222222222,
              "#7201a8"
             ],
             [
              0.3333333333333333,
              "#9c179e"
             ],
             [
              0.4444444444444444,
              "#bd3786"
             ],
             [
              0.5555555555555556,
              "#d8576b"
             ],
             [
              0.6666666666666666,
              "#ed7953"
             ],
             [
              0.7777777777777778,
              "#fb9f3a"
             ],
             [
              0.8888888888888888,
              "#fdca26"
             ],
             [
              1,
              "#f0f921"
             ]
            ],
            "type": "contour"
           }
          ],
          "contourcarpet": [
           {
            "colorbar": {
             "outlinewidth": 0,
             "ticks": ""
            },
            "type": "contourcarpet"
           }
          ],
          "heatmap": [
           {
            "colorbar": {
             "outlinewidth": 0,
             "ticks": ""
            },
            "colorscale": [
             [
              0,
              "#0d0887"
             ],
             [
              0.1111111111111111,
              "#46039f"
             ],
             [
              0.2222222222222222,
              "#7201a8"
             ],
             [
              0.3333333333333333,
              "#9c179e"
             ],
             [
              0.4444444444444444,
              "#bd3786"
             ],
             [
              0.5555555555555556,
              "#d8576b"
             ],
             [
              0.6666666666666666,
              "#ed7953"
             ],
             [
              0.7777777777777778,
              "#fb9f3a"
             ],
             [
              0.8888888888888888,
              "#fdca26"
             ],
             [
              1,
              "#f0f921"
             ]
            ],
            "type": "heatmap"
           }
          ],
          "heatmapgl": [
           {
            "colorbar": {
             "outlinewidth": 0,
             "ticks": ""
            },
            "colorscale": [
             [
              0,
              "#0d0887"
             ],
             [
              0.1111111111111111,
              "#46039f"
             ],
             [
              0.2222222222222222,
              "#7201a8"
             ],
             [
              0.3333333333333333,
              "#9c179e"
             ],
             [
              0.4444444444444444,
              "#bd3786"
             ],
             [
              0.5555555555555556,
              "#d8576b"
             ],
             [
              0.6666666666666666,
              "#ed7953"
             ],
             [
              0.7777777777777778,
              "#fb9f3a"
             ],
             [
              0.8888888888888888,
              "#fdca26"
             ],
             [
              1,
              "#f0f921"
             ]
            ],
            "type": "heatmapgl"
           }
          ],
          "histogram": [
           {
            "marker": {
             "pattern": {
              "fillmode": "overlay",
              "size": 10,
              "solidity": 0.2
             }
            },
            "type": "histogram"
           }
          ],
          "histogram2d": [
           {
            "colorbar": {
             "outlinewidth": 0,
             "ticks": ""
            },
            "colorscale": [
             [
              0,
              "#0d0887"
             ],
             [
              0.1111111111111111,
              "#46039f"
             ],
             [
              0.2222222222222222,
              "#7201a8"
             ],
             [
              0.3333333333333333,
              "#9c179e"
             ],
             [
              0.4444444444444444,
              "#bd3786"
             ],
             [
              0.5555555555555556,
              "#d8576b"
             ],
             [
              0.6666666666666666,
              "#ed7953"
             ],
             [
              0.7777777777777778,
              "#fb9f3a"
             ],
             [
              0.8888888888888888,
              "#fdca26"
             ],
             [
              1,
              "#f0f921"
             ]
            ],
            "type": "histogram2d"
           }
          ],
          "histogram2dcontour": [
           {
            "colorbar": {
             "outlinewidth": 0,
             "ticks": ""
            },
            "colorscale": [
             [
              0,
              "#0d0887"
             ],
             [
              0.1111111111111111,
              "#46039f"
             ],
             [
              0.2222222222222222,
              "#7201a8"
             ],
             [
              0.3333333333333333,
              "#9c179e"
             ],
             [
              0.4444444444444444,
              "#bd3786"
             ],
             [
              0.5555555555555556,
              "#d8576b"
             ],
             [
              0.6666666666666666,
              "#ed7953"
             ],
             [
              0.7777777777777778,
              "#fb9f3a"
             ],
             [
              0.8888888888888888,
              "#fdca26"
             ],
             [
              1,
              "#f0f921"
             ]
            ],
            "type": "histogram2dcontour"
           }
          ],
          "mesh3d": [
           {
            "colorbar": {
             "outlinewidth": 0,
             "ticks": ""
            },
            "type": "mesh3d"
           }
          ],
          "parcoords": [
           {
            "line": {
             "colorbar": {
              "outlinewidth": 0,
              "ticks": ""
             }
            },
            "type": "parcoords"
           }
          ],
          "pie": [
           {
            "automargin": true,
            "type": "pie"
           }
          ],
          "scatter": [
           {
            "fillpattern": {
             "fillmode": "overlay",
             "size": 10,
             "solidity": 0.2
            },
            "type": "scatter"
           }
          ],
          "scatter3d": [
           {
            "line": {
             "colorbar": {
              "outlinewidth": 0,
              "ticks": ""
             }
            },
            "marker": {
             "colorbar": {
              "outlinewidth": 0,
              "ticks": ""
             }
            },
            "type": "scatter3d"
           }
          ],
          "scattercarpet": [
           {
            "marker": {
             "colorbar": {
              "outlinewidth": 0,
              "ticks": ""
             }
            },
            "type": "scattercarpet"
           }
          ],
          "scattergeo": [
           {
            "marker": {
             "colorbar": {
              "outlinewidth": 0,
              "ticks": ""
             }
            },
            "type": "scattergeo"
           }
          ],
          "scattergl": [
           {
            "marker": {
             "colorbar": {
              "outlinewidth": 0,
              "ticks": ""
             }
            },
            "type": "scattergl"
           }
          ],
          "scattermapbox": [
           {
            "marker": {
             "colorbar": {
              "outlinewidth": 0,
              "ticks": ""
             }
            },
            "type": "scattermapbox"
           }
          ],
          "scatterpolar": [
           {
            "marker": {
             "colorbar": {
              "outlinewidth": 0,
              "ticks": ""
             }
            },
            "type": "scatterpolar"
           }
          ],
          "scatterpolargl": [
           {
            "marker": {
             "colorbar": {
              "outlinewidth": 0,
              "ticks": ""
             }
            },
            "type": "scatterpolargl"
           }
          ],
          "scatterternary": [
           {
            "marker": {
             "colorbar": {
              "outlinewidth": 0,
              "ticks": ""
             }
            },
            "type": "scatterternary"
           }
          ],
          "surface": [
           {
            "colorbar": {
             "outlinewidth": 0,
             "ticks": ""
            },
            "colorscale": [
             [
              0,
              "#0d0887"
             ],
             [
              0.1111111111111111,
              "#46039f"
             ],
             [
              0.2222222222222222,
              "#7201a8"
             ],
             [
              0.3333333333333333,
              "#9c179e"
             ],
             [
              0.4444444444444444,
              "#bd3786"
             ],
             [
              0.5555555555555556,
              "#d8576b"
             ],
             [
              0.6666666666666666,
              "#ed7953"
             ],
             [
              0.7777777777777778,
              "#fb9f3a"
             ],
             [
              0.8888888888888888,
              "#fdca26"
             ],
             [
              1,
              "#f0f921"
             ]
            ],
            "type": "surface"
           }
          ],
          "table": [
           {
            "cells": {
             "fill": {
              "color": "#EBF0F8"
             },
             "line": {
              "color": "white"
             }
            },
            "header": {
             "fill": {
              "color": "#C8D4E3"
             },
             "line": {
              "color": "white"
             }
            },
            "type": "table"
           }
          ]
         },
         "layout": {
          "annotationdefaults": {
           "arrowcolor": "#2a3f5f",
           "arrowhead": 0,
           "arrowwidth": 1
          },
          "autotypenumbers": "strict",
          "coloraxis": {
           "colorbar": {
            "outlinewidth": 0,
            "ticks": ""
           }
          },
          "colorscale": {
           "diverging": [
            [
             0,
             "#8e0152"
            ],
            [
             0.1,
             "#c51b7d"
            ],
            [
             0.2,
             "#de77ae"
            ],
            [
             0.3,
             "#f1b6da"
            ],
            [
             0.4,
             "#fde0ef"
            ],
            [
             0.5,
             "#f7f7f7"
            ],
            [
             0.6,
             "#e6f5d0"
            ],
            [
             0.7,
             "#b8e186"
            ],
            [
             0.8,
             "#7fbc41"
            ],
            [
             0.9,
             "#4d9221"
            ],
            [
             1,
             "#276419"
            ]
           ],
           "sequential": [
            [
             0,
             "#0d0887"
            ],
            [
             0.1111111111111111,
             "#46039f"
            ],
            [
             0.2222222222222222,
             "#7201a8"
            ],
            [
             0.3333333333333333,
             "#9c179e"
            ],
            [
             0.4444444444444444,
             "#bd3786"
            ],
            [
             0.5555555555555556,
             "#d8576b"
            ],
            [
             0.6666666666666666,
             "#ed7953"
            ],
            [
             0.7777777777777778,
             "#fb9f3a"
            ],
            [
             0.8888888888888888,
             "#fdca26"
            ],
            [
             1,
             "#f0f921"
            ]
           ],
           "sequentialminus": [
            [
             0,
             "#0d0887"
            ],
            [
             0.1111111111111111,
             "#46039f"
            ],
            [
             0.2222222222222222,
             "#7201a8"
            ],
            [
             0.3333333333333333,
             "#9c179e"
            ],
            [
             0.4444444444444444,
             "#bd3786"
            ],
            [
             0.5555555555555556,
             "#d8576b"
            ],
            [
             0.6666666666666666,
             "#ed7953"
            ],
            [
             0.7777777777777778,
             "#fb9f3a"
            ],
            [
             0.8888888888888888,
             "#fdca26"
            ],
            [
             1,
             "#f0f921"
            ]
           ]
          },
          "colorway": [
           "#636efa",
           "#EF553B",
           "#00cc96",
           "#ab63fa",
           "#FFA15A",
           "#19d3f3",
           "#FF6692",
           "#B6E880",
           "#FF97FF",
           "#FECB52"
          ],
          "font": {
           "color": "#2a3f5f"
          },
          "geo": {
           "bgcolor": "white",
           "lakecolor": "white",
           "landcolor": "#E5ECF6",
           "showlakes": true,
           "showland": true,
           "subunitcolor": "white"
          },
          "hoverlabel": {
           "align": "left"
          },
          "hovermode": "closest",
          "mapbox": {
           "style": "light"
          },
          "paper_bgcolor": "white",
          "plot_bgcolor": "#E5ECF6",
          "polar": {
           "angularaxis": {
            "gridcolor": "white",
            "linecolor": "white",
            "ticks": ""
           },
           "bgcolor": "#E5ECF6",
           "radialaxis": {
            "gridcolor": "white",
            "linecolor": "white",
            "ticks": ""
           }
          },
          "scene": {
           "xaxis": {
            "backgroundcolor": "#E5ECF6",
            "gridcolor": "white",
            "gridwidth": 2,
            "linecolor": "white",
            "showbackground": true,
            "ticks": "",
            "zerolinecolor": "white"
           },
           "yaxis": {
            "backgroundcolor": "#E5ECF6",
            "gridcolor": "white",
            "gridwidth": 2,
            "linecolor": "white",
            "showbackground": true,
            "ticks": "",
            "zerolinecolor": "white"
           },
           "zaxis": {
            "backgroundcolor": "#E5ECF6",
            "gridcolor": "white",
            "gridwidth": 2,
            "linecolor": "white",
            "showbackground": true,
            "ticks": "",
            "zerolinecolor": "white"
           }
          },
          "shapedefaults": {
           "line": {
            "color": "#2a3f5f"
           }
          },
          "ternary": {
           "aaxis": {
            "gridcolor": "white",
            "linecolor": "white",
            "ticks": ""
           },
           "baxis": {
            "gridcolor": "white",
            "linecolor": "white",
            "ticks": ""
           },
           "bgcolor": "#E5ECF6",
           "caxis": {
            "gridcolor": "white",
            "linecolor": "white",
            "ticks": ""
           }
          },
          "title": {
           "x": 0.05
          },
          "xaxis": {
           "automargin": true,
           "gridcolor": "white",
           "linecolor": "white",
           "ticks": "",
           "title": {
            "standoff": 15
           },
           "zerolinecolor": "white",
           "zerolinewidth": 2
          },
          "yaxis": {
           "automargin": true,
           "gridcolor": "white",
           "linecolor": "white",
           "ticks": "",
           "title": {
            "standoff": 15
           },
           "zerolinecolor": "white",
           "zerolinewidth": 2
          }
         }
        },
        "width": 1200
       }
      }
     },
     "metadata": {},
     "output_type": "display_data"
    }
   ],
   "source": [
    "commodities_data = te.getMarketsData(marketsField='commodities', output_type='df') \n",
    "commodities = commodities_data.rename(columns={'YearlyPercentualChange': 'Year%Change'})\n",
    "commodities['Name'] = commodities['Name'].str.replace(\"Index\", \"\")\n",
    "fig = px.treemap(commodities, path=[px.Constant(\"Commodities\"),'Group', 'Name'], color='Year%Change', color_continuous_scale='rdylgn',color_continuous_midpoint=0)\n",
    "fig.update_layout(\n",
    "    margin = dict(t=0, l=0, r=0, b=0),autosize=False,\n",
    "    width=1200,\n",
    "    height=700\n",
    ")\n",
    "fig.update_traces(hovertemplate='%{label}<br>Year % Change= %{customdata[0]}%<extra></extra>')\n",
    "fig.show()"
   ]
  },
  {
   "cell_type": "code",
   "execution_count": 72,
   "metadata": {},
   "outputs": [],
   "source": [
    "# critical_minerals = [\n",
    "#     'Iron Ore',  # Assuming 'Iron Ore' maps to 'SCO:COM'\n",
    "#     'Steel',     # Assuming 'Steel' maps to 'JBP:COM'\n",
    "#     'Aluminum',  # Assuming 'Aluminum' maps to 'LMAHDS03:COM'\n",
    "#     'Lithium',   # Assuming 'Lithium' maps to 'LC:COM'\n",
    "#     'Cobalt',    # Assuming 'Cobalt' maps to 'LCO1:COM'\n",
    "#     'Nickel',    # Assuming 'Nickel' maps to 'LN1:COM'\n",
    "#     'Copper',    # Assuming 'Copper' maps to 'HG1:COM'\n",
    "#     'Manganese'  # Assuming 'Manganese' maps to 'IMR:COM'\n",
    "# ]\n",
    "\n",
    "# filtered_commodities = commodities[commodities['Name'].isin(critical_minerals)]\n",
    "# # Create a treemap visualization\n",
    "# fig_cm = px.treemap(\n",
    "#     filtered_commodities,\n",
    "#     path=[px.Constant(\"Commodities\"), 'Group', 'Name'],\n",
    "#     color='Year%Change',\n",
    "#     color_continuous_scale='RdYlGn',\n",
    "#     color_continuous_midpoint=0\n",
    "# )\n",
    "# fig_cm.update_traces(hovertemplate='%{label}<br>Year % Change= %{customdata[0]}%<extra></extra>')\n",
    "# fig_cm.show()\n"
   ]
  }
 ],
 "metadata": {
  "kernelspec": {
   "display_name": "base",
   "language": "python",
   "name": "python3"
  },
  "language_info": {
   "codemirror_mode": {
    "name": "ipython",
    "version": 3
   },
   "file_extension": ".py",
   "mimetype": "text/x-python",
   "name": "python",
   "nbconvert_exporter": "python",
   "pygments_lexer": "ipython3",
   "version": "3.9.7"
  }
 },
 "nbformat": 4,
 "nbformat_minor": 2
}
